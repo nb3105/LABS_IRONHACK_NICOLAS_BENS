{
 "cells": [
  {
   "cell_type": "code",
   "execution_count": 16,
   "id": "d1151afd",
   "metadata": {
    "scrolled": true
   },
   "outputs": [
    {
     "data": {
      "text/plain": [
       "0     NaN\n",
       "1     NaN\n",
       "2     NaN\n",
       "3     NaN\n",
       "4     NaN\n",
       "5     NaN\n",
       "6     NaN\n",
       "7     NaN\n",
       "8     NaN\n",
       "9     NaN\n",
       "10    NaN\n",
       "11    NaN\n",
       "12    NaN\n",
       "13    NaN\n",
       "14    NaN\n",
       "15    NaN\n",
       "16    NaN\n",
       "17    NaN\n",
       "18    NaN\n",
       "19    NaN\n",
       "20    NaN\n",
       "21    NaN\n",
       "22    NaN\n",
       "23    NaN\n",
       "24    NaN\n",
       "25    NaN\n",
       "26    NaN\n",
       "27    NaN\n",
       "28    NaN\n",
       "29    NaN\n",
       "30    NaN\n",
       "31    NaN\n",
       "32    NaN\n",
       "33    NaN\n",
       "34    NaN\n",
       "35    NaN\n",
       "36    NaN\n",
       "37    NaN\n",
       "38    NaN\n",
       "39    NaN\n",
       "40    NaN\n",
       "41    NaN\n",
       "42    NaN\n",
       "43    NaN\n",
       "44    NaN\n",
       "45    NaN\n",
       "46    NaN\n",
       "47    NaN\n",
       "48    NaN\n",
       "49    NaN\n",
       "Name: Case Number, dtype: object"
      ]
     },
     "execution_count": 16,
     "metadata": {},
     "output_type": "execute_result"
    }
   ],
   "source": [
    "import pandas as pd\n",
    "import numpy as np\n",
    "import statistics\n",
    "\n",
    "df = pd.read_excel(r\"C:\\Users\\41791\\Documents\\GitHub\\LABS_IRONHACK_NICOLAS_BENS\\Week 2\\Shark Attack\\GSAF5.xls\")\n",
    "\n",
    "df = df.replace(\"\", np.nan, regex=True)\n",
    "\n",
    "df[\"Case Number\"].head(50)"
   ]
  },
  {
   "cell_type": "code",
   "execution_count": null,
   "id": "4d484495",
   "metadata": {},
   "outputs": [],
   "source": []
  },
  {
   "cell_type": "code",
   "execution_count": null,
   "id": "0696a39e",
   "metadata": {},
   "outputs": [],
   "source": []
  },
  {
   "cell_type": "code",
   "execution_count": null,
   "id": "759159ee",
   "metadata": {},
   "outputs": [],
   "source": []
  }
 ],
 "metadata": {
  "kernelspec": {
   "display_name": "Python 3 (ipykernel)",
   "language": "python",
   "name": "python3"
  },
  "language_info": {
   "codemirror_mode": {
    "name": "ipython",
    "version": 3
   },
   "file_extension": ".py",
   "mimetype": "text/x-python",
   "name": "python",
   "nbconvert_exporter": "python",
   "pygments_lexer": "ipython3",
   "version": "3.11.5"
  }
 },
 "nbformat": 4,
 "nbformat_minor": 5
}
