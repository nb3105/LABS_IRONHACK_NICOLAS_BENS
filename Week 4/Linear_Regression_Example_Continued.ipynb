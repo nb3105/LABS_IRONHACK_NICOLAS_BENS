{
 "cells": [
  {
   "cell_type": "code",
   "execution_count": 1,
   "id": "2a662b6a",
   "metadata": {},
   "outputs": [],
   "source": [
    "import seaborn as sns\n",
    "import pandas as pd"
   ]
  },
  {
   "cell_type": "code",
   "execution_count": 2,
   "id": "8dfa6796",
   "metadata": {},
   "outputs": [],
   "source": [
    "p_df = sns.load_dataset('penguins')"
   ]
  },
  {
   "cell_type": "code",
   "execution_count": 3,
   "id": "844aa292",
   "metadata": {},
   "outputs": [
    {
     "data": {
      "text/html": [
       "<div>\n",
       "<style scoped>\n",
       "    .dataframe tbody tr th:only-of-type {\n",
       "        vertical-align: middle;\n",
       "    }\n",
       "\n",
       "    .dataframe tbody tr th {\n",
       "        vertical-align: top;\n",
       "    }\n",
       "\n",
       "    .dataframe thead th {\n",
       "        text-align: right;\n",
       "    }\n",
       "</style>\n",
       "<table border=\"1\" class=\"dataframe\">\n",
       "  <thead>\n",
       "    <tr style=\"text-align: right;\">\n",
       "      <th></th>\n",
       "      <th>species</th>\n",
       "      <th>island</th>\n",
       "      <th>bill_length_mm</th>\n",
       "      <th>bill_depth_mm</th>\n",
       "      <th>flipper_length_mm</th>\n",
       "      <th>body_mass_g</th>\n",
       "      <th>sex</th>\n",
       "    </tr>\n",
       "  </thead>\n",
       "  <tbody>\n",
       "    <tr>\n",
       "      <th>0</th>\n",
       "      <td>Adelie</td>\n",
       "      <td>Torgersen</td>\n",
       "      <td>39.1</td>\n",
       "      <td>18.7</td>\n",
       "      <td>181.0</td>\n",
       "      <td>3750.0</td>\n",
       "      <td>Male</td>\n",
       "    </tr>\n",
       "    <tr>\n",
       "      <th>1</th>\n",
       "      <td>Adelie</td>\n",
       "      <td>Torgersen</td>\n",
       "      <td>39.5</td>\n",
       "      <td>17.4</td>\n",
       "      <td>186.0</td>\n",
       "      <td>3800.0</td>\n",
       "      <td>Female</td>\n",
       "    </tr>\n",
       "    <tr>\n",
       "      <th>2</th>\n",
       "      <td>Adelie</td>\n",
       "      <td>Torgersen</td>\n",
       "      <td>40.3</td>\n",
       "      <td>18.0</td>\n",
       "      <td>195.0</td>\n",
       "      <td>3250.0</td>\n",
       "      <td>Female</td>\n",
       "    </tr>\n",
       "    <tr>\n",
       "      <th>3</th>\n",
       "      <td>Adelie</td>\n",
       "      <td>Torgersen</td>\n",
       "      <td>NaN</td>\n",
       "      <td>NaN</td>\n",
       "      <td>NaN</td>\n",
       "      <td>NaN</td>\n",
       "      <td>NaN</td>\n",
       "    </tr>\n",
       "    <tr>\n",
       "      <th>4</th>\n",
       "      <td>Adelie</td>\n",
       "      <td>Torgersen</td>\n",
       "      <td>36.7</td>\n",
       "      <td>19.3</td>\n",
       "      <td>193.0</td>\n",
       "      <td>3450.0</td>\n",
       "      <td>Female</td>\n",
       "    </tr>\n",
       "  </tbody>\n",
       "</table>\n",
       "</div>"
      ],
      "text/plain": [
       "  species     island  bill_length_mm  bill_depth_mm  flipper_length_mm  \\\n",
       "0  Adelie  Torgersen            39.1           18.7              181.0   \n",
       "1  Adelie  Torgersen            39.5           17.4              186.0   \n",
       "2  Adelie  Torgersen            40.3           18.0              195.0   \n",
       "3  Adelie  Torgersen             NaN            NaN                NaN   \n",
       "4  Adelie  Torgersen            36.7           19.3              193.0   \n",
       "\n",
       "   body_mass_g     sex  \n",
       "0       3750.0    Male  \n",
       "1       3800.0  Female  \n",
       "2       3250.0  Female  \n",
       "3          NaN     NaN  \n",
       "4       3450.0  Female  "
      ]
     },
     "execution_count": 3,
     "metadata": {},
     "output_type": "execute_result"
    }
   ],
   "source": [
    "p_df.head()"
   ]
  },
  {
   "cell_type": "code",
   "execution_count": 4,
   "id": "0a01b37d",
   "metadata": {},
   "outputs": [],
   "source": [
    "p_df = p_df.dropna()"
   ]
  },
  {
   "cell_type": "markdown",
   "id": "bf9c2fc0",
   "metadata": {},
   "source": [
    "## X-y split"
   ]
  },
  {
   "cell_type": "code",
   "execution_count": 97,
   "id": "757d3b89",
   "metadata": {},
   "outputs": [],
   "source": [
    "X = p_df[['flipper_length_mm','bill_length_mm','bill_depth_mm']]\n",
    "y = p_df[['body_mass_g']]"
   ]
  },
  {
   "cell_type": "markdown",
   "id": "a78cdae3",
   "metadata": {},
   "source": [
    "## Train-test split"
   ]
  },
  {
   "cell_type": "code",
   "execution_count": 129,
   "id": "7701c042",
   "metadata": {},
   "outputs": [],
   "source": [
    "from sklearn.model_selection import train_test_split"
   ]
  },
  {
   "cell_type": "code",
   "execution_count": 130,
   "id": "382ca6d4",
   "metadata": {},
   "outputs": [],
   "source": [
    "X_train, X_test, y_train, y_test = train_test_split(X, y, test_size = 0.25, random_state = 100)"
   ]
  },
  {
   "cell_type": "code",
   "execution_count": 131,
   "id": "d780228a",
   "metadata": {},
   "outputs": [],
   "source": [
    "from sklearn.preprocessing import StandardScaler"
   ]
  },
  {
   "cell_type": "code",
   "execution_count": 132,
   "id": "0c7ae9e4",
   "metadata": {},
   "outputs": [],
   "source": [
    "scaler = StandardScaler()\n",
    "scaler.fit(X_train)\n",
    "X_train_scaled = scaler.transform(X_train)\n",
    "\n",
    "X_test_scaled = scaler.transform(X_test)"
   ]
  },
  {
   "cell_type": "markdown",
   "id": "e2e48174",
   "metadata": {},
   "source": [
    "## Creating our model"
   ]
  },
  {
   "cell_type": "code",
   "execution_count": 100,
   "id": "1e26c1d7",
   "metadata": {},
   "outputs": [],
   "source": [
    "from sklearn.linear_model import LinearRegression"
   ]
  },
  {
   "cell_type": "code",
   "execution_count": 135,
   "id": "2710c584",
   "metadata": {},
   "outputs": [],
   "source": [
    "lm = LinearRegression()"
   ]
  },
  {
   "cell_type": "code",
   "execution_count": 136,
   "id": "cb455234",
   "metadata": {},
   "outputs": [],
   "source": [
    "model = lm.fit(X_train_scaled, y_train)"
   ]
  },
  {
   "cell_type": "code",
   "execution_count": 137,
   "id": "3d82a480",
   "metadata": {},
   "outputs": [
    {
     "data": {
      "text/plain": [
       "array([[700.91763287,  -6.4960112 ,  42.16639494]])"
      ]
     },
     "execution_count": 137,
     "metadata": {},
     "output_type": "execute_result"
    }
   ],
   "source": [
    "model.coef_"
   ]
  },
  {
   "cell_type": "code",
   "execution_count": 123,
   "id": "5935cece",
   "metadata": {},
   "outputs": [
    {
     "data": {
      "text/plain": [
       "array([4187.24899598])"
      ]
     },
     "execution_count": 123,
     "metadata": {},
     "output_type": "execute_result"
    }
   ],
   "source": [
    "model.intercept_"
   ]
  },
  {
   "cell_type": "code",
   "execution_count": 30,
   "id": "13d7f1d4",
   "metadata": {},
   "outputs": [],
   "source": [
    "import numpy as np"
   ]
  },
  {
   "cell_type": "markdown",
   "id": "bc268535",
   "metadata": {},
   "source": [
    "## Predict the weight of a random penguin"
   ]
  },
  {
   "cell_type": "code",
   "execution_count": 34,
   "id": "77f06baf",
   "metadata": {},
   "outputs": [],
   "source": [
    "random_peng = np.array([215]).reshape(-1,1)"
   ]
  },
  {
   "cell_type": "code",
   "execution_count": 35,
   "id": "5b2378f1",
   "metadata": {},
   "outputs": [
    {
     "name": "stderr",
     "output_type": "stream",
     "text": [
      "C:\\Users\\Aleks\\anaconda3\\lib\\site-packages\\sklearn\\base.py:464: UserWarning: X does not have valid feature names, but LinearRegression was fitted with feature names\n",
      "  warnings.warn(\n"
     ]
    },
    {
     "data": {
      "text/plain": [
       "array([[4881.71298884]])"
      ]
     },
     "execution_count": 35,
     "metadata": {},
     "output_type": "execute_result"
    }
   ],
   "source": [
    "model.predict(random_peng)"
   ]
  },
  {
   "cell_type": "markdown",
   "id": "7ca9f476",
   "metadata": {},
   "source": [
    "## Create \"real vs predicted\" DataFrame"
   ]
  },
  {
   "cell_type": "code",
   "execution_count": 105,
   "id": "80b5d07d",
   "metadata": {},
   "outputs": [],
   "source": [
    "y_pred = np.array(model.predict(X_test))"
   ]
  },
  {
   "cell_type": "code",
   "execution_count": 58,
   "id": "e345dc23",
   "metadata": {},
   "outputs": [],
   "source": [
    "y_test.reset_index(inplace=True)"
   ]
  },
  {
   "cell_type": "code",
   "execution_count": 54,
   "id": "090a412f",
   "metadata": {},
   "outputs": [
    {
     "data": {
      "text/plain": [
       "0     3524.705433\n",
       "1     4397.067433\n",
       "2     4881.712989\n",
       "3     3670.099100\n",
       "4     4590.925656\n",
       "         ...     \n",
       "79    4639.390211\n",
       "80    3573.169989\n",
       "81    3330.847211\n",
       "82    3427.776322\n",
       "83    3960.886433\n",
       "Name: 0, Length: 84, dtype: float64"
      ]
     },
     "execution_count": 54,
     "metadata": {},
     "output_type": "execute_result"
    }
   ],
   "source": [
    "pd.DataFrame(y_pred)[0]"
   ]
  },
  {
   "cell_type": "code",
   "execution_count": 47,
   "id": "cee89e9f",
   "metadata": {},
   "outputs": [
    {
     "data": {
      "text/plain": [
       "(84, 1)"
      ]
     },
     "execution_count": 47,
     "metadata": {},
     "output_type": "execute_result"
    }
   ],
   "source": [
    "y_pred.shape"
   ]
  },
  {
   "cell_type": "code",
   "execution_count": 59,
   "id": "49f0845e",
   "metadata": {},
   "outputs": [],
   "source": [
    "real_vs_pred = pd.DataFrame({'y_test': y_test['body_mass_g'], 'y_pred':pd.DataFrame(y_pred)[0]})"
   ]
  },
  {
   "cell_type": "code",
   "execution_count": 60,
   "id": "88659047",
   "metadata": {},
   "outputs": [
    {
     "data": {
      "text/html": [
       "<div>\n",
       "<style scoped>\n",
       "    .dataframe tbody tr th:only-of-type {\n",
       "        vertical-align: middle;\n",
       "    }\n",
       "\n",
       "    .dataframe tbody tr th {\n",
       "        vertical-align: top;\n",
       "    }\n",
       "\n",
       "    .dataframe thead th {\n",
       "        text-align: right;\n",
       "    }\n",
       "</style>\n",
       "<table border=\"1\" class=\"dataframe\">\n",
       "  <thead>\n",
       "    <tr style=\"text-align: right;\">\n",
       "      <th></th>\n",
       "      <th>y_test</th>\n",
       "      <th>y_pred</th>\n",
       "    </tr>\n",
       "  </thead>\n",
       "  <tbody>\n",
       "    <tr>\n",
       "      <th>0</th>\n",
       "      <td>3350.0</td>\n",
       "      <td>3524.705433</td>\n",
       "    </tr>\n",
       "    <tr>\n",
       "      <th>1</th>\n",
       "      <td>4550.0</td>\n",
       "      <td>4397.067433</td>\n",
       "    </tr>\n",
       "    <tr>\n",
       "      <th>2</th>\n",
       "      <td>4850.0</td>\n",
       "      <td>4881.712989</td>\n",
       "    </tr>\n",
       "    <tr>\n",
       "      <th>3</th>\n",
       "      <td>3450.0</td>\n",
       "      <td>3670.099100</td>\n",
       "    </tr>\n",
       "    <tr>\n",
       "      <th>4</th>\n",
       "      <td>4600.0</td>\n",
       "      <td>4590.925656</td>\n",
       "    </tr>\n",
       "    <tr>\n",
       "      <th>...</th>\n",
       "      <td>...</td>\n",
       "      <td>...</td>\n",
       "    </tr>\n",
       "    <tr>\n",
       "      <th>79</th>\n",
       "      <td>4550.0</td>\n",
       "      <td>4639.390211</td>\n",
       "    </tr>\n",
       "    <tr>\n",
       "      <th>80</th>\n",
       "      <td>3050.0</td>\n",
       "      <td>3573.169989</td>\n",
       "    </tr>\n",
       "    <tr>\n",
       "      <th>81</th>\n",
       "      <td>3075.0</td>\n",
       "      <td>3330.847211</td>\n",
       "    </tr>\n",
       "    <tr>\n",
       "      <th>82</th>\n",
       "      <td>3700.0</td>\n",
       "      <td>3427.776322</td>\n",
       "    </tr>\n",
       "    <tr>\n",
       "      <th>83</th>\n",
       "      <td>3550.0</td>\n",
       "      <td>3960.886433</td>\n",
       "    </tr>\n",
       "  </tbody>\n",
       "</table>\n",
       "<p>84 rows × 2 columns</p>\n",
       "</div>"
      ],
      "text/plain": [
       "    y_test       y_pred\n",
       "0   3350.0  3524.705433\n",
       "1   4550.0  4397.067433\n",
       "2   4850.0  4881.712989\n",
       "3   3450.0  3670.099100\n",
       "4   4600.0  4590.925656\n",
       "..     ...          ...\n",
       "79  4550.0  4639.390211\n",
       "80  3050.0  3573.169989\n",
       "81  3075.0  3330.847211\n",
       "82  3700.0  3427.776322\n",
       "83  3550.0  3960.886433\n",
       "\n",
       "[84 rows x 2 columns]"
      ]
     },
     "execution_count": 60,
     "metadata": {},
     "output_type": "execute_result"
    }
   ],
   "source": [
    "real_vs_pred"
   ]
  },
  {
   "cell_type": "markdown",
   "id": "2f0e3948",
   "metadata": {},
   "source": [
    "## Compute the MSE"
   ]
  },
  {
   "cell_type": "code",
   "execution_count": 64,
   "id": "302fb62a",
   "metadata": {},
   "outputs": [],
   "source": [
    "from sklearn.metrics import mean_squared_error as mse"
   ]
  },
  {
   "cell_type": "code",
   "execution_count": 65,
   "id": "ff175fea",
   "metadata": {},
   "outputs": [
    {
     "data": {
      "text/plain": [
       "165251.77220034634"
      ]
     },
     "execution_count": 65,
     "metadata": {},
     "output_type": "execute_result"
    }
   ],
   "source": [
    "mse(real_vs_pred['y_test'], real_vs_pred['y_pred'])"
   ]
  },
  {
   "cell_type": "code",
   "execution_count": 67,
   "id": "145ccb3f",
   "metadata": {},
   "outputs": [],
   "source": [
    "import matplotlib.pyplot as plt"
   ]
  },
  {
   "cell_type": "code",
   "execution_count": 73,
   "id": "61dc3ea3",
   "metadata": {},
   "outputs": [
    {
     "data": {
      "text/html": [
       "<div>\n",
       "<style scoped>\n",
       "    .dataframe tbody tr th:only-of-type {\n",
       "        vertical-align: middle;\n",
       "    }\n",
       "\n",
       "    .dataframe tbody tr th {\n",
       "        vertical-align: top;\n",
       "    }\n",
       "\n",
       "    .dataframe thead th {\n",
       "        text-align: right;\n",
       "    }\n",
       "</style>\n",
       "<table border=\"1\" class=\"dataframe\">\n",
       "  <thead>\n",
       "    <tr style=\"text-align: right;\">\n",
       "      <th></th>\n",
       "      <th>index</th>\n",
       "      <th>body_mass_g</th>\n",
       "    </tr>\n",
       "  </thead>\n",
       "  <tbody>\n",
       "    <tr>\n",
       "      <th>0</th>\n",
       "      <td>184</td>\n",
       "      <td>3350.0</td>\n",
       "    </tr>\n",
       "    <tr>\n",
       "      <th>1</th>\n",
       "      <td>181</td>\n",
       "      <td>4550.0</td>\n",
       "    </tr>\n",
       "    <tr>\n",
       "      <th>2</th>\n",
       "      <td>340</td>\n",
       "      <td>4850.0</td>\n",
       "    </tr>\n",
       "    <tr>\n",
       "      <th>3</th>\n",
       "      <td>52</td>\n",
       "      <td>3450.0</td>\n",
       "    </tr>\n",
       "    <tr>\n",
       "      <th>4</th>\n",
       "      <td>296</td>\n",
       "      <td>4600.0</td>\n",
       "    </tr>\n",
       "    <tr>\n",
       "      <th>...</th>\n",
       "      <td>...</td>\n",
       "      <td>...</td>\n",
       "    </tr>\n",
       "    <tr>\n",
       "      <th>79</th>\n",
       "      <td>225</td>\n",
       "      <td>4550.0</td>\n",
       "    </tr>\n",
       "    <tr>\n",
       "      <th>80</th>\n",
       "      <td>142</td>\n",
       "      <td>3050.0</td>\n",
       "    </tr>\n",
       "    <tr>\n",
       "      <th>81</th>\n",
       "      <td>102</td>\n",
       "      <td>3075.0</td>\n",
       "    </tr>\n",
       "    <tr>\n",
       "      <th>82</th>\n",
       "      <td>15</td>\n",
       "      <td>3700.0</td>\n",
       "    </tr>\n",
       "    <tr>\n",
       "      <th>83</th>\n",
       "      <td>194</td>\n",
       "      <td>3550.0</td>\n",
       "    </tr>\n",
       "  </tbody>\n",
       "</table>\n",
       "<p>84 rows × 2 columns</p>\n",
       "</div>"
      ],
      "text/plain": [
       "    index  body_mass_g\n",
       "0     184       3350.0\n",
       "1     181       4550.0\n",
       "2     340       4850.0\n",
       "3      52       3450.0\n",
       "4     296       4600.0\n",
       "..    ...          ...\n",
       "79    225       4550.0\n",
       "80    142       3050.0\n",
       "81    102       3075.0\n",
       "82     15       3700.0\n",
       "83    194       3550.0\n",
       "\n",
       "[84 rows x 2 columns]"
      ]
     },
     "execution_count": 73,
     "metadata": {},
     "output_type": "execute_result"
    }
   ],
   "source": [
    "y_test"
   ]
  },
  {
   "cell_type": "code",
   "execution_count": 80,
   "id": "1023c60f",
   "metadata": {},
   "outputs": [],
   "source": [
    "y_pred = y_pred.reshape(84,)"
   ]
  },
  {
   "cell_type": "code",
   "execution_count": 81,
   "id": "b9408316",
   "metadata": {},
   "outputs": [
    {
     "data": {
      "text/plain": [
       "(84,)"
      ]
     },
     "execution_count": 81,
     "metadata": {},
     "output_type": "execute_result"
    }
   ],
   "source": [
    "y_test['body_mass_g'].shape"
   ]
  },
  {
   "cell_type": "markdown",
   "id": "d7a22e0a",
   "metadata": {},
   "source": [
    "## Linear Regression using statsmodels"
   ]
  },
  {
   "cell_type": "code",
   "execution_count": 140,
   "id": "41f56cd2",
   "metadata": {},
   "outputs": [
    {
     "data": {
      "text/html": [
       "<table class=\"simpletable\">\n",
       "<caption>OLS Regression Results</caption>\n",
       "<tr>\n",
       "  <th>Dep. Variable:</th>       <td>body_mass_g</td>   <th>  R-squared:         </th> <td>   0.752</td>\n",
       "</tr>\n",
       "<tr>\n",
       "  <th>Model:</th>                   <td>OLS</td>       <th>  Adj. R-squared:    </th> <td>   0.749</td>\n",
       "</tr>\n",
       "<tr>\n",
       "  <th>Method:</th>             <td>Least Squares</td>  <th>  F-statistic:       </th> <td>   247.5</td>\n",
       "</tr>\n",
       "<tr>\n",
       "  <th>Date:</th>             <td>Wed, 08 Nov 2023</td> <th>  Prob (F-statistic):</th> <td>7.57e-74</td>\n",
       "</tr>\n",
       "<tr>\n",
       "  <th>Time:</th>                 <td>14:51:05</td>     <th>  Log-Likelihood:    </th> <td> -1836.8</td>\n",
       "</tr>\n",
       "<tr>\n",
       "  <th>No. Observations:</th>      <td>   249</td>      <th>  AIC:               </th> <td>   3682.</td>\n",
       "</tr>\n",
       "<tr>\n",
       "  <th>Df Residuals:</th>          <td>   245</td>      <th>  BIC:               </th> <td>   3696.</td>\n",
       "</tr>\n",
       "<tr>\n",
       "  <th>Df Model:</th>              <td>     3</td>      <th>                     </th>     <td> </td>   \n",
       "</tr>\n",
       "<tr>\n",
       "  <th>Covariance Type:</th>      <td>nonrobust</td>    <th>                     </th>     <td> </td>   \n",
       "</tr>\n",
       "</table>\n",
       "<table class=\"simpletable\">\n",
       "<tr>\n",
       "    <td></td>       <th>coef</th>     <th>std err</th>      <th>t</th>      <th>P>|t|</th>  <th>[0.025</th>    <th>0.975]</th>  \n",
       "</tr>\n",
       "<tr>\n",
       "  <th>const</th> <td>-6262.4070</td> <td>  641.715</td> <td>   -9.759</td> <td> 0.000</td> <td>-7526.388</td> <td>-4998.426</td>\n",
       "</tr>\n",
       "<tr>\n",
       "  <th>x1</th>    <td>   50.5194</td> <td>    2.790</td> <td>   18.107</td> <td> 0.000</td> <td>   45.024</td> <td>   56.015</td>\n",
       "</tr>\n",
       "<tr>\n",
       "  <th>x2</th>    <td>   -1.2218</td> <td>    6.126</td> <td>   -0.199</td> <td> 0.842</td> <td>  -13.289</td> <td>   10.845</td>\n",
       "</tr>\n",
       "<tr>\n",
       "  <th>x3</th>    <td>   21.2234</td> <td>   15.537</td> <td>    1.366</td> <td> 0.173</td> <td>   -9.380</td> <td>   51.826</td>\n",
       "</tr>\n",
       "</table>\n",
       "<table class=\"simpletable\">\n",
       "<tr>\n",
       "  <th>Omnibus:</th>       <td> 4.399</td> <th>  Durbin-Watson:     </th> <td>   2.041</td>\n",
       "</tr>\n",
       "<tr>\n",
       "  <th>Prob(Omnibus):</th> <td> 0.111</td> <th>  Jarque-Bera (JB):  </th> <td>   4.111</td>\n",
       "</tr>\n",
       "<tr>\n",
       "  <th>Skew:</th>          <td> 0.307</td> <th>  Prob(JB):          </th> <td>   0.128</td>\n",
       "</tr>\n",
       "<tr>\n",
       "  <th>Kurtosis:</th>      <td> 3.142</td> <th>  Cond. No.          </th> <td>5.37e+03</td>\n",
       "</tr>\n",
       "</table><br/><br/>Notes:<br/>[1] Standard Errors assume that the covariance matrix of the errors is correctly specified.<br/>[2] The condition number is large, 5.37e+03. This might indicate that there are<br/>strong multicollinearity or other numerical problems."
      ],
      "text/latex": [
       "\\begin{center}\n",
       "\\begin{tabular}{lclc}\n",
       "\\toprule\n",
       "\\textbf{Dep. Variable:}    &  body\\_mass\\_g   & \\textbf{  R-squared:         } &     0.752   \\\\\n",
       "\\textbf{Model:}            &       OLS        & \\textbf{  Adj. R-squared:    } &     0.749   \\\\\n",
       "\\textbf{Method:}           &  Least Squares   & \\textbf{  F-statistic:       } &     247.5   \\\\\n",
       "\\textbf{Date:}             & Wed, 08 Nov 2023 & \\textbf{  Prob (F-statistic):} &  7.57e-74   \\\\\n",
       "\\textbf{Time:}             &     14:51:05     & \\textbf{  Log-Likelihood:    } &   -1836.8   \\\\\n",
       "\\textbf{No. Observations:} &         249      & \\textbf{  AIC:               } &     3682.   \\\\\n",
       "\\textbf{Df Residuals:}     &         245      & \\textbf{  BIC:               } &     3696.   \\\\\n",
       "\\textbf{Df Model:}         &           3      & \\textbf{                     } &             \\\\\n",
       "\\textbf{Covariance Type:}  &    nonrobust     & \\textbf{                     } &             \\\\\n",
       "\\bottomrule\n",
       "\\end{tabular}\n",
       "\\begin{tabular}{lcccccc}\n",
       "               & \\textbf{coef} & \\textbf{std err} & \\textbf{t} & \\textbf{P$> |$t$|$} & \\textbf{[0.025} & \\textbf{0.975]}  \\\\\n",
       "\\midrule\n",
       "\\textbf{const} &   -6262.4070  &      641.715     &    -9.759  &         0.000        &    -7526.388    &    -4998.426     \\\\\n",
       "\\textbf{x1}    &      50.5194  &        2.790     &    18.107  &         0.000        &       45.024    &       56.015     \\\\\n",
       "\\textbf{x2}    &      -1.2218  &        6.126     &    -0.199  &         0.842        &      -13.289    &       10.845     \\\\\n",
       "\\textbf{x3}    &      21.2234  &       15.537     &     1.366  &         0.173        &       -9.380    &       51.826     \\\\\n",
       "\\bottomrule\n",
       "\\end{tabular}\n",
       "\\begin{tabular}{lclc}\n",
       "\\textbf{Omnibus:}       &  4.399 & \\textbf{  Durbin-Watson:     } &    2.041  \\\\\n",
       "\\textbf{Prob(Omnibus):} &  0.111 & \\textbf{  Jarque-Bera (JB):  } &    4.111  \\\\\n",
       "\\textbf{Skew:}          &  0.307 & \\textbf{  Prob(JB):          } &    0.128  \\\\\n",
       "\\textbf{Kurtosis:}      &  3.142 & \\textbf{  Cond. No.          } & 5.37e+03  \\\\\n",
       "\\bottomrule\n",
       "\\end{tabular}\n",
       "%\\caption{OLS Regression Results}\n",
       "\\end{center}\n",
       "\n",
       "Notes: \\newline\n",
       " [1] Standard Errors assume that the covariance matrix of the errors is correctly specified. \\newline\n",
       " [2] The condition number is large, 5.37e+03. This might indicate that there are \\newline\n",
       " strong multicollinearity or other numerical problems."
      ],
      "text/plain": [
       "<class 'statsmodels.iolib.summary.Summary'>\n",
       "\"\"\"\n",
       "                            OLS Regression Results                            \n",
       "==============================================================================\n",
       "Dep. Variable:            body_mass_g   R-squared:                       0.752\n",
       "Model:                            OLS   Adj. R-squared:                  0.749\n",
       "Method:                 Least Squares   F-statistic:                     247.5\n",
       "Date:                Wed, 08 Nov 2023   Prob (F-statistic):           7.57e-74\n",
       "Time:                        14:51:05   Log-Likelihood:                -1836.8\n",
       "No. Observations:                 249   AIC:                             3682.\n",
       "Df Residuals:                     245   BIC:                             3696.\n",
       "Df Model:                           3                                         \n",
       "Covariance Type:            nonrobust                                         \n",
       "==============================================================================\n",
       "                 coef    std err          t      P>|t|      [0.025      0.975]\n",
       "------------------------------------------------------------------------------\n",
       "const      -6262.4070    641.715     -9.759      0.000   -7526.388   -4998.426\n",
       "x1            50.5194      2.790     18.107      0.000      45.024      56.015\n",
       "x2            -1.2218      6.126     -0.199      0.842     -13.289      10.845\n",
       "x3            21.2234     15.537      1.366      0.173      -9.380      51.826\n",
       "==============================================================================\n",
       "Omnibus:                        4.399   Durbin-Watson:                   2.041\n",
       "Prob(Omnibus):                  0.111   Jarque-Bera (JB):                4.111\n",
       "Skew:                           0.307   Prob(JB):                        0.128\n",
       "Kurtosis:                       3.142   Cond. No.                     5.37e+03\n",
       "==============================================================================\n",
       "\n",
       "Notes:\n",
       "[1] Standard Errors assume that the covariance matrix of the errors is correctly specified.\n",
       "[2] The condition number is large, 5.37e+03. This might indicate that there are\n",
       "strong multicollinearity or other numerical problems.\n",
       "\"\"\""
      ]
     },
     "execution_count": 140,
     "metadata": {},
     "output_type": "execute_result"
    }
   ],
   "source": [
    "X_train_const = sm.add_constant(X_train.to_numpy())\n",
    "\n",
    "model = sm.OLS(y_train, X_train_const).fit()\n",
    "predictions_train = model.predict(X_train_const)\n",
    "\n",
    "X_test_const = sm.add_constant(X_test)\n",
    "y_pred = model.predict(X_test_const)\n",
    "print_model = model.summary()\n",
    "print_model"
   ]
  },
  {
   "cell_type": "markdown",
   "id": "ecbd32d8",
   "metadata": {},
   "source": [
    "## Taking a look at some plots"
   ]
  },
  {
   "cell_type": "code",
   "execution_count": 82,
   "id": "3ef2b060",
   "metadata": {},
   "outputs": [
    {
     "data": {
      "text/plain": [
       "[<matplotlib.lines.Line2D at 0x2be38427df0>]"
      ]
     },
     "execution_count": 82,
     "metadata": {},
     "output_type": "execute_result"
    },
    {
     "data": {
      "image/png": "[encoded data removed]",
      "text/plain": [
       "<Figure size 1400x400 with 3 Axes>"
      ]
     },
     "metadata": {},
     "output_type": "display_data"
    }
   ],
   "source": [
    "## Plot y_pred vs y_test\n",
    "fig, ax = plt.subplots(1,3,figsize=(14,4))\n",
    "ax[0].plot(y_pred, y_test['body_mass_g'], 'o')\n",
    "ax[0].set_xlabel(\"y_test\")\n",
    "ax[0].set_ylabel(\"y_pred\")\n",
    "ax[0].set_title(\"Test Set -Predicted vs real\")\n",
    "\n",
    "# Get a histogram of the residuals ie: y - y_pred.\n",
    "# Does it ressemble a normal distribution?\n",
    "ax[1].hist(y_test['body_mass_g'] - y_pred)\n",
    "ax[1].set_xlabel(\"Test y-y_pred\")\n",
    "ax[1].set_title(\"Test Set Residual histogram\")\n",
    "\n",
    "# Homoscedasticity\n",
    "ax[2].plot(y_pred,np.array(y_pred)-np.array(y_test['body_mass_g']),\"o\")\n",
    "ax[2].set_xlabel(\"predicted\")\n",
    "ax[2].set_ylabel(\"residuals\")\n",
    "ax[2].set_title(\"Residuals by Predicted\")\n",
    "ax[2].plot(y_pred,np.zeros(len(y_pred)),linestyle='dashed')"
   ]
  },
  {
   "cell_type": "markdown",
   "id": "d9a062df",
   "metadata": {},
   "source": [
    "## Plotting the feature importances"
   ]
  },
  {
   "cell_type": "code",
   "execution_count": 124,
   "id": "1ad7a6f4",
   "metadata": {},
   "outputs": [],
   "source": [
    "coefficients = model.coef_.reshape(-1,1)"
   ]
  },
  {
   "cell_type": "code",
   "execution_count": 125,
   "id": "0bfa12b1",
   "metadata": {},
   "outputs": [],
   "source": [
    "coefficients = coefficients.reshape(3,)"
   ]
  },
  {
   "cell_type": "code",
   "execution_count": 126,
   "id": "ae14be7c",
   "metadata": {},
   "outputs": [
    {
     "data": {
      "text/plain": [
       "(3,)"
      ]
     },
     "execution_count": 126,
     "metadata": {},
     "output_type": "execute_result"
    }
   ],
   "source": [
    "coefficients.shape"
   ]
  },
  {
   "cell_type": "code",
   "execution_count": 127,
   "id": "5e1fcadb",
   "metadata": {},
   "outputs": [],
   "source": [
    "feature_importances = pd.DataFrame({'variable':X.columns, 'coefficient': coefficients})"
   ]
  },
  {
   "cell_type": "code",
   "execution_count": 138,
   "id": "922c87ac",
   "metadata": {},
   "outputs": [
    {
     "data": {
      "text/html": [
       "<div>\n",
       "<style scoped>\n",
       "    .dataframe tbody tr th:only-of-type {\n",
       "        vertical-align: middle;\n",
       "    }\n",
       "\n",
       "    .dataframe tbody tr th {\n",
       "        vertical-align: top;\n",
       "    }\n",
       "\n",
       "    .dataframe thead th {\n",
       "        text-align: right;\n",
       "    }\n",
       "</style>\n",
       "<table border=\"1\" class=\"dataframe\">\n",
       "  <thead>\n",
       "    <tr style=\"text-align: right;\">\n",
       "      <th></th>\n",
       "      <th>variable</th>\n",
       "      <th>coefficient</th>\n",
       "    </tr>\n",
       "  </thead>\n",
       "  <tbody>\n",
       "    <tr>\n",
       "      <th>0</th>\n",
       "      <td>flipper_length_mm</td>\n",
       "      <td>700.917633</td>\n",
       "    </tr>\n",
       "    <tr>\n",
       "      <th>1</th>\n",
       "      <td>bill_length_mm</td>\n",
       "      <td>-6.496011</td>\n",
       "    </tr>\n",
       "    <tr>\n",
       "      <th>2</th>\n",
       "      <td>bill_depth_mm</td>\n",
       "      <td>42.166395</td>\n",
       "    </tr>\n",
       "  </tbody>\n",
       "</table>\n",
       "</div>"
      ],
      "text/plain": [
       "            variable  coefficient\n",
       "0  flipper_length_mm   700.917633\n",
       "1     bill_length_mm    -6.496011\n",
       "2      bill_depth_mm    42.166395"
      ]
     },
     "execution_count": 138,
     "metadata": {},
     "output_type": "execute_result"
    }
   ],
   "source": [
    "feature_importances"
   ]
  },
  {
   "cell_type": "code",
   "execution_count": 139,
   "id": "3703ce8f",
   "metadata": {},
   "outputs": [
    {
     "data": {
      "text/plain": [
       "<Axes: xlabel='variable', ylabel='coefficient'>"
      ]
     },
     "execution_count": 139,
     "metadata": {},
     "output_type": "execute_result"
    },
    {
     "data": {
      "image/png": "[encoded data removed]",
      "text/plain": [
       "<Figure size 640x480 with 1 Axes>"
      ]
     },
     "metadata": {},
     "output_type": "display_data"
    }
   ],
   "source": [
    "sns.barplot(x=feature_importances['variable'], y=feature_importances['coefficient'])"
   ]
  }
 ],
 "metadata": {
  "kernelspec": {
   "display_name": "Python 3 (ipykernel)",
   "language": "python",
   "name": "python3"
  },
  "language_info": {
   "codemirror_mode": {
    "name": "ipython",
    "version": 3
   },
   "file_extension": ".py",
   "mimetype": "text/x-python",
   "name": "python",
   "nbconvert_exporter": "python",
   "pygments_lexer": "ipython3",
   "version": "3.9.17"
  }
 },
 "nbformat": 4,
 "nbformat_minor": 5
}
