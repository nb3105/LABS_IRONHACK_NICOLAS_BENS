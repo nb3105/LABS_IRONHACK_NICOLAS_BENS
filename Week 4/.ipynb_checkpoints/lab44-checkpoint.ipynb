{
 "cells": [
  {
   "cell_type": "code",
   "execution_count": 4,
   "id": "dc47bd70",
   "metadata": {},
   "outputs": [],
   "source": [
    "import numpy as np\n",
    "import pandas as pd\n",
    "import scipy.stats as stats\n",
    "import matplotlib.pyplot as plt\n",
    "import seaborn as sns\n",
    "import math\n"
   ]
  },
  {
   "cell_type": "code",
   "execution_count": 3,
   "id": "82cd83b5",
   "metadata": {},
   "outputs": [],
   "source": [
    "population_mean = 120\n",
    "sample_mean = 130.1\n",
    "sample_std_dev = 21.21\n",
    "sample_size = 100"
   ]
  },
  {
   "cell_type": "code",
   "execution_count": 5,
   "id": "41e0cd59",
   "metadata": {},
   "outputs": [],
   "source": [
    "t_statistic = (sample_mean - population_mean) / (sample_std_dev / np.sqrt(sample_size))"
   ]
  },
  {
   "cell_type": "code",
   "execution_count": 8,
   "id": "ac98d0f9",
   "metadata": {},
   "outputs": [
    {
     "data": {
      "text/plain": [
       "4.761904761904759"
      ]
     },
     "execution_count": 8,
     "metadata": {},
     "output_type": "execute_result"
    }
   ],
   "source": [
    "t_statistic"
   ]
  },
  {
   "cell_type": "code",
   "execution_count": 14,
   "id": "114bd443",
   "metadata": {},
   "outputs": [],
   "source": [
    "t_stats = stats.norm.ppf(1-0.05)"
   ]
  },
  {
   "cell_type": "code",
   "execution_count": 15,
   "id": "a58cbbaa",
   "metadata": {},
   "outputs": [
    {
     "data": {
      "text/plain": [
       "1.6448536269514722"
      ]
     },
     "execution_count": 15,
     "metadata": {},
     "output_type": "execute_result"
    }
   ],
   "source": [
    "t_stats"
   ]
  },
  {
   "cell_type": "code",
   "execution_count": null,
   "id": "81c769ac",
   "metadata": {},
   "outputs": [],
   "source": []
  }
 ],
 "metadata": {
  "kernelspec": {
   "display_name": "Python 3 (ipykernel)",
   "language": "python",
   "name": "python3"
  },
  "language_info": {
   "codemirror_mode": {
    "name": "ipython",
    "version": 3
   },
   "file_extension": ".py",
   "mimetype": "text/x-python",
   "name": "python",
   "nbconvert_exporter": "python",
   "pygments_lexer": "ipython3",
   "version": "3.11.5"
  }
 },
 "nbformat": 4,
 "nbformat_minor": 5
}
