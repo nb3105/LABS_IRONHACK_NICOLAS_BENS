{
  "cells": [
    {
      "cell_type": "code",
      "execution_count": 14,
      "metadata": {
        "id": "TjjUJ8kEa6av"
      },
      "outputs": [
        {
          "name": "stdout",
          "output_type": "stream",
          "text": [
            "The autoreload extension is already loaded. To reload it, use:\n",
            "  %reload_ext autoreload\n"
          ]
        }
      ],
      "source": [
        "# Importing libraries\n",
        "%load_ext autoreload\n",
        "%autoreload 2 "
      ]
    },
    {
      "cell_type": "code",
      "execution_count": null,
      "metadata": {},
      "outputs": [],
      "source": []
    },
    {
      "cell_type": "code",
      "execution_count": 15,
      "metadata": {
        "id": "Ftpqqu1pa8we"
      },
      "outputs": [],
      "source": [
        "from IPython.display import clear_output\n",
        "import function_berghain\n",
        "from function_berghain import start_game"
      ]
    },
    {
      "cell_type": "code",
      "execution_count": 16,
      "metadata": {
        "colab": {
          "base_uri": "https://localhost:8080/"
        },
        "id": "KEiDMb4NGwFu",
        "outputId": "b475d0b3-0688-4b14-9f92-2c02423c0c40"
      },
      "outputs": [
        {
          "name": "stdout",
          "output_type": "stream",
          "text": [
            "You are in the street and want to go to Berhain. \n",
            "You must get there ASAP!\n",
            "You are now in the street.\n"
          ]
        },
        {
          "name": "stdout",
          "output_type": "stream",
          "text": [
            "You casually check out your surroundings. This is street. You notice bar, ATM, clothing store entrance.\n",
            "You are now in the street.\n",
            "That's not possible here.\n",
            "You are now in the street.\n",
            "Not sure what you mean. Type '1' to explore, '2' to engage with something, '9' to reflect upon skills and tools, '0' to quit the game. \n",
            "You are now in the street.\n"
          ]
        },
        {
          "ename": "KeyboardInterrupt",
          "evalue": "Interrupted by user",
          "output_type": "error",
          "traceback": [
            "\u001b[1;31m---------------------------------------------------------------------------\u001b[0m",
            "\u001b[1;31mKeyboardInterrupt\u001b[0m                         Traceback (most recent call last)",
            "\u001b[1;32mc:\\Users\\41791\\Documents\\GitHub\\LABS_IRONHACK_NICOLAS_BENS\\Week 1\\Berghain\\Entering_Berghain_basic.ipynb Cell 4\u001b[0m line \u001b[0;36m2\n\u001b[0;32m      <a href='vscode-notebook-cell:/c%3A/Users/41791/Documents/GitHub/LABS_IRONHACK_NICOLAS_BENS/Week%201/Berghain/Entering_Berghain_basic.ipynb#X21sZmlsZQ%3D%3D?line=0'>1</a>\u001b[0m \u001b[39m# Initiating the game with the start_game function\u001b[39;00m\n\u001b[1;32m----> <a href='vscode-notebook-cell:/c%3A/Users/41791/Documents/GitHub/LABS_IRONHACK_NICOLAS_BENS/Week%201/Berghain/Entering_Berghain_basic.ipynb#X21sZmlsZQ%3D%3D?line=1'>2</a>\u001b[0m start_game()\n",
            "File \u001b[1;32mc:\\Users\\41791\\Documents\\GitHub\\LABS_IRONHACK_NICOLAS_BENS\\Week 1\\Berghain\\function_berghain.py:197\u001b[0m, in \u001b[0;36mstart_game\u001b[1;34m()\u001b[0m\n\u001b[0;32m    193\u001b[0m \u001b[39m\u001b[39m\u001b[39m\"\"\"\u001b[39;00m\n\u001b[0;32m    194\u001b[0m \u001b[39mStart the game\u001b[39;00m\n\u001b[0;32m    195\u001b[0m \u001b[39m\"\"\"\u001b[39;00m\n\u001b[0;32m    196\u001b[0m \u001b[39mprint\u001b[39m(\u001b[39m\"\u001b[39m\u001b[39mYou are in the street and want to go to Berhain. \u001b[39m\u001b[39m\\n\u001b[39;00m\u001b[39mYou must get there ASAP!\u001b[39m\u001b[39m\"\u001b[39m)\n\u001b[1;32m--> 197\u001b[0m play_room(game_state[\u001b[39m\"\u001b[39m\u001b[39mcurrent_room\u001b[39m\u001b[39m\"\u001b[39m])\n",
            "File \u001b[1;32mc:\\Users\\41791\\Documents\\GitHub\\LABS_IRONHACK_NICOLAS_BENS\\Week 1\\Berghain\\function_berghain.py:223\u001b[0m, in \u001b[0;36mplay_room\u001b[1;34m(room)\u001b[0m\n\u001b[0;32m    221\u001b[0m \u001b[39mif\u001b[39;00m intended_action \u001b[39m==\u001b[39m \u001b[39m'\u001b[39m\u001b[39m1\u001b[39m\u001b[39m'\u001b[39m:\n\u001b[0;32m    222\u001b[0m     explore_room(room) \u001b[39m# Prints the items the player can explore\u001b[39;00m\n\u001b[1;32m--> 223\u001b[0m     play_room(room) \u001b[39m# Re-initiates this very function\u001b[39;00m\n\u001b[0;32m    224\u001b[0m \u001b[39melif\u001b[39;00m intended_action \u001b[39m==\u001b[39m \u001b[39m'\u001b[39m\u001b[39m2\u001b[39m\u001b[39m'\u001b[39m:\n\u001b[0;32m    225\u001b[0m     examine_item(\u001b[39minput\u001b[39m(\u001b[39m\"\u001b[39m\u001b[39mWhat would you like to engage with? \u001b[39m\u001b[39m\"\u001b[39m)\u001b[39m.\u001b[39mstrip())\n",
            "File \u001b[1;32mc:\\Users\\41791\\Documents\\GitHub\\LABS_IRONHACK_NICOLAS_BENS\\Week 1\\Berghain\\function_berghain.py:225\u001b[0m, in \u001b[0;36mplay_room\u001b[1;34m(room)\u001b[0m\n\u001b[0;32m    223\u001b[0m     play_room(room) \u001b[39m# Re-initiates this very function\u001b[39;00m\n\u001b[0;32m    224\u001b[0m \u001b[39melif\u001b[39;00m intended_action \u001b[39m==\u001b[39m \u001b[39m'\u001b[39m\u001b[39m2\u001b[39m\u001b[39m'\u001b[39m:\n\u001b[1;32m--> 225\u001b[0m     examine_item(\u001b[39minput\u001b[39m(\u001b[39m\"\u001b[39m\u001b[39mWhat would you like to engage with? \u001b[39m\u001b[39m\"\u001b[39m)\u001b[39m.\u001b[39mstrip())\n\u001b[0;32m    226\u001b[0m \u001b[39melif\u001b[39;00m intended_action \u001b[39m==\u001b[39m \u001b[39m'\u001b[39m\u001b[39m9\u001b[39m\u001b[39m'\u001b[39m:\n\u001b[0;32m    227\u001b[0m     \u001b[39mif\u001b[39;00m game_state[\u001b[39m\"\u001b[39m\u001b[39mkeys_collected\u001b[39m\u001b[39m\"\u001b[39m] \u001b[39m==\u001b[39m []:\n",
            "File \u001b[1;32mc:\\Users\\41791\\Documents\\GitHub\\LABS_IRONHACK_NICOLAS_BENS\\Week 1\\Berghain\\function_berghain.py:325\u001b[0m, in \u001b[0;36mexamine_item\u001b[1;34m(item_name)\u001b[0m\n\u001b[0;32m    323\u001b[0m     play_room(next_room)\n\u001b[0;32m    324\u001b[0m \u001b[39melse\u001b[39;00m:\n\u001b[1;32m--> 325\u001b[0m     play_room(current_room)\n",
            "File \u001b[1;32mc:\\Users\\41791\\Documents\\GitHub\\LABS_IRONHACK_NICOLAS_BENS\\Week 1\\Berghain\\function_berghain.py:238\u001b[0m, in \u001b[0;36mplay_room\u001b[1;34m(room)\u001b[0m\n\u001b[0;32m    236\u001b[0m \u001b[39melse\u001b[39;00m:\n\u001b[0;32m    237\u001b[0m     \u001b[39mprint\u001b[39m(\u001b[39m\"\u001b[39m\u001b[39mNot sure what you mean. Type \u001b[39m\u001b[39m'\u001b[39m\u001b[39m1\u001b[39m\u001b[39m'\u001b[39m\u001b[39m to explore, \u001b[39m\u001b[39m'\u001b[39m\u001b[39m2\u001b[39m\u001b[39m'\u001b[39m\u001b[39m to engage with something, \u001b[39m\u001b[39m'\u001b[39m\u001b[39m9\u001b[39m\u001b[39m'\u001b[39m\u001b[39m to reflect upon skills and tools, \u001b[39m\u001b[39m'\u001b[39m\u001b[39m0\u001b[39m\u001b[39m'\u001b[39m\u001b[39m to quit the game. \u001b[39m\u001b[39m\"\u001b[39m) \u001b[39m#UPDATED UNTIL HERE\u001b[39;00m\n\u001b[1;32m--> 238\u001b[0m     play_room(room) \u001b[39m# Re-initiates this very function\u001b[39;00m\n\u001b[0;32m    239\u001b[0m linebreak()\n",
            "File \u001b[1;32mc:\\Users\\41791\\Documents\\GitHub\\LABS_IRONHACK_NICOLAS_BENS\\Week 1\\Berghain\\function_berghain.py:219\u001b[0m, in \u001b[0;36mplay_room\u001b[1;34m(room)\u001b[0m\n\u001b[0;32m    217\u001b[0m \u001b[39melse\u001b[39;00m:\n\u001b[0;32m    218\u001b[0m     \u001b[39mprint\u001b[39m(\u001b[39mf\u001b[39m\u001b[39m\"\u001b[39m\u001b[39mYou are now in the \u001b[39m\u001b[39m{\u001b[39;00mroom[\u001b[39m'\u001b[39m\u001b[39mname\u001b[39m\u001b[39m'\u001b[39m]\u001b[39m}\u001b[39;00m\u001b[39m.\u001b[39m\u001b[39m\"\u001b[39m)\n\u001b[1;32m--> 219\u001b[0m     intended_action \u001b[39m=\u001b[39m \u001b[39minput\u001b[39m(\u001b[39m\"\u001b[39m\u001b[39mWhat would you like to do next? Type \u001b[39m\u001b[39m'\u001b[39m\u001b[39m1\u001b[39m\u001b[39m'\u001b[39m\u001b[39m to explore, \u001b[39m\u001b[39m'\u001b[39m\u001b[39m2\u001b[39m\u001b[39m'\u001b[39m\u001b[39m to engage with something, \u001b[39m\u001b[39m'\u001b[39m\u001b[39m9\u001b[39m\u001b[39m'\u001b[39m\u001b[39m to reflect upon skills and tools, \u001b[39m\u001b[39m'\u001b[39m\u001b[39m0\u001b[39m\u001b[39m'\u001b[39m\u001b[39m to quit the game. \u001b[39m\u001b[39m\"\u001b[39m)\u001b[39m.\u001b[39mstrip() \u001b[39m#HERE AND AFTER: UPDATED\u001b[39;00m\n\u001b[0;32m    220\u001b[0m     \u001b[39mif\u001b[39;00m intended_action \u001b[39m==\u001b[39m \u001b[39m'\u001b[39m\u001b[39m1\u001b[39m\u001b[39m'\u001b[39m \u001b[39mor\u001b[39;00m intended_action \u001b[39m==\u001b[39m \u001b[39m'\u001b[39m\u001b[39m2\u001b[39m\u001b[39m'\u001b[39m \u001b[39mor\u001b[39;00m intended_action \u001b[39m==\u001b[39m \u001b[39m'\u001b[39m\u001b[39m9\u001b[39m\u001b[39m'\u001b[39m \u001b[39mor\u001b[39;00m intended_action \u001b[39m==\u001b[39m \u001b[39m'\u001b[39m\u001b[39m0\u001b[39m\u001b[39m'\u001b[39m:\n\u001b[0;32m    221\u001b[0m         \u001b[39mif\u001b[39;00m intended_action \u001b[39m==\u001b[39m \u001b[39m'\u001b[39m\u001b[39m1\u001b[39m\u001b[39m'\u001b[39m:\n",
            "File \u001b[1;32mc:\\Users\\41791\\anaconda3\\Lib\\site-packages\\ipykernel\\kernelbase.py:1202\u001b[0m, in \u001b[0;36mKernel.raw_input\u001b[1;34m(self, prompt)\u001b[0m\n\u001b[0;32m   1200\u001b[0m     msg \u001b[39m=\u001b[39m \u001b[39m\"\u001b[39m\u001b[39mraw_input was called, but this frontend does not support input requests.\u001b[39m\u001b[39m\"\u001b[39m\n\u001b[0;32m   1201\u001b[0m     \u001b[39mraise\u001b[39;00m StdinNotImplementedError(msg)\n\u001b[1;32m-> 1202\u001b[0m \u001b[39mreturn\u001b[39;00m \u001b[39mself\u001b[39m\u001b[39m.\u001b[39m_input_request(\n\u001b[0;32m   1203\u001b[0m     \u001b[39mstr\u001b[39m(prompt),\n\u001b[0;32m   1204\u001b[0m     \u001b[39mself\u001b[39m\u001b[39m.\u001b[39m_parent_ident[\u001b[39m\"\u001b[39m\u001b[39mshell\u001b[39m\u001b[39m\"\u001b[39m],\n\u001b[0;32m   1205\u001b[0m     \u001b[39mself\u001b[39m\u001b[39m.\u001b[39mget_parent(\u001b[39m\"\u001b[39m\u001b[39mshell\u001b[39m\u001b[39m\"\u001b[39m),\n\u001b[0;32m   1206\u001b[0m     password\u001b[39m=\u001b[39m\u001b[39mFalse\u001b[39;00m,\n\u001b[0;32m   1207\u001b[0m )\n",
            "File \u001b[1;32mc:\\Users\\41791\\anaconda3\\Lib\\site-packages\\ipykernel\\kernelbase.py:1245\u001b[0m, in \u001b[0;36mKernel._input_request\u001b[1;34m(self, prompt, ident, parent, password)\u001b[0m\n\u001b[0;32m   1242\u001b[0m \u001b[39mexcept\u001b[39;00m \u001b[39mKeyboardInterrupt\u001b[39;00m:\n\u001b[0;32m   1243\u001b[0m     \u001b[39m# re-raise KeyboardInterrupt, to truncate traceback\u001b[39;00m\n\u001b[0;32m   1244\u001b[0m     msg \u001b[39m=\u001b[39m \u001b[39m\"\u001b[39m\u001b[39mInterrupted by user\u001b[39m\u001b[39m\"\u001b[39m\n\u001b[1;32m-> 1245\u001b[0m     \u001b[39mraise\u001b[39;00m \u001b[39mKeyboardInterrupt\u001b[39;00m(msg) \u001b[39mfrom\u001b[39;00m \u001b[39mNone\u001b[39;00m\n\u001b[0;32m   1246\u001b[0m \u001b[39mexcept\u001b[39;00m \u001b[39mException\u001b[39;00m:\n\u001b[0;32m   1247\u001b[0m     \u001b[39mself\u001b[39m\u001b[39m.\u001b[39mlog\u001b[39m.\u001b[39mwarning(\u001b[39m\"\u001b[39m\u001b[39mInvalid Message:\u001b[39m\u001b[39m\"\u001b[39m, exc_info\u001b[39m=\u001b[39m\u001b[39mTrue\u001b[39;00m)\n",
            "\u001b[1;31mKeyboardInterrupt\u001b[0m: Interrupted by user"
          ]
        }
      ],
      "source": [
        "# Initiating the game with the start_game function\n",
        "start_game()\n"
      ]
    },
    {
      "cell_type": "code",
      "execution_count": null,
      "metadata": {
        "id": "uZfv-U8gM4uP"
      },
      "outputs": [],
      "source": []
    }
  ],
  "metadata": {
    "colab": {
      "provenance": []
    },
    "kernelspec": {
      "display_name": "Python 3",
      "name": "python3"
    },
    "language_info": {
      "codemirror_mode": {
        "name": "ipython",
        "version": 3
      },
      "file_extension": ".py",
      "mimetype": "text/x-python",
      "name": "python",
      "nbconvert_exporter": "python",
      "pygments_lexer": "ipython3",
      "version": "3.11.5"
    }
  },
  "nbformat": 4,
  "nbformat_minor": 0
}
