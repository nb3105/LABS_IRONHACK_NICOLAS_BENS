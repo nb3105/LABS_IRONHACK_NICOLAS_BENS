{
  "cells": [
    {
      "cell_type": "code",
      "execution_count": 1,
      "metadata": {
        "id": "TjjUJ8kEa6av"
      },
      "outputs": [],
      "source": [
        "# Importing libraries\n",
        "%load_ext autoreload\n",
        "%autoreload 2 "
      ]
    },
    {
      "cell_type": "code",
      "execution_count": 2,
      "metadata": {
        "id": "Ftpqqu1pa8we"
      },
      "outputs": [],
      "source": [
        "from IPython.display import clear_output\n",
        "import function_berghain\n",
        "from function_berghain import start_game"
      ]
    },
    {
      "cell_type": "code",
      "execution_count": 3,
      "metadata": {
        "colab": {
          "base_uri": "https://localhost:8080/"
        },
        "id": "KEiDMb4NGwFu",
        "outputId": "b475d0b3-0688-4b14-9f92-2c02423c0c40"
      },
      "outputs": [
        {
          "name": "stdout",
          "output_type": "stream",
          "text": [
            "You are in the street and want to go to Berhain. \n",
            "You must get there ASAP!\n",
            "You are now in the street.\n"
          ]
        },
        {
          "name": "stdout",
          "output_type": "stream",
          "text": [
            "Bye bye.\n",
            "\n",
            "\n",
            "\n"
          ]
        }
      ],
      "source": [
        "# Initiating the game with the start_game function\n",
        "start_game()"
      ]
    },
    {
      "cell_type": "code",
      "execution_count": null,
      "metadata": {
        "id": "uZfv-U8gM4uP"
      },
      "outputs": [],
      "source": []
    }
  ],
  "metadata": {
    "colab": {
      "provenance": []
    },
    "kernelspec": {
      "display_name": "Python 3",
      "name": "python3"
    },
    "language_info": {
      "codemirror_mode": {
        "name": "ipython",
        "version": 3
      },
      "file_extension": ".py",
      "mimetype": "text/x-python",
      "name": "python",
      "nbconvert_exporter": "python",
      "pygments_lexer": "ipython3",
      "version": "3.11.5"
    }
  },
  "nbformat": 4,
  "nbformat_minor": 0
}
