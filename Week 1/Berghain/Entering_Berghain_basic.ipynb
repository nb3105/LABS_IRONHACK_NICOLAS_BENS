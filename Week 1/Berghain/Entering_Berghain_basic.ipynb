{
  "cells": [
    {
      "cell_type": "code",
      "execution_count": 1,
      "metadata": {
        "id": "TjjUJ8kEa6av"
      },
      "outputs": [],
      "source": [
        "# Importing libraries\n",
        "%load_ext autoreload\n",
        "%autoreload 2 "
      ]
    },
    {
      "cell_type": "code",
      "execution_count": 2,
      "metadata": {
        "id": "Ftpqqu1pa8we"
      },
      "outputs": [],
      "source": [
        "from IPython.display import clear_output\n",
        "import function_berghain"
      ]
    },
    {
      "cell_type": "code",
      "execution_count": 3,
      "metadata": {
        "colab": {
          "base_uri": "https://localhost:8080/"
        },
        "id": "KEiDMb4NGwFu",
        "outputId": "b475d0b3-0688-4b14-9f92-2c02423c0c40"
      },
      "outputs": [
        {
          "ename": "NameError",
          "evalue": "name 'INIT_GAME_STATE' is not defined",
          "output_type": "error",
          "traceback": [
            "\u001b[1;31m---------------------------------------------------------------------------\u001b[0m",
            "\u001b[1;31mNameError\u001b[0m                                 Traceback (most recent call last)",
            "\u001b[1;32mc:\\Users\\41791\\Documents\\GitHub\\LABS_IRONHACK_NICOLAS_BENS\\Week 1\\Berghain\\Entering_Berghain_basic.ipynb Cell 3\u001b[0m line \u001b[0;36m3\n\u001b[0;32m      <a href='vscode-notebook-cell:/c%3A/Users/41791/Documents/GitHub/LABS_IRONHACK_NICOLAS_BENS/Week%201/Berghain/Entering_Berghain_basic.ipynb#X21sZmlsZQ%3D%3D?line=0'>1</a>\u001b[0m \u001b[39m### Starting the game\u001b[39;00m\n\u001b[0;32m      <a href='vscode-notebook-cell:/c%3A/Users/41791/Documents/GitHub/LABS_IRONHACK_NICOLAS_BENS/Week%201/Berghain/Entering_Berghain_basic.ipynb#X21sZmlsZQ%3D%3D?line=1'>2</a>\u001b[0m \u001b[39m# Making a copy of the game state\u001b[39;00m\n\u001b[1;32m----> <a href='vscode-notebook-cell:/c%3A/Users/41791/Documents/GitHub/LABS_IRONHACK_NICOLAS_BENS/Week%201/Berghain/Entering_Berghain_basic.ipynb#X21sZmlsZQ%3D%3D?line=2'>3</a>\u001b[0m game_state \u001b[39m=\u001b[39m INIT_GAME_STATE\u001b[39m.\u001b[39mcopy()\n\u001b[0;32m      <a href='vscode-notebook-cell:/c%3A/Users/41791/Documents/GitHub/LABS_IRONHACK_NICOLAS_BENS/Week%201/Berghain/Entering_Berghain_basic.ipynb#X21sZmlsZQ%3D%3D?line=4'>5</a>\u001b[0m \u001b[39m# Initiating the game with the start_game function\u001b[39;00m\n\u001b[0;32m      <a href='vscode-notebook-cell:/c%3A/Users/41791/Documents/GitHub/LABS_IRONHACK_NICOLAS_BENS/Week%201/Berghain/Entering_Berghain_basic.ipynb#X21sZmlsZQ%3D%3D?line=5'>6</a>\u001b[0m start_game()\n",
            "\u001b[1;31mNameError\u001b[0m: name 'INIT_GAME_STATE' is not defined"
          ]
        }
      ],
      "source": [
        "# Initiating the game with the start_game function\n",
        "start_game()"
      ]
    },
    {
      "cell_type": "code",
      "execution_count": null,
      "metadata": {
        "id": "uZfv-U8gM4uP"
      },
      "outputs": [],
      "source": []
    }
  ],
  "metadata": {
    "colab": {
      "provenance": []
    },
    "kernelspec": {
      "display_name": "Python 3",
      "name": "python3"
    },
    "language_info": {
      "codemirror_mode": {
        "name": "ipython",
        "version": 3
      },
      "file_extension": ".py",
      "mimetype": "text/x-python",
      "name": "python",
      "nbconvert_exporter": "python",
      "pygments_lexer": "ipython3",
      "version": "3.11.5"
    }
  },
  "nbformat": 4,
  "nbformat_minor": 0
}
