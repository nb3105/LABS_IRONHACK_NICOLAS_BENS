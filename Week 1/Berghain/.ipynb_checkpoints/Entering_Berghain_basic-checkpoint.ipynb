{
 "cells": [
  {
   "cell_type": "code",
   "execution_count": null,
   "metadata": {
    "id": "TjjUJ8kEa6av"
   },
   "outputs": [],
   "source": [
    "# Importing libraries\n",
    "%load_ext autoreload\n",
    "%autoreload 2 "
   ]
  },
  {
   "cell_type": "code",
   "execution_count": null,
   "metadata": {
    "id": "Ftpqqu1pa8we"
   },
   "outputs": [],
   "source": [
    "from IPython.display import clear_output\n",
    "import function_berghain\n",
    "from function_berghain import start_game, countdown\n",
    "import threading"
   ]
  },
  {
   "cell_type": "code",
   "execution_count": null,
   "metadata": {},
   "outputs": [],
   "source": [
    "#Timer thread\n",
    "timer_thread = threading.Thread(target=countdown, args = (150,))\n",
    "timer_thread.start()"
   ]
  },
  {
   "cell_type": "code",
   "execution_count": null,
   "metadata": {
    "colab": {
     "base_uri": "https://localhost:8080/"
    },
    "id": "KEiDMb4NGwFu",
    "outputId": "b475d0b3-0688-4b14-9f92-2c02423c0c40"
   },
   "outputs": [],
   "source": [
    "# Initiating the game with the start_game function\n",
    "start_game()\n"
   ]
  }
 ],
 "metadata": {
  "colab": {
   "provenance": []
  },
  "kernelspec": {
   "display_name": "Python 3 (ipykernel)",
   "language": "python",
   "name": "python3"
  },
  "language_info": {
   "codemirror_mode": {
    "name": "ipython",
    "version": 3
   },
   "file_extension": ".py",
   "mimetype": "text/x-python",
   "name": "python",
   "nbconvert_exporter": "python",
   "pygments_lexer": "ipython3",
   "version": "3.11.5"
  }
 },
 "nbformat": 4,
 "nbformat_minor": 1
}
