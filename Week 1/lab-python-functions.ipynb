{
 "cells": [
  {
   "cell_type": "markdown",
   "id": "25d7736c-ba17-4aff-b6bb-66eba20fbf4e",
   "metadata": {},
   "source": [
    "# Lab | Functions"
   ]
  },
  {
   "cell_type": "markdown",
   "id": "0c581062-8967-4d93-b06e-62833222f930",
   "metadata": {
    "tags": []
   },
   "source": [
    "## Exercise: Managing Customer Orders with Functions\n",
    "\n",
    "In the previous exercise, you improved the code for managing customer orders by using loops and flow control. Now, let's take it a step further and refactor the code by introducing functions.\n",
    "\n",
    "Follow the steps below to complete the exercise:\n",
    "\n",
    "1. Define a function named `initialize_inventory` that takes `products` as a parameter. Inside the function, implement the code for initializing the inventory dictionary using a loop and user input.\n",
    "\n",
    "2. Define a function named `get_customer_orders` that takes no parameters. Inside the function, implement the code for prompting the user to enter the product names using a loop. The function should return the `customer_orders` set.\n",
    "\n",
    "3. Define a function named `update_inventory` that takes `customer_orders` and `inventory` as parameters. Inside the function, implement the code for updating the inventory dictionary based on the customer orders.\n",
    "\n",
    "4. Define a function named `calculate_order_statistics` that takes `customer_orders` and `products` as parameters. Inside the function, implement the code for calculating the order statistics (total products ordered, and percentage of unique products ordered). The function should return these values.\n",
    "\n",
    "5. Define a function named `print_order_statistics` that takes `order_statistics` as a parameter. Inside the function, implement the code for printing the order statistics.\n",
    "\n",
    "6. Define a function named `print_updated_inventory` that takes `inventory` as a parameter. Inside the function, implement the code for printing the updated inventory.\n",
    "\n",
    "7. Call the functions in the appropriate sequence to execute the program and manage customer orders.\n",
    "\n",
    "Hints for functions:\n",
    "\n",
    "- Consider the input parameters required for each function and their return values.\n",
    "- Utilize function parameters and return values to transfer data between functions.\n",
    "- Test your functions individually to ensure they work correctly.\n",
    "\n",
    "\n"
   ]
  },
  {
   "cell_type": "code",
   "execution_count": 17,
   "id": "3a78358b",
   "metadata": {},
   "outputs": [],
   "source": [
    "products = [\n",
    "        \"t-shirts\",\n",
    "        \"mug\",\n",
    "        \"hat\",\n",
    "        \"book\",\n",
    "        \"keychain\"\n",
    "    ]\n",
    "\n",
    "customer_orders = set()"
   ]
  },
  {
   "cell_type": "code",
   "execution_count": 18,
   "id": "741ec938",
   "metadata": {
    "scrolled": true
   },
   "outputs": [
    {
     "name": "stdout",
     "output_type": "stream",
     "text": [
      "How many units of t-shirts? 10\n",
      "How many units of mug? 20\n",
      "How many units of hat? 30\n",
      "How many units of book? 40\n",
      "How many units of keychain? 10\n"
     ]
    },
    {
     "data": {
      "text/plain": [
       "{'t-shirts': 10, 'mug': 20, 'hat': 30, 'book': 40, 'keychain': 10}"
      ]
     },
     "execution_count": 18,
     "metadata": {},
     "output_type": "execute_result"
    }
   ],
   "source": [
    "def initialize_inventory(products):\n",
    " \n",
    "    inventory = {\n",
    "        \n",
    "    }\n",
    "    \n",
    "    for product in products:\n",
    "        inventory[product] = 0\n",
    "    for product in inventory:\n",
    "        units = int(input(f\"How many units of {product}? \"))\n",
    "        inventory[product] = units\n",
    "    return inventory\n",
    "    \n",
    "\n",
    "initialize_inventory(products)"
   ]
  },
  {
   "cell_type": "code",
   "execution_count": 19,
   "id": "689d0406",
   "metadata": {},
   "outputs": [
    {
     "name": "stdout",
     "output_type": "stream",
     "text": [
      "Enter a product you would like to order: hat\n",
      "Would you like to order another product ? Yes or No yes\n",
      "Enter a product you would like to order: mug\n",
      "Would you like to order another product ? Yes or No hat\n",
      "Enter a product you would like to order: mug\n",
      "Would you like to order another product ? Yes or No no\n",
      "Thank you for your order!\n"
     ]
    }
   ],
   "source": [
    "def get_customer_orders():\n",
    "    while True:\n",
    "        user_input = input(\"Enter a product you would like to order: \")\n",
    "        customer_orders.add(user_input)\n",
    "        ask_again = input(\"Would you like to order another product ? Yes or No \")\n",
    "        no = \"no\"\n",
    "        \n",
    "        if ask_again == no:\n",
    "            print(\"Thank you for your order!\")\n",
    "            break\n",
    "\n",
    "get_customer_orders()\n",
    "        "
   ]
  },
  {
   "cell_type": "code",
   "execution_count": null,
   "id": "a1c1e8c5",
   "metadata": {},
   "outputs": [],
   "source": [
    "#1\n",
    "#Final version\n",
    "products = [\"t-shirt\",\n",
    "            \"mug\",\n",
    "            \"hat\",\n",
    "            \"book\",\n",
    "            \"keychain\"\n",
    "           ]\n",
    "\n",
    "inventory = {\n",
    "    \n",
    "}\n",
    "\n",
    "for product in products:\n",
    "    inventory[product] = 0\n",
    "\n",
    "for product in inventory:\n",
    "    units = int(input(f\"How many units of {product}? \"))\n",
    "    inventory[product] = units\n",
    "\n",
    "print(\"Inventory:\")\n",
    "print(inventory)\n",
    "\n",
    "customer_orders = set()\n",
    "\n",
    "while True:\n",
    "    user_input = input(\"Enter a product you would like to order: \")\n",
    "    customer_orders.add(user_input)\n",
    "    ask_again = input(\"Would you like another product ? yes or no ? \")\n",
    "    no = \"no\"\n",
    "\n",
    "    if ask_again == no:\n",
    "        print(\"Thank you for your order!\")\n",
    "        break\n",
    "\n",
    "print(\"Customer orders:\")\n",
    "print(customer_orders)\n",
    "\n",
    "# Update the inventory\n",
    "for product in customer_orders:\n",
    "    if product in inventory and inventory[product] > 0:\n",
    "        inventory[product] -= 1\n",
    "\n",
    "print(\"Updt inventory:\")\n",
    "print(inventory)\n",
    "\n",
    "total_products_ordered = len(customer_orders)\n",
    "total_products_available = sum(inventory.values())\n",
    "percentage_ordered = (total_products_ordered / len(products)) * 100\n",
    "\n",
    "print(f\"Percentage of the order is {percentage_ordered}% of the avaible types of items.\")\n"
   ]
  }
 ],
 "metadata": {
  "kernelspec": {
   "display_name": "Python 3 (ipykernel)",
   "language": "python",
   "name": "python3"
  },
  "language_info": {
   "codemirror_mode": {
    "name": "ipython",
    "version": 3
   },
   "file_extension": ".py",
   "mimetype": "text/x-python",
   "name": "python",
   "nbconvert_exporter": "python",
   "pygments_lexer": "ipython3",
   "version": "3.11.5"
  }
 },
 "nbformat": 4,
 "nbformat_minor": 5
}
