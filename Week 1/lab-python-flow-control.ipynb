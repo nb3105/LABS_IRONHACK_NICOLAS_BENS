{
 "cells": [
  {
   "cell_type": "markdown",
   "id": "d3bfc191-8885-42ee-b0a0-bbab867c6f9f",
   "metadata": {
    "tags": []
   },
   "source": [
    "# Lab | Flow Control"
   ]
  },
  {
   "cell_type": "markdown",
   "id": "3851fcd1-cf98-4653-9c89-e003b7ec9400",
   "metadata": {},
   "source": [
    "## Exercise: Managing Customer Orders Optimized\n",
    "\n",
    "In the last lab, you were starting an online store that sells various products. To ensure smooth operations, you developed a program that manages customer orders and inventory.\n",
    "\n",
    "You did so without using flow control. Let's go a step further and improve this code.\n",
    "\n",
    "Follow the steps below to complete the exercise:\n",
    "\n",
    "1. Look at your code from the lab data structures, and improve repeated code with loops.\n",
    "\n",
    "2. Instead of asking the user to input the name of three products that a customer wants to order, do the following:\n",
    "    \n",
    "    a. Prompt the user to enter the name of a product that a customer wants to order.\n",
    "    \n",
    "    b. Add the product name to the \"customer_orders\" set.\n",
    "    \n",
    "    c. Ask the user if they want to add another product (yes/no).\n",
    "    \n",
    "    d. Continue the loop until the user does not want to add another product.\n",
    "\n",
    "3. Instead of updating the inventory by subtracting 1 from the quantity of each product, only do it for  the products that were ordered (those in \"customer_orders\")."
   ]
  },
  {
   "cell_type": "code",
   "execution_count": 14,
   "id": "b0d30234",
   "metadata": {},
   "outputs": [
    {
     "name": "stdout",
     "output_type": "stream",
     "text": [
      "Inventory:\n",
      "{'t-shirt': 10, 'mug': 10, 'hat': 10, 'book': 10, 'keychain': 10}\n",
      "Thank you for your order!\n",
      "Customer orders:\n",
      "{'mug', 'hat'}\n",
      "Updt inventory:\n",
      "{'t-shirt': 10, 'mug': 9, 'hat': 9, 'book': 10, 'keychain': 10}\n",
      "Percentage of the order is 40.0% of the avaible types of items.\n"
     ]
    }
   ],
   "source": [
    "#1\n",
    "#Final version\n",
    "products = [\"t-shirt\",\n",
    "            \"mug\",\n",
    "            \"hat\",\n",
    "            \"book\",\n",
    "            \"keychain\"\n",
    "           ]\n",
    "\n",
    "inventory = {\n",
    "    \n",
    "}\n",
    "\n",
    "for product in products:\n",
    "    inventory[product] = 0\n",
    "\n",
    "for product in inventory:\n",
    "    units = int(input(f\"How many units of {product}? \"))\n",
    "    inventory[product] = units\n",
    "\n",
    "print(\"Inventory:\")\n",
    "print(inventory)\n",
    "\n",
    "customer_orders = set()\n",
    "\n",
    "while True:\n",
    "    user_input = input(\"Enter a product you would like to order: \")\n",
    "    customer_orders.add(user_input)\n",
    "    ask_again = input(\"Would you like another product ? yes or no ? \")\n",
    "    no = \"no\"\n",
    "\n",
    "    if ask_again == no:\n",
    "        print(\"Thank you for your order!\")\n",
    "        break\n",
    "\n",
    "print(\"Customer orders:\")\n",
    "print(customer_orders)\n",
    "\n",
    "# Update the inventory\n",
    "for product in customer_orders:\n",
    "    if product in inventory and inventory[product] > 0:\n",
    "        inventory[product] -= 1\n",
    "\n",
    "print(\"Updt inventory:\")\n",
    "print(inventory)\n",
    "\n",
    "total_products_ordered = len(customer_orders)\n",
    "total_products_available = sum(inventory.values())\n",
    "percentage_ordered = (total_products_ordered / len(products)) * 100\n",
    "\n",
    "print(f\"Percentage of the order is {percentage_ordered}% of the avaible types of items.\")\n"
   ]
  }
 ],
 "metadata": {
  "kernelspec": {
   "display_name": "Python 3 (ipykernel)",
   "language": "python",
   "name": "python3"
  },
  "language_info": {
   "codemirror_mode": {
    "name": "ipython",
    "version": 3
   },
   "file_extension": ".py",
   "mimetype": "text/x-python",
   "name": "python",
   "nbconvert_exporter": "python",
   "pygments_lexer": "ipython3",
   "version": "3.11.5"
  }
 },
 "nbformat": 4,
 "nbformat_minor": 5
}
