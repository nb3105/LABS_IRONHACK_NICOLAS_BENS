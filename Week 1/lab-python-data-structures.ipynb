{
 "cells": [
  {
   "cell_type": "markdown",
   "metadata": {
    "tags": []
   },
   "source": [
    "# Lab | Data Structures "
   ]
  },
  {
   "cell_type": "markdown",
   "metadata": {},
   "source": [
    "## Exercise: Managing Customer Orders\n",
    "\n",
    "As part of a business venture, you are starting an online store that sells various products. To ensure smooth operations, you need to develop a program that manages customer orders and inventory.\n",
    "\n",
    "Follow the steps below to complete the exercise:\n",
    "\n",
    "1. Define a list called `products` that contains the following items: \"t-shirt\", \"mug\", \"hat\", \"book\", \"keychain\".\n",
    "\n",
    "2. Create an empty dictionary called `inventory`.\n",
    "\n",
    "3. Ask the user to input the quantity of each product available in the inventory. Use the product names from the `products` list as keys in the `inventory` dictionary and assign the respective quantities as values.\n",
    "\n",
    "4. Create an empty set called `customer_orders`.\n",
    "\n",
    "5. Ask the user to input the name of three products that a customer wants to order (from those in the products list, meaning three products out of \"t-shirt\", \"mug\", \"hat\", \"book\" or \"keychain\". Add each product name to the `customer_orders` set.\n",
    "\n",
    "6. Print the products in the `customer_orders` set.\n",
    "\n",
    "7. Calculate the following order statistics:\n",
    "   - Total Products Ordered: The total number of products in the `customer_orders` set.\n",
    "   - Percentage of Products Ordered: The percentage of products ordered compared to the total available products.\n",
    "   \n",
    "   Store these statistics in a tuple called `order_status`.\n",
    "\n",
    "8. Print the order statistics using the following format:\n",
    "   ```\n",
    "   Order Statistics:\n",
    "   Total Products Ordered: <total_products_ordered>\n",
    "   Percentage of Products Ordered: <percentage_ordered>% \n",
    "   ```\n",
    "\n",
    "9. Update the inventory by subtracting 1 from the quantity of each product. Modify the `inventory` dictionary accordingly.\n",
    "\n",
    "10. Print the updated inventory, displaying the quantity of each product on separate lines.\n",
    "\n",
    "Solve the exercise by implementing the steps using the Python concepts of lists, dictionaries, sets, and basic input/output operations. "
   ]
  },
  {
   "cell_type": "code",
   "execution_count": 20,
   "metadata": {},
   "outputs": [
    {
     "name": "stdout",
     "output_type": "stream",
     "text": [
      "How many units t-shirt ?10\n",
      "How many units mug ?20\n",
      "How many units hat ?30\n",
      "How many units book ?40\n",
      "How many units keychain ?50\n",
      "{'t-shirt': '10', 'mug': '20', 'hat': '30', 'book': '40', 'keychain': '50'}\n",
      "Name a product you would like: mug\n",
      "Name a product you would like: hat\n",
      "Name a product you would like: book\n",
      "{'mug', 'hat', 'book'}\n",
      "Percentage of the order is  60.0%.\n"
     ]
    },
    {
     "ename": "TypeError",
     "evalue": "'>' not supported between instances of 'str' and 'int'",
     "output_type": "error",
     "traceback": [
      "\u001b[1;31m---------------------------------------------------------------------------\u001b[0m",
      "\u001b[1;31mTypeError\u001b[0m                                 Traceback (most recent call last)",
      "Cell \u001b[1;32mIn[20], line 41\u001b[0m\n\u001b[0;32m     38\u001b[0m \u001b[38;5;66;03m#Inventory Update\u001b[39;00m\n\u001b[0;32m     40\u001b[0m \u001b[38;5;28;01mfor\u001b[39;00m product \u001b[38;5;129;01min\u001b[39;00m customer_orders:\n\u001b[1;32m---> 41\u001b[0m     \u001b[38;5;28;01mif\u001b[39;00m product \u001b[38;5;129;01min\u001b[39;00m inventory \u001b[38;5;129;01mand\u001b[39;00m inventory[product] \u001b[38;5;241m>\u001b[39m \u001b[38;5;241m0\u001b[39m:\n\u001b[0;32m     42\u001b[0m         inventory[product] \u001b[38;5;241m-\u001b[39m\u001b[38;5;241m=\u001b[39m \u001b[38;5;241m1\u001b[39m\n\u001b[0;32m     44\u001b[0m \u001b[38;5;28mprint\u001b[39m(\u001b[38;5;124m\"\u001b[39m\u001b[38;5;124mUpdated inventory:\u001b[39m\u001b[38;5;124m\"\u001b[39m)\n",
      "\u001b[1;31mTypeError\u001b[0m: '>' not supported between instances of 'str' and 'int'"
     ]
    }
   ],
   "source": [
    "products = [\n",
    "    \"t-shirt\",\n",
    "    \"mug\",\n",
    "    \"hat\",\n",
    "    \"book\",\n",
    "    \"keychain\"\n",
    "]\n",
    "\n",
    "inventory = {\n",
    "    \n",
    "}\n",
    "\n",
    "for i in products:\n",
    "    inventory[i] = 0\n",
    "\n",
    "\n",
    "\n",
    "for i in inventory:\n",
    "    units = input(f\"How many units {i} ?\")\n",
    "    inventory[i] = units\n",
    "\n",
    "print(inventory)\n",
    "\n",
    "customer_orders = set()\n",
    "\n",
    "for i in range(3):\n",
    "    user_input = input(\"Name a product you would like: \")\n",
    "    customer_orders.add(user_input)\n",
    "\n",
    "print(customer_orders)\n",
    "\n",
    "total_products_ordered = len(customer_orders)\n",
    "total_products_avaible = len(products)\n",
    "statistic = total_products_ordered * 100 / total_products_avaible\n",
    "statistic = f\"Percentage of the order is  {statistic}%.\"\n",
    "print(statistic)\n",
    "\n",
    "#Inventory Update\n",
    "\n",
    "for product in customer_orders:\n",
    "    if product in inventory and inventory[product] > 0:\n",
    "        inventory[product] -= 1\n",
    "\n",
    "print(\"Updated inventory:\")\n",
    "print(inventory)\n",
    "#Final version is under..\n",
    "\n",
    "\n",
    "\n",
    "\n",
    "\n",
    "\n",
    "\n"
   ]
  },
  {
   "cell_type": "markdown",
   "metadata": {},
   "source": [
    "#### "
   ]
  },
  {
   "cell_type": "code",
   "execution_count": 23,
   "metadata": {},
   "outputs": [
    {
     "name": "stdout",
     "output_type": "stream",
     "text": [
      "How many units of t-shirt? 10\n",
      "How many units of mug? 20\n",
      "How many units of hat? 30\n",
      "How many units of book? 40\n",
      "How many units of keychain? 50\n",
      "Inventory:\n",
      "{'t-shirt': 10, 'mug': 20, 'hat': 30, 'book': 40, 'keychain': 50}\n",
      "Enter a product you would like to order: book\n",
      "Enter a product you would like to order: book\n",
      "Enter a product you would like to order: hat\n",
      "Customer orders:\n",
      "{'hat', 'book'}\n",
      "Updt inventory:\n",
      "{'t-shirt': 10, 'mug': 20, 'hat': 29, 'book': 39, 'keychain': 50}\n",
      "Percentage of the order is 40.00%.\n"
     ]
    }
   ],
   "source": [
    "#Final version\n",
    "products = [\"t-shirt\",\n",
    "            \"mug\",\n",
    "            \"hat\",\n",
    "            \"book\",\n",
    "            \"keychain\"\n",
    "           ]\n",
    "\n",
    "inventory = {\n",
    "    \n",
    "}\n",
    "\n",
    "for product in products:\n",
    "    inventory[product] = 0\n",
    "\n",
    "for product in inventory:\n",
    "    units = int(input(f\"How many units of {product}? \"))\n",
    "    inventory[product] = units\n",
    "\n",
    "print(\"Inventory:\")\n",
    "print(inventory)\n",
    "\n",
    "customer_orders = set()\n",
    "\n",
    "for i in range(3):\n",
    "    user_input = input(\"Enter a product you would like to order: \")\n",
    "    customer_orders.add(user_input)\n",
    "\n",
    "print(\"Customer orders:\")\n",
    "print(customer_orders)\n",
    "\n",
    "# Update the inventoryt\n",
    "for product in customer_orders:\n",
    "    if product in inventory and inventory[product] > 0:\n",
    "        inventory[product] -= 1\n",
    "\n",
    "print(\"Updt inventory:\")\n",
    "print(inventory)\n",
    "\n",
    "total_products_ordered = len(customer_orders)\n",
    "total_products_available = sum(inventory.values())\n",
    "percentage_ordered = (total_products_ordered / len(products)) * 100\n",
    "\n",
    "print(f\"Percentage of the order is {percentage_ordered:.2f}% of the avaible items.\")\n"
   ]
  },
  {
   "cell_type": "code",
   "execution_count": null,
   "metadata": {},
   "outputs": [],
   "source": []
  }
 ],
 "metadata": {
  "kernelspec": {
   "display_name": "Python 3 (ipykernel)",
   "language": "python",
   "name": "python3"
  },
  "language_info": {
   "codemirror_mode": {
    "name": "ipython",
    "version": 3
   },
   "file_extension": ".py",
   "mimetype": "text/x-python",
   "name": "python",
   "nbconvert_exporter": "python",
   "pygments_lexer": "ipython3",
   "version": "3.11.5"
  }
 },
 "nbformat": 4,
 "nbformat_minor": 4
}
