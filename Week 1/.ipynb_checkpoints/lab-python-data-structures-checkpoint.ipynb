{
 "cells": [
  {
   "cell_type": "markdown",
   "metadata": {
    "tags": []
   },
   "source": [
    "# Lab | Data Structures "
   ]
  },
  {
   "cell_type": "markdown",
   "metadata": {},
   "source": [
    "## Exercise: Managing Customer Orders\n",
    "\n",
    "As part of a business venture, you are starting an online store that sells various products. To ensure smooth operations, you need to develop a program that manages customer orders and inventory.\n",
    "\n",
    "Follow the steps below to complete the exercise:\n",
    "\n",
    "1. Define a list called `products` that contains the following items: \"t-shirt\", \"mug\", \"hat\", \"book\", \"keychain\".\n",
    "\n",
    "2. Create an empty dictionary called `inventory`.\n",
    "\n",
    "3. Ask the user to input the quantity of each product available in the inventory. Use the product names from the `products` list as keys in the `inventory` dictionary and assign the respective quantities as values.\n",
    "\n",
    "4. Create an empty set called `customer_orders`.\n",
    "\n",
    "5. Ask the user to input the name of three products that a customer wants to order (from those in the products list, meaning three products out of \"t-shirt\", \"mug\", \"hat\", \"book\" or \"keychain\". Add each product name to the `customer_orders` set.\n",
    "\n",
    "6. Print the products in the `customer_orders` set.\n",
    "\n",
    "7. Calculate the following order statistics:\n",
    "   - Total Products Ordered: The total number of products in the `customer_orders` set.\n",
    "   - Percentage of Products Ordered: The percentage of products ordered compared to the total available products.\n",
    "   \n",
    "   Store these statistics in a tuple called `order_status`.\n",
    "\n",
    "8. Print the order statistics using the following format:\n",
    "   ```\n",
    "   Order Statistics:\n",
    "   Total Products Ordered: <total_products_ordered>\n",
    "   Percentage of Products Ordered: <percentage_ordered>% \n",
    "   ```\n",
    "\n",
    "9. Update the inventory by subtracting 1 from the quantity of each product. Modify the `inventory` dictionary accordingly.\n",
    "\n",
    "10. Print the updated inventory, displaying the quantity of each product on separate lines.\n",
    "\n",
    "Solve the exercise by implementing the steps using the Python concepts of lists, dictionaries, sets, and basic input/output operations. "
   ]
  },
  {
   "cell_type": "markdown",
   "metadata": {},
   "source": [
    "#### "
   ]
  },
  {
   "cell_type": "code",
   "execution_count": 4,
   "metadata": {},
   "outputs": [
    {
     "name": "stdout",
     "output_type": "stream",
     "text": [
      "How many units of t-shirt? 10\n",
      "How many units of mug? 20\n",
      "How many units of hat? 20\n",
      "How many units of book? 20\n",
      "How many units of keychain? 20\n",
      "Inventory:\n",
      "{'t-shirt': 10, 'mug': 20, 'hat': 20, 'book': 20, 'keychain': 20}\n",
      "Enter a product you would like to order: mug\n",
      "Enter a product you would like to order: mug\n",
      "Enter a product you would like to order: book\n",
      "Customer orders:\n",
      "{'book', 'mug'}\n",
      "Updt inventory:\n",
      "{'t-shirt': 10, 'mug': 19, 'hat': 20, 'book': 19, 'keychain': 20}\n",
      "Percentage of the order is 40.0% of the avaible items.\n"
     ]
    }
   ],
   "source": [
    "#Final version\n",
    "products = [\"t-shirt\",\n",
    "            \"mug\",\n",
    "            \"hat\",\n",
    "            \"book\",\n",
    "            \"keychain\"\n",
    "           ]\n",
    "\n",
    "inventory = {\n",
    "    \n",
    "}\n",
    "\n",
    "for product in products:\n",
    "    inventory[product] = 0\n",
    "\n",
    "for product in inventory:\n",
    "    units = int(input(f\"How many units of {product}? \"))\n",
    "    inventory[product] = units\n",
    "\n",
    "print(\"Inventory:\")\n",
    "print(inventory)\n",
    "\n",
    "customer_orders = set()\n",
    "\n",
    "for i in range(3):\n",
    "    user_input = input(\"Enter a product you would like to order: \")\n",
    "    customer_orders.add(user_input)\n",
    "\n",
    "print(\"Customer orders:\")\n",
    "print(customer_orders)\n",
    "\n",
    "# Update the inventoryt\n",
    "for product in customer_orders:\n",
    "    if product in inventory and inventory[product] > 0:\n",
    "        inventory[product] -= 1\n",
    "\n",
    "print(\"Updt inventory:\")\n",
    "print(inventory)\n",
    "\n",
    "total_products_ordered = len(customer_orders)\n",
    "total_products_available = sum(inventory.values())\n",
    "percentage_ordered = (total_products_ordered / len(products)) * 100\n",
    "\n",
    "print(f\"Percentage of the order is {percentage_ordered:.1f}% of the avaible types of items.\")\n"
   ]
  },
  {
   "cell_type": "code",
   "execution_count": null,
   "metadata": {},
   "outputs": [],
   "source": []
  }
 ],
 "metadata": {
  "kernelspec": {
   "display_name": "Python 3 (ipykernel)",
   "language": "python",
   "name": "python3"
  },
  "language_info": {
   "codemirror_mode": {
    "name": "ipython",
    "version": 3
   },
   "file_extension": ".py",
   "mimetype": "text/x-python",
   "name": "python",
   "nbconvert_exporter": "python",
   "pygments_lexer": "ipython3",
   "version": "3.11.5"
  }
 },
 "nbformat": 4,
 "nbformat_minor": 4
}
