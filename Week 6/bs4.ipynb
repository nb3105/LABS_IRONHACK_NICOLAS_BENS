{
 "cells": [
  {
   "cell_type": "code",
   "execution_count": null,
   "id": "5e76541e",
   "metadata": {},
   "outputs": [],
   "source": [
    "import request\n",
    "from bs4 import BeautifulSoup\n",
    "\n",
    "url = \"https://www.tripadvisor.de/Restaurants-g187323-Berlin.html\"\n",
    "page = request.get(url)\n",
    "page.status_code\n",
    "\n",
    "soup = BeautifulSoup(page.content, \"html.parser\")"
   ]
  }
 ],
 "metadata": {
  "kernelspec": {
   "display_name": "Python 3 (ipykernel)",
   "language": "python",
   "name": "python3"
  },
  "language_info": {
   "codemirror_mode": {
    "name": "ipython",
    "version": 3
   },
   "file_extension": ".py",
   "mimetype": "text/x-python",
   "name": "python",
   "nbconvert_exporter": "python",
   "pygments_lexer": "ipython3",
   "version": "3.11.5"
  }
 },
 "nbformat": 4,
 "nbformat_minor": 5
}
