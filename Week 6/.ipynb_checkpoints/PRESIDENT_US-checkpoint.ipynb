{
 "cells": [
  {
   "cell_type": "code",
   "execution_count": 1,
   "id": "80047451",
   "metadata": {},
   "outputs": [],
   "source": [
    "from bs4 import BeautifulSoup\n",
    "import requests\n",
    "import pandas as pd\n",
    "import random"
   ]
  },
  {
   "cell_type": "code",
   "execution_count": 2,
   "id": "8aae3d38",
   "metadata": {},
   "outputs": [],
   "source": [
    "url = \"https://en.wikipedia.org/wiki/List_of_presidents_of_the_United_States\"\n",
    "response = requests.get(url)\n",
    "response.status_code\n",
    "soup = BeautifulSoup(response.content, \"html.parser\")"
   ]
  },
  {
   "cell_type": "markdown",
   "id": "7944ee5d",
   "metadata": {},
   "source": [
    "## We want the name of the president, born, spouse and children.\n"
   ]
  },
  {
   "cell_type": "code",
   "execution_count": 3,
   "id": "b39d8c84",
   "metadata": {},
   "outputs": [],
   "source": [
    "name = []\n",
    "born = []\n",
    "spouse = []\n",
    "children = []\n",
    "links = []"
   ]
  },
  {
   "cell_type": "code",
   "execution_count": 4,
   "id": "76e33425",
   "metadata": {},
   "outputs": [],
   "source": [
    "#Links for the wikipedia pages of the president\n",
    "for k in soup.select(\"tbody tr td b a\"):\n",
    "    links.append(k[\"href\"])"
   ]
  },
  {
   "cell_type": "code",
   "execution_count": 5,
   "id": "8a5de028",
   "metadata": {},
   "outputs": [],
   "source": [
    "#We want the name of the president, born, spouse and children.\n",
    "for k in soup.select(\"tbody tr td b a\"):\n",
    "    name.append(k.get_text())"
   ]
  },
  {
   "cell_type": "code",
   "execution_count": 7,
   "id": "43b7948b",
   "metadata": {},
   "outputs": [],
   "source": [
    "#Url for each president's website\n",
    "for link in links:\n",
    "    base_url = \"https://en.wikipedia.org\"\n",
    "    response= requests.get(base_url + link)\n",
    "    soup= BeautifulSoup(response.content)\n",
    "    born.append(soup.select(\"span.bday\"))"
   ]
  },
  {
   "cell_type": "markdown",
   "id": "f86fb1eb",
   "metadata": {},
   "source": [
    "for href in pres_href:\n",
    "    response = requests.get(base_url+href)\n",
    "    soup = BeautifulSoup(response.content)\n",
    "    name.append(soup.select(\"div.fn\")[0].get_text())\n",
    "    try:\n",
    "        born.append(soup.select(\"tbody span.bday\")[0].get_text())\n",
    "    except:\n",
    "        born.append(\"NA\")\n",
    "    try:\n",
    "        spouse.append(soup.select(\"td.infobox-date dive.marriage-display-ws\"))\n",
    "    except:\n",
    "        spouse.append(\"NA\")\n",
    "    try:\n",
    "        children.append(soup.find(\"...\"))\n",
    "    except:\n",
    "        children.append(0)"
   ]
  },
  {
   "cell_type": "code",
   "execution_count": null,
   "id": "9cdda930",
   "metadata": {},
   "outputs": [],
   "source": []
  }
 ],
 "metadata": {
  "kernelspec": {
   "display_name": "Python 3 (ipykernel)",
   "language": "python",
   "name": "python3"
  },
  "language_info": {
   "codemirror_mode": {
    "name": "ipython",
    "version": 3
   },
   "file_extension": ".py",
   "mimetype": "text/x-python",
   "name": "python",
   "nbconvert_exporter": "python",
   "pygments_lexer": "ipython3",
   "version": "3.11.5"
  }
 },
 "nbformat": 4,
 "nbformat_minor": 5
}
