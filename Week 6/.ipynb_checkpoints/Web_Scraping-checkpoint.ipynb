{
 "cells": [
  {
   "cell_type": "markdown",
   "metadata": {
    "id": "2MeowL7BaAbT"
   },
   "source": [
    "# Intro to web scraping"
   ]
  },
  {
   "cell_type": "markdown",
   "metadata": {
    "id": "xdO0nKqpaAba"
   },
   "source": [
    "The first step of web scraping is to identify a website and download the html code from it. \n",
    "\n",
    "Real html from websites tends to be long and a bit too chaotic for a total beginner. Here we will start with a dummy html document and learn the basics of extracting info with beautifulsoup.\n",
    "\n",
    "- You can learn about Html here https://www.w3schools.com/html/\n",
    "- You can use codebeautify to make your html more readable and clean https://codebeautify.org/htmlviewer"
   ]
  },
  {
   "cell_type": "code",
   "execution_count": 1,
   "metadata": {
    "ExecuteTime": {
     "end_time": "2022-11-21T10:23:59.833994Z",
     "start_time": "2022-11-21T10:23:59.831082Z"
    },
    "executionInfo": {
     "elapsed": 660,
     "status": "ok",
     "timestamp": 1617465193963,
     "user": {
      "displayName": "Ignacio Soteras",
      "photoUrl": "",
      "userId": "02050793736257155229"
     },
     "user_tz": -120
    },
    "id": "iYgB5Jt4aAbb"
   },
   "outputs": [],
   "source": [
    "html_doc = \"\"\" <!DOCTYPE html><html><head><title>The Dormouse's story</title></head><body><p class=\"title\"><b>The Dormouse's story</b></p><p class=\"story\">Once upon a time there were three little sisters; and their names were<a href=\"http://example.com/elsie\" class=\"sister\" id=\"link1\">Elsie</a>,<a href=\"http://example.com/lacie\" class=\"sister\" id=\"link2\">Lacie</a> and<a href=\"http://example.com/tillie\" class=\"sister\" id=\"link3\">Tillie</a>;and they lived at the bottom of a well.</p><p class=\"story\">...</p></html>\"\"\""
   ]
  },
  {
   "cell_type": "raw",
   "metadata": {},
   "source": [
    "html_doc = \"\"\"\n",
    "<!DOCTYPE html>\n",
    "<html>\n",
    "  <head>\n",
    "    <title>The Dormouse's story</title>\n",
    "  </head>\n",
    "  <body>\n",
    "  \n",
    "    <p class=\"title\">\n",
    "      <b>The Dormouse's story</b>\n",
    "    </p>\n",
    "    \n",
    "    <p class=\"story\">Once upon a time there were three little sisters; and their names were\n",
    "    <a href=\"http://example.com/elsie\" class=\"sister\" id=\"link1\">Elsie</a>, \n",
    "    <a href=\"http://example.com/lacie\" class=\"sister\" id=\"link2\">Lacie</a> and \n",
    "    <a href=\"http://example.com/tillie\" class=\"sister\" id=\"link3\">Tillie</a>\n",
    "    ;and they lived at the bottom of a well. \n",
    "    </p>\n",
    "    \n",
    "    <p class=\"story\">...</p>\n",
    "</html>\"\"\""
   ]
  },
  {
   "cell_type": "code",
   "execution_count": 2,
   "metadata": {
    "ExecuteTime": {
     "end_time": "2022-11-21T10:23:59.841348Z",
     "start_time": "2022-11-21T10:23:59.836157Z"
    },
    "colab": {
     "base_uri": "https://localhost:8080/",
     "height": 86
    },
    "executionInfo": {
     "elapsed": 561,
     "status": "ok",
     "timestamp": 1617465197153,
     "user": {
      "displayName": "Ignacio Soteras",
      "photoUrl": "",
      "userId": "02050793736257155229"
     },
     "user_tz": -120
    },
    "id": "9ndQx21PaAbb",
    "outputId": "dacc5618-8d74-4646-8321-f9116687e41b"
   },
   "outputs": [
    {
     "data": {
      "text/plain": [
       "' <!DOCTYPE html><html><head><title>The Dormouse\\'s story</title></head><body><p class=\"title\"><b>The Dormouse\\'s story</b></p><p class=\"story\">Once upon a time there were three little sisters; and their names were<a href=\"http://example.com/elsie\" class=\"sister\" id=\"link1\">Elsie</a>,<a href=\"http://example.com/lacie\" class=\"sister\" id=\"link2\">Lacie</a> and<a href=\"http://example.com/tillie\" class=\"sister\" id=\"link3\">Tillie</a>;and they lived at the bottom of a well.</p><p class=\"story\">...</p></html>'"
      ]
     },
     "execution_count": 2,
     "metadata": {},
     "output_type": "execute_result"
    }
   ],
   "source": [
    "html_doc"
   ]
  },
  {
   "cell_type": "code",
   "execution_count": 2,
   "metadata": {
    "ExecuteTime": {
     "end_time": "2022-11-21T10:23:59.898135Z",
     "start_time": "2022-11-21T10:23:59.842292Z"
    },
    "executionInfo": {
     "elapsed": 533,
     "status": "ok",
     "timestamp": 1617465207602,
     "user": {
      "displayName": "Ignacio Soteras",
      "photoUrl": "",
      "userId": "02050793736257155229"
     },
     "user_tz": -120
    },
    "id": "KsSDasPgaAbc"
   },
   "outputs": [],
   "source": [
    "from bs4 import BeautifulSoup"
   ]
  },
  {
   "cell_type": "markdown",
   "metadata": {
    "id": "i1OdYTuJaAbd"
   },
   "source": [
    "#### \"creating the soup\""
   ]
  },
  {
   "cell_type": "code",
   "execution_count": 4,
   "metadata": {
    "ExecuteTime": {
     "end_time": "2022-11-21T10:23:59.901202Z",
     "start_time": "2022-11-21T10:23:59.898921Z"
    },
    "executionInfo": {
     "elapsed": 532,
     "status": "ok",
     "timestamp": 1617465228581,
     "user": {
      "displayName": "Ignacio Soteras",
      "photoUrl": "",
      "userId": "02050793736257155229"
     },
     "user_tz": -120
    },
    "id": "cs0ECFiBaAbd"
   },
   "outputs": [],
   "source": [
    "# parse the element\n",
    "soup = BeautifulSoup(html_doc, 'html.parser') "
   ]
  },
  {
   "cell_type": "code",
   "execution_count": 5,
   "metadata": {},
   "outputs": [
    {
     "data": {
      "text/plain": [
       " <!DOCTYPE html>\n",
       "<html><head><title>The Dormouse's story</title></head><body><p class=\"title\"><b>The Dormouse's story</b></p><p class=\"story\">Once upon a time there were three little sisters; and their names were<a class=\"sister\" href=\"http://example.com/elsie\" id=\"link1\">Elsie</a>,<a class=\"sister\" href=\"http://example.com/lacie\" id=\"link2\">Lacie</a> and<a class=\"sister\" href=\"http://example.com/tillie\" id=\"link3\">Tillie</a>;and they lived at the bottom of a well.</p><p class=\"story\">...</p></body></html>"
      ]
     },
     "execution_count": 5,
     "metadata": {},
     "output_type": "execute_result"
    }
   ],
   "source": [
    "soup"
   ]
  },
  {
   "cell_type": "code",
   "execution_count": 3,
   "metadata": {},
   "outputs": [],
   "source": [
    "import pprint"
   ]
  },
  {
   "cell_type": "code",
   "execution_count": 7,
   "metadata": {},
   "outputs": [
    {
     "name": "stdout",
     "output_type": "stream",
     "text": [
      "<!DOCTYPE html>\n",
      "<html>\n",
      " <head>\n",
      "  <title>\n",
      "   The Dormouse's story\n",
      "  </title>\n",
      " </head>\n",
      " <body>\n",
      "  <p class=\"title\">\n",
      "   <b>\n",
      "    The Dormouse's story\n",
      "   </b>\n",
      "  </p>\n",
      "  <p class=\"story\">\n",
      "   Once upon a time there were three little sisters; and their names were\n",
      "   <a class=\"sister\" href=\"http://example.com/elsie\" id=\"link1\">\n",
      "    Elsie\n",
      "   </a>\n",
      "   ,\n",
      "   <a class=\"sister\" href=\"http://example.com/lacie\" id=\"link2\">\n",
      "    Lacie\n",
      "   </a>\n",
      "   and\n",
      "   <a class=\"sister\" href=\"http://example.com/tillie\" id=\"link3\">\n",
      "    Tillie\n",
      "   </a>\n",
      "   ;and they lived at the bottom of a well.\n",
      "  </p>\n",
      "  <p class=\"story\">\n",
      "   ...\n",
      "  </p>\n",
      " </body>\n",
      "</html>\n",
      "\n"
     ]
    }
   ],
   "source": [
    "print(soup.prettify())"
   ]
  },
  {
   "cell_type": "markdown",
   "metadata": {
    "id": "RLuvDPDzaAbd"
   },
   "source": [
    "#### accessing single elements"
   ]
  },
  {
   "cell_type": "markdown",
   "metadata": {
    "id": "JBSO_YnfcXrX"
   },
   "source": [
    "We can access html tags by appending to the `soup` a dot `.` and the name of the corresponding tag. In case of having multiple instances of the tag, only the first one will be retrieved.  "
   ]
  },
  {
   "cell_type": "code",
   "execution_count": 8,
   "metadata": {
    "ExecuteTime": {
     "end_time": "2022-11-21T10:23:59.904844Z",
     "start_time": "2022-11-21T10:23:59.902140Z"
    },
    "colab": {
     "base_uri": "https://localhost:8080/"
    },
    "executionInfo": {
     "elapsed": 566,
     "status": "ok",
     "timestamp": 1617465238564,
     "user": {
      "displayName": "Ignacio Soteras",
      "photoUrl": "",
      "userId": "02050793736257155229"
     },
     "user_tz": -120
    },
    "id": "pnxH2FiPaAbe",
    "outputId": "b55fa1b7-8959-4b30-c09c-5a2276531e87"
   },
   "outputs": [
    {
     "data": {
      "text/plain": [
       "<title>The Dormouse's story</title>"
      ]
     },
     "execution_count": 8,
     "metadata": {},
     "output_type": "execute_result"
    }
   ],
   "source": [
    "soup.title"
   ]
  },
  {
   "cell_type": "code",
   "execution_count": 9,
   "metadata": {
    "ExecuteTime": {
     "end_time": "2022-11-21T10:23:59.914307Z",
     "start_time": "2022-11-21T10:23:59.910820Z"
    },
    "colab": {
     "base_uri": "https://localhost:8080/",
     "height": 35
    },
    "executionInfo": {
     "elapsed": 559,
     "status": "ok",
     "timestamp": 1617465253514,
     "user": {
      "displayName": "Ignacio Soteras",
      "photoUrl": "",
      "userId": "02050793736257155229"
     },
     "user_tz": -120
    },
    "id": "f0MsU15MaAbe",
    "outputId": "d0d9b290-7934-414f-be4c-ef8cc95dca25"
   },
   "outputs": [
    {
     "data": {
      "text/plain": [
       "<head><title>The Dormouse's story</title></head>"
      ]
     },
     "execution_count": 9,
     "metadata": {},
     "output_type": "execute_result"
    }
   ],
   "source": [
    "soup.title.parent"
   ]
  },
  {
   "cell_type": "code",
   "execution_count": 10,
   "metadata": {
    "ExecuteTime": {
     "end_time": "2022-11-21T10:23:59.918179Z",
     "start_time": "2022-11-21T10:23:59.915465Z"
    }
   },
   "outputs": [
    {
     "data": {
      "text/plain": [
       "<p class=\"title\"><b>The Dormouse's story</b></p>"
      ]
     },
     "execution_count": 10,
     "metadata": {},
     "output_type": "execute_result"
    }
   ],
   "source": [
    "soup.html.body.p"
   ]
  },
  {
   "cell_type": "markdown",
   "metadata": {},
   "source": [
    "<b> searching using find() function"
   ]
  },
  {
   "cell_type": "code",
   "execution_count": 11,
   "metadata": {
    "ExecuteTime": {
     "end_time": "2022-11-21T10:23:59.921751Z",
     "start_time": "2022-11-21T10:23:59.919225Z"
    },
    "colab": {
     "base_uri": "https://localhost:8080/"
    },
    "executionInfo": {
     "elapsed": 569,
     "status": "ok",
     "timestamp": 1617465256917,
     "user": {
      "displayName": "Ignacio Soteras",
      "photoUrl": "",
      "userId": "02050793736257155229"
     },
     "user_tz": -120
    },
    "id": "YpUQh0exaAbe",
    "outputId": "605f9d35-44a9-42fa-b326-22a0a26b17db"
   },
   "outputs": [
    {
     "data": {
      "text/plain": [
       "\"The Dormouse's story\""
      ]
     },
     "execution_count": 11,
     "metadata": {},
     "output_type": "execute_result"
    }
   ],
   "source": [
    "soup.find(\"p\").get_text()"
   ]
  },
  {
   "cell_type": "code",
   "execution_count": 12,
   "metadata": {
    "ExecuteTime": {
     "end_time": "2022-11-21T10:23:59.925492Z",
     "start_time": "2022-11-21T10:23:59.922653Z"
    },
    "colab": {
     "base_uri": "https://localhost:8080/"
    },
    "executionInfo": {
     "elapsed": 645,
     "status": "ok",
     "timestamp": 1617465265285,
     "user": {
      "displayName": "Ignacio Soteras",
      "photoUrl": "",
      "userId": "02050793736257155229"
     },
     "user_tz": -120
    },
    "id": "9FL9FBEzaAbf",
    "outputId": "c0a33bd0-19f2-4cea-971a-32d79cf1e021"
   },
   "outputs": [
    {
     "data": {
      "text/plain": [
       "<p class=\"title\"><b>The Dormouse's story</b></p>"
      ]
     },
     "execution_count": 12,
     "metadata": {},
     "output_type": "execute_result"
    }
   ],
   "source": [
    "# this method only retrieves the first element of the specified tag\n",
    "soup.p"
   ]
  },
  {
   "cell_type": "markdown",
   "metadata": {
    "id": "2zgj0GceaAbf"
   },
   "source": [
    "#### finding all elements of a tag with the powerful find_all()"
   ]
  },
  {
   "cell_type": "code",
   "execution_count": 19,
   "metadata": {
    "ExecuteTime": {
     "end_time": "2022-11-21T10:23:59.931719Z",
     "start_time": "2022-11-21T10:23:59.926428Z"
    },
    "colab": {
     "base_uri": "https://localhost:8080/"
    },
    "executionInfo": {
     "elapsed": 543,
     "status": "ok",
     "timestamp": 1617465454278,
     "user": {
      "displayName": "Ignacio Soteras",
      "photoUrl": "",
      "userId": "02050793736257155229"
     },
     "user_tz": -120
    },
    "id": "opAvwEFZaAbf",
    "outputId": "ead0b364-e609-4a5c-b5da-17b7c824cfaa"
   },
   "outputs": [
    {
     "data": {
      "text/plain": [
       "[<p class=\"title\"><b>The Dormouse's story</b></p>,\n",
       " <p class=\"story\">Once upon a time there were three little sisters; and their names were<a class=\"sister\" href=\"http://example.com/elsie\" id=\"link1\">Elsie</a>,<a class=\"sister\" href=\"http://example.com/lacie\" id=\"link2\">Lacie</a> and<a class=\"sister\" href=\"http://example.com/tillie\" id=\"link3\">Tillie</a>;and they lived at the bottom of a well.</p>,\n",
       " <p class=\"story\">...</p>]"
      ]
     },
     "execution_count": 19,
     "metadata": {},
     "output_type": "execute_result"
    }
   ],
   "source": [
    "p_tags = soup.find_all(\"p\")\n",
    "p_tags"
   ]
  },
  {
   "cell_type": "markdown",
   "metadata": {
    "id": "WuGgfL7EdF65"
   },
   "source": [
    "To get the `text`from the corresponding html code, we can use the function: get_text()"
   ]
  },
  {
   "cell_type": "code",
   "execution_count": 21,
   "metadata": {
    "ExecuteTime": {
     "end_time": "2022-11-21T10:23:59.934958Z",
     "start_time": "2022-11-21T10:23:59.932615Z"
    },
    "id": "tlzGmYxVaAbf",
    "outputId": "5b891a84-bf77-4844-b0e0-8a60a8420551"
   },
   "outputs": [
    {
     "name": "stdout",
     "output_type": "stream",
     "text": [
      "The Dormouse's story\n",
      "Once upon a time there were three little sisters; and their names wereElsie,Lacie andTillie;and they lived at the bottom of a well.\n",
      "...\n"
     ]
    }
   ],
   "source": [
    "for p in p_tags:\n",
    "    print(p.get_text())"
   ]
  },
  {
   "cell_type": "markdown",
   "metadata": {},
   "source": [
    "## Return the 3 names of the sisters"
   ]
  },
  {
   "cell_type": "code",
   "execution_count": 22,
   "metadata": {},
   "outputs": [],
   "source": [
    "a_tags = soup.find_all('a')"
   ]
  },
  {
   "cell_type": "code",
   "execution_count": 23,
   "metadata": {},
   "outputs": [
    {
     "name": "stdout",
     "output_type": "stream",
     "text": [
      "Elsie\n",
      "Lacie\n",
      "Tillie\n"
     ]
    }
   ],
   "source": [
    "for a in a_tags:\n",
    "    print(a.get_text())"
   ]
  },
  {
   "cell_type": "markdown",
   "metadata": {
    "id": "iSzD6IxbaAbf"
   },
   "source": [
    "## Using css selectors\n",
    "Another way to find contents using select(). \n",
    "\n",
    "Let's learn first the syntax of css selectors playing this game: https://flukeout.github.io/\n",
    "\n",
    "Everyone should reach level 6!\n",
    "\n",
    "https://www.w3schools.com/css/css_howto.asp"
   ]
  },
  {
   "cell_type": "code",
   "execution_count": 24,
   "metadata": {
    "ExecuteTime": {
     "end_time": "2022-11-21T10:23:59.939380Z",
     "start_time": "2022-11-21T10:23:59.936028Z"
    },
    "id": "dNk8C2hoaAbf",
    "outputId": "900aa5e6-ae40-45c2-e894-7795b15c20ff"
   },
   "outputs": [
    {
     "data": {
      "text/plain": [
       "[<a class=\"sister\" href=\"http://example.com/elsie\" id=\"link1\">Elsie</a>,\n",
       " <a class=\"sister\" href=\"http://example.com/lacie\" id=\"link2\">Lacie</a>,\n",
       " <a class=\"sister\" href=\"http://example.com/tillie\" id=\"link3\">Tillie</a>]"
      ]
     },
     "execution_count": 24,
     "metadata": {},
     "output_type": "execute_result"
    }
   ],
   "source": [
    "soup.select(\"a\")"
   ]
  },
  {
   "cell_type": "code",
   "execution_count": 25,
   "metadata": {
    "ExecuteTime": {
     "end_time": "2022-11-21T10:23:59.942591Z",
     "start_time": "2022-11-21T10:23:59.940234Z"
    }
   },
   "outputs": [
    {
     "name": "stdout",
     "output_type": "stream",
     "text": [
      "Elsie\n",
      "Lacie\n",
      "Tillie\n"
     ]
    }
   ],
   "source": [
    "for a in soup.select('a'):\n",
    "    print(a.get_text())"
   ]
  },
  {
   "cell_type": "code",
   "execution_count": 26,
   "metadata": {},
   "outputs": [
    {
     "data": {
      "text/plain": [
       "[<p class=\"title\"><b>The Dormouse's story</b></p>,\n",
       " <p class=\"story\">Once upon a time there were three little sisters; and their names were<a class=\"sister\" href=\"http://example.com/elsie\" id=\"link1\">Elsie</a>,<a class=\"sister\" href=\"http://example.com/lacie\" id=\"link2\">Lacie</a> and<a class=\"sister\" href=\"http://example.com/tillie\" id=\"link3\">Tillie</a>;and they lived at the bottom of a well.</p>,\n",
       " <p class=\"story\">...</p>]"
      ]
     },
     "execution_count": 26,
     "metadata": {},
     "output_type": "execute_result"
    }
   ],
   "source": [
    "soup.select('p')"
   ]
  },
  {
   "cell_type": "code",
   "execution_count": 32,
   "metadata": {
    "ExecuteTime": {
     "end_time": "2022-11-21T10:23:59.948173Z",
     "start_time": "2022-11-21T10:23:59.943587Z"
    }
   },
   "outputs": [
    {
     "data": {
      "text/plain": [
       "<p class=\"title\"><b>The Dormouse's story</b></p>"
      ]
     },
     "execution_count": 32,
     "metadata": {},
     "output_type": "execute_result"
    }
   ],
   "source": [
    "soup.select(\"p\")[0]"
   ]
  },
  {
   "cell_type": "markdown",
   "metadata": {},
   "source": [
    "using css selector, you can search directly using Css classes!"
   ]
  },
  {
   "cell_type": "code",
   "execution_count": 33,
   "metadata": {
    "ExecuteTime": {
     "end_time": "2022-11-21T10:23:59.951745Z",
     "start_time": "2022-11-21T10:23:59.948985Z"
    },
    "id": "zzColpFDaAbg",
    "outputId": "5f20e08b-157c-43de-f8f6-7a75fbc01416"
   },
   "outputs": [
    {
     "data": {
      "text/plain": [
       "[<p class=\"title\"><b>The Dormouse's story</b></p>]"
      ]
     },
     "execution_count": 33,
     "metadata": {},
     "output_type": "execute_result"
    }
   ],
   "source": [
    "soup.select(\".title\")"
   ]
  },
  {
   "cell_type": "markdown",
   "metadata": {},
   "source": [
    "<b> comparing to find_all() .."
   ]
  },
  {
   "cell_type": "code",
   "execution_count": 34,
   "metadata": {
    "ExecuteTime": {
     "end_time": "2022-11-21T10:23:59.955538Z",
     "start_time": "2022-11-21T10:23:59.952594Z"
    }
   },
   "outputs": [
    {
     "data": {
      "text/plain": [
       "[<a class=\"sister\" href=\"http://example.com/elsie\" id=\"link1\">Elsie</a>,\n",
       " <a class=\"sister\" href=\"http://example.com/lacie\" id=\"link2\">Lacie</a>,\n",
       " <a class=\"sister\" href=\"http://example.com/tillie\" id=\"link3\">Tillie</a>]"
      ]
     },
     "execution_count": 34,
     "metadata": {},
     "output_type": "execute_result"
    }
   ],
   "source": [
    "soup.find_all(\"a\", class_=\"sister\")"
   ]
  },
  {
   "cell_type": "code",
   "execution_count": 35,
   "metadata": {
    "ExecuteTime": {
     "end_time": "2022-11-21T10:23:59.959269Z",
     "start_time": "2022-11-21T10:23:59.956330Z"
    },
    "colab": {
     "base_uri": "https://localhost:8080/"
    },
    "executionInfo": {
     "elapsed": 589,
     "status": "ok",
     "timestamp": 1617465582120,
     "user": {
      "displayName": "Ignacio Soteras",
      "photoUrl": "",
      "userId": "02050793736257155229"
     },
     "user_tz": -120
    },
    "id": "6mZMh6fEaAbg",
    "outputId": "4c422533-a45e-408d-9cd7-01c0aaf59a16",
    "scrolled": true
   },
   "outputs": [
    {
     "data": {
      "text/plain": [
       "[<a class=\"sister\" href=\"http://example.com/elsie\" id=\"link1\">Elsie</a>,\n",
       " <a class=\"sister\" href=\"http://example.com/lacie\" id=\"link2\">Lacie</a>,\n",
       " <a class=\"sister\" href=\"http://example.com/tillie\" id=\"link3\">Tillie</a>]"
      ]
     },
     "execution_count": 35,
     "metadata": {},
     "output_type": "execute_result"
    }
   ],
   "source": [
    "soup.select(\"a.sister\")"
   ]
  },
  {
   "cell_type": "markdown",
   "metadata": {},
   "source": [
    "<b>  You can searc directly using id attributes"
   ]
  },
  {
   "cell_type": "code",
   "execution_count": 36,
   "metadata": {
    "ExecuteTime": {
     "end_time": "2022-11-21T10:23:59.962881Z",
     "start_time": "2022-11-21T10:23:59.960086Z"
    },
    "colab": {
     "base_uri": "https://localhost:8080/"
    },
    "executionInfo": {
     "elapsed": 571,
     "status": "ok",
     "timestamp": 1617465565574,
     "user": {
      "displayName": "Ignacio Soteras",
      "photoUrl": "",
      "userId": "02050793736257155229"
     },
     "user_tz": -120
    },
    "id": "n4dJ3ZmmaAbg",
    "outputId": "5e1911c9-d6e3-4be4-eab8-b37db79749eb"
   },
   "outputs": [
    {
     "data": {
      "text/plain": [
       "[<a class=\"sister\" href=\"http://example.com/lacie\" id=\"link2\">Lacie</a>]"
      ]
     },
     "execution_count": 36,
     "metadata": {},
     "output_type": "execute_result"
    }
   ],
   "source": [
    "soup.select(\"#link2\")"
   ]
  },
  {
   "cell_type": "markdown",
   "metadata": {
    "id": "pmG7uZlQaAbg"
   },
   "source": [
    "We can combine the `select()` method with other bs4 methods, such as `get_text()`.\n",
    "\n",
    "`get_text()`, however, can only be applied to single elements, while `select()` might return multiple elements. It's common to iterate through the output of `select()`"
   ]
  },
  {
   "cell_type": "code",
   "execution_count": 37,
   "metadata": {
    "ExecuteTime": {
     "end_time": "2022-11-21T10:23:59.966632Z",
     "start_time": "2022-11-21T10:23:59.963708Z"
    },
    "colab": {
     "base_uri": "https://localhost:8080/"
    },
    "executionInfo": {
     "elapsed": 556,
     "status": "ok",
     "timestamp": 1617465602862,
     "user": {
      "displayName": "Ignacio Soteras",
      "photoUrl": "",
      "userId": "02050793736257155229"
     },
     "user_tz": -120
    },
    "id": "xMaRktqaaAbg",
    "outputId": "c31aede1-3671-4e01-dda8-4ad1c34236f4"
   },
   "outputs": [
    {
     "name": "stdout",
     "output_type": "stream",
     "text": [
      "[<p class=\"story\">Once upon a time there were three little sisters; and their names were<a class=\"sister\" href=\"http://example.com/elsie\" id=\"link1\">Elsie</a>,<a class=\"sister\" href=\"http://example.com/lacie\" id=\"link2\">Lacie</a> and<a class=\"sister\" href=\"http://example.com/tillie\" id=\"link3\">Tillie</a>;and they lived at the bottom of a well.</p>, <p class=\"story\">...</p>]\n"
     ]
    }
   ],
   "source": [
    "print(soup.select(\".story\"))"
   ]
  },
  {
   "cell_type": "code",
   "execution_count": 38,
   "metadata": {
    "ExecuteTime": {
     "end_time": "2022-11-21T10:23:59.969843Z",
     "start_time": "2022-11-21T10:23:59.967544Z"
    },
    "colab": {
     "base_uri": "https://localhost:8080/"
    },
    "executionInfo": {
     "elapsed": 545,
     "status": "ok",
     "timestamp": 1617465606338,
     "user": {
      "displayName": "Ignacio Soteras",
      "photoUrl": "",
      "userId": "02050793736257155229"
     },
     "user_tz": -120
    },
    "id": "-I92xAykaAbh",
    "outputId": "cb2ac2fc-f842-4141-f742-bcb76a70d0ca"
   },
   "outputs": [
    {
     "name": "stdout",
     "output_type": "stream",
     "text": [
      "Once upon a time there were three little sisters; and their names wereElsie,Lacie andTillie;and they lived at the bottom of a well.\n",
      "...\n"
     ]
    }
   ],
   "source": [
    "for p in soup.select(\"p.story\"):\n",
    "    print(p.get_text())"
   ]
  },
  {
   "cell_type": "markdown",
   "metadata": {
    "id": "6KfG8vDwaAbh"
   },
   "source": [
    "\n",
    "\n",
    "Write code to print the following contents (not including the html tags, only human-readable text): \n",
    "\n",
    "1. All the \"fun facts\". \n",
    "\n",
    "2. The names of all the places. \n",
    "\n",
    "3. The content (name and fact) of all the cities (only cities, not countries!) \n",
    "\n",
    "4. The names (not facts!) of all the cities (not countries!)"
   ]
  },
  {
   "cell_type": "code",
   "execution_count": 55,
   "metadata": {},
   "outputs": [
    {
     "name": "stdout",
     "output_type": "stream",
     "text": [
      "London is the most popular tourist destination in the world.\n",
      "Paris was originally a Roman City called Lutetia.\n",
      "Spain produces 43,8% of all the world's Olive Oil.\n"
     ]
    }
   ],
   "source": [
    "soup.select(\"p\")\n",
    "\n",
    "for p in soup.select(\"p\"):\n",
    "    print(p.get_text())"
   ]
  },
  {
   "cell_type": "code",
   "execution_count": 53,
   "metadata": {},
   "outputs": [
    {
     "name": "stdout",
     "output_type": "stream",
     "text": [
      "London\n",
      "Paris\n",
      "Spain\n"
     ]
    }
   ],
   "source": [
    "soup.select(\"h2\")\n",
    "\n",
    "for h2 in soup.select(\"h2\"):\n",
    "    print(h2.get_text())"
   ]
  },
  {
   "cell_type": "code",
   "execution_count": 67,
   "metadata": {},
   "outputs": [],
   "source": [
    "content = soup.find_all(\"div\", class_=\"city\")\n"
   ]
  },
  {
   "cell_type": "code",
   "execution_count": 68,
   "metadata": {},
   "outputs": [
    {
     "name": "stdout",
     "output_type": "stream",
     "text": [
      "\n",
      "London\n",
      "London is the most popular tourist destination in the world.\n",
      "\n",
      "\n",
      "Paris\n",
      "Paris was originally a Roman City called Lutetia.\n",
      "\n"
     ]
    }
   ],
   "source": [
    "for c in content:\n",
    "    print(c.get_text())"
   ]
  },
  {
   "cell_type": "code",
   "execution_count": 80,
   "metadata": {},
   "outputs": [
    {
     "name": "stdout",
     "output_type": "stream",
     "text": [
      "London\n",
      "Paris\n"
     ]
    }
   ],
   "source": [
    "contents = soup.select(\"div.city h2\")\n",
    "\n",
    "for c in contents:\n",
    "    print(c.get_text())"
   ]
  },
  {
   "cell_type": "code",
   "execution_count": 39,
   "metadata": {
    "ExecuteTime": {
     "end_time": "2022-11-21T10:23:59.975879Z",
     "start_time": "2022-11-21T10:23:59.974274Z"
    },
    "executionInfo": {
     "elapsed": 537,
     "status": "ok",
     "timestamp": 1617465616779,
     "user": {
      "displayName": "Ignacio Soteras",
      "photoUrl": "",
      "userId": "02050793736257155229"
     },
     "user_tz": -120
    },
    "id": "IeMQdO9oaAbh"
   },
   "outputs": [],
   "source": [
    "geography = \"\"\"\n",
    "<!DOCTYPE html>\n",
    "<html>\n",
    "<head> Geography</head>\n",
    "<body>\n",
    "\n",
    "<div class=\"city\">\n",
    "  <h2>London</h2>\n",
    "  <p>London is the most popular tourist destination in the world.</p>\n",
    "</div>\n",
    "\n",
    "<div class=\"city\">\n",
    "  <h2>Paris</h2>\n",
    "  <p>Paris was originally a Roman City called Lutetia.</p>\n",
    "</div>\n",
    "\n",
    "<div class=\"country\">\n",
    "  <h2>Spain</h2>\n",
    "  <p>Spain produces 43,8% of all the world's Olive Oil.</p>\n",
    "</div>\n",
    "\n",
    "</body>\n",
    "</html>\n",
    "\"\"\""
   ]
  },
  {
   "cell_type": "code",
   "execution_count": 40,
   "metadata": {
    "ExecuteTime": {
     "end_time": "2022-11-21T10:23:59.981254Z",
     "start_time": "2022-11-21T10:23:59.976715Z"
    },
    "colab": {
     "base_uri": "https://localhost:8080/"
    },
    "executionInfo": {
     "elapsed": 558,
     "status": "ok",
     "timestamp": 1617465618931,
     "user": {
      "displayName": "Ignacio Soteras",
      "photoUrl": "",
      "userId": "02050793736257155229"
     },
     "user_tz": -120
    },
    "id": "N30WN3l0aAbh",
    "outputId": "c60877a2-c689-412d-a2a5-7f74d019cb07"
   },
   "outputs": [
    {
     "name": "stdout",
     "output_type": "stream",
     "text": [
      "<!DOCTYPE html>\n",
      "<html>\n",
      " <head>\n",
      "  Geography\n",
      " </head>\n",
      " <body>\n",
      "  <div class=\"city\">\n",
      "   <h2>\n",
      "    London\n",
      "   </h2>\n",
      "   <p>\n",
      "    London is the most popular tourist destination in the world.\n",
      "   </p>\n",
      "  </div>\n",
      "  <div class=\"city\">\n",
      "   <h2>\n",
      "    Paris\n",
      "   </h2>\n",
      "   <p>\n",
      "    Paris was originally a Roman City called Lutetia.\n",
      "   </p>\n",
      "  </div>\n",
      "  <div class=\"country\">\n",
      "   <h2>\n",
      "    Spain\n",
      "   </h2>\n",
      "   <p>\n",
      "    Spain produces 43,8% of all the world's Olive Oil.\n",
      "   </p>\n",
      "  </div>\n",
      " </body>\n",
      "</html>\n",
      "\n"
     ]
    }
   ],
   "source": [
    "soup = BeautifulSoup(geography, 'html.parser')\n",
    "\n",
    "print(soup.prettify())"
   ]
  },
  {
   "cell_type": "code",
   "execution_count": 41,
   "metadata": {},
   "outputs": [],
   "source": [
    "# Your code goes here"
   ]
  },
  {
   "cell_type": "markdown",
   "metadata": {
    "id": "du1eWZioaAbi"
   },
   "source": [
    "## Use case: \n",
    "\n",
    "\n",
    "\n"
   ]
  },
  {
   "cell_type": "code",
   "execution_count": 8,
   "metadata": {
    "ExecuteTime": {
     "end_time": "2022-11-21T10:24:00.280927Z",
     "start_time": "2022-11-21T10:24:00.007741Z"
    },
    "id": "yVB5PyUKaAbi"
   },
   "outputs": [],
   "source": [
    "# 1. import libraries\n",
    "from bs4 import BeautifulSoup\n",
    "import requests\n",
    "import pandas as pd"
   ]
  },
  {
   "cell_type": "code",
   "execution_count": 88,
   "metadata": {
    "ExecuteTime": {
     "end_time": "2022-11-21T10:24:00.283691Z",
     "start_time": "2022-11-21T10:24:00.281914Z"
    },
    "id": "aeTnMAh4aAbi"
   },
   "outputs": [],
   "source": [
    "# 2. find url and store it in a variable\n",
    "url = \"https://www.singtotheworld.com/100-most-popular-karaoke-songs-of-all-time\""
   ]
  },
  {
   "cell_type": "markdown",
   "metadata": {},
   "source": [
    "# <b> using request package"
   ]
  },
  {
   "cell_type": "code",
   "execution_count": 89,
   "metadata": {
    "ExecuteTime": {
     "end_time": "2022-11-21T10:24:01.134137Z",
     "start_time": "2022-11-21T10:24:00.285049Z"
    },
    "id": "wY1bee2oaAbi",
    "outputId": "c0d28c71-973c-43d4-e325-95eb14468348"
   },
   "outputs": [],
   "source": [
    "# 3. download html with a get request \n",
    "response = requests.get(url)"
   ]
  },
  {
   "cell_type": "code",
   "execution_count": 90,
   "metadata": {
    "ExecuteTime": {
     "end_time": "2022-11-21T10:24:01.146189Z",
     "start_time": "2022-11-21T10:24:01.138235Z"
    }
   },
   "outputs": [
    {
     "data": {
      "text/plain": [
       "200"
      ]
     },
     "execution_count": 90,
     "metadata": {},
     "output_type": "execute_result"
    }
   ],
   "source": [
    "response.status_code # 200 status code means OK!"
   ]
  },
  {
   "cell_type": "markdown",
   "metadata": {},
   "source": [
    "### HTTP Response status codes \n",
    "https://developer.mozilla.org/en-US/docs/Web/HTTP/Status"
   ]
  },
  {
   "cell_type": "code",
   "execution_count": 91,
   "metadata": {
    "ExecuteTime": {
     "end_time": "2022-11-21T10:24:01.674367Z",
     "start_time": "2022-11-21T10:24:01.162318Z"
    },
    "id": "N4muU72MaAbj",
    "outputId": "fd2d1078-7507-41ac-b3cd-2d872f2053bc",
    "scrolled": true
   },
   "outputs": [
    {
     "data": {
      "text/plain": [
       "\n",
       "<!DOCTYPE html >\n",
       "\n",
       "<html class=\"\" id=\"pagehtml\" lang=\"en\" xmlns=\"http://www.w3.org/1999/xhtml\">\n",
       "<head id=\"scriptsDynamic\"><title>\n",
       "\tTop 100 Most Popular Karaoke songs of all time\n",
       "</title>\n",
       "<meta charset=\"utf-8\"/>\n",
       "<meta content=\"width=device-width, initial-scale=1.0, maximum-scale=5\" name=\"viewport\"/>\n",
       "<meta content=\"en\" name=\"language\">\n",
       "<meta content=\"index,follow\" name=\"robots\"/>\n",
       "<meta content=\"nositelinkssearchbox,notranslate\" name=\"google\"/>\n",
       "<meta content=\"telephone=no\" name=\"format-detection\"/>\n",
       "<meta content=\"ie=edge\" http-equiv=\"x-ua-compatible\"/>\n",
       "<meta content=\"ddd0c8df208a4b396dc247e4a168f61eebdbdfad0199402898bdf321a55806fa\" name=\"ahrefs-site-verification\"/>\n",
       "<link href=\"/apple-touch-icon.png\" rel=\"apple-touch-icon\" sizes=\"180x180\"/>\n",
       "<link href=\"/favicon-32x32.png\" rel=\"icon\" sizes=\"32x32\" type=\"image/png\"/>\n",
       "<link href=\"/favicon-16x16.png\" rel=\"icon\" sizes=\"16x16\" type=\"image/png\"/>\n",
       "<link color=\"#80118e\" href=\"/safari-pinned-tab.svg\" rel=\"mask-icon\"/>\n",
       "<meta content=\"#80118e\" name=\"msapplication-TileColor\"/>\n",
       "<meta content=\"#80118e\" name=\"theme-color\"/>\n",
       "<meta content=\"summary\" name=\"twitter:card\">\n",
       "<meta content=\"@STTWKaraoke\" name=\"twitter:site\">\n",
       "<meta content=\"https://www.singtotheworld.com/images/sttw-Twitter-Card.jpg\" name=\"twitter:image\">\n",
       "<meta content=\"203696823764992\" property=\"fb:app_id\">\n",
       "<meta content=\"https://www.singtotheworld.com/100-most-popular-karaoke-songs-of-all-time\" property=\"og:url\">\n",
       "<meta content=\"https://www.singtotheworld.com/images/sttw-Facebook-Card.jpg\" property=\"og:image\">\n",
       "<script type=\"application/ld+json\">\n",
       "{\n",
       "  \"@context\": \"http://schema.org\",\n",
       "  \"@type\": \"WebSite\",\n",
       "  \"name\": \"Sing To The World\",\n",
       "  \"url\": \"https://www.singtotheworld.com/100-most-popular-karaoke-songs-of-all-time\",\n",
       "  \"description\": \"Karaoke backing tracks of the highest quality, available as MP3+G download or on CD+G discs.\"\n",
       "  , \"sameAs\": [\n",
       "\t\"https://www.facebook.com/STTWKaraoke/\",\"https://twitter.com/STTWKaraoke\"\n",
       "\t, \"https://uk.trustpilot.com/review/singtotheworld.com\"\n",
       "  ]\n",
       "}\n",
       "</script>\n",
       "<link href=\"https://fonts.gstatic.com\" rel=\"preconnect\"/>\n",
       "<style>\n",
       "\t/* latin */\n",
       "@font-face {\n",
       "  font-family: 'Nunito Sans';\n",
       "  font-style: normal;\n",
       "  font-weight: 400;\n",
       "  font-display: swap;\n",
       "  src: url(https://fonts.gstatic.com/s/nunitosans/v6/pe0qMImSLYBIv1o4X1M8cce9I9s.woff2) format('woff2');\n",
       "  unicode-range: U+0000-00FF, U+0131, U+0152-0153, U+02BB-02BC, U+02C6, U+02DA, U+02DC, U+2000-206F, U+2074, U+20AC, U+2122, U+2191, U+2193, U+2212, U+2215, U+FEFF, U+FFFD;\n",
       "}\n",
       "/* latin */\n",
       "@font-face {\n",
       "  font-family: 'Nunito Sans';\n",
       "  font-style: normal;\n",
       "  font-weight: 700;\n",
       "  font-display: swap;\n",
       "  src: url(https://fonts.gstatic.com/s/nunitosans/v6/pe03MImSLYBIv1o4X1M8cc8GBs5tU1E.woff2) format('woff2');\n",
       "  unicode-range: U+0000-00FF, U+0131, U+0152-0153, U+02BB-02BC, U+02C6, U+02DA, U+02DC, U+2000-206F, U+2074, U+20AC, U+2122, U+2191, U+2193, U+2212, U+2215, U+FEFF, U+FFFD;\n",
       "}\n",
       "/* latin */\n",
       "@font-face {\n",
       "  font-family: 'Nunito Sans';\n",
       "  font-style: normal;\n",
       "  font-weight: 900;\n",
       "  font-display: swap;\n",
       "  src: url(https://fonts.gstatic.com/s/nunitosans/v6/pe03MImSLYBIv1o4X1M8cc8-BM5tU1E.woff2) format('woff2');\n",
       "  unicode-range: U+0000-00FF, U+0131, U+0152-0153, U+02BB-02BC, U+02C6, U+02DA, U+02DC, U+2000-206F, U+2074, U+20AC, U+2122, U+2191, U+2193, U+2212, U+2215, U+FEFF, U+FFFD;\n",
       "}\n",
       "</style>\n",
       "<link href=\"/css/shop.css?id=13\" rel=\"stylesheet\">\n",
       "<link href=\"/css/71bf353f-778b-4beb-9775-3556c3b15409/site.css?v=1.6.2\" rel=\"stylesheet\">\n",
       "<script>\n",
       "    var Website = \"71bf353f-778b-4beb-9775-3556c3b15409\";\n",
       "    var StripePublicKey = \"pk_live_uX7wTIKsM7RqNcvlXw2RmjuK\";\n",
       "    \n",
       "    var consolelog = false;\n",
       "    var CustomerId = \"366b7ac4-87b1-4dfe-a199-1cf0cb4cc8f8\";\n",
       "    var clog = false;\n",
       "    var PLQueueId = \"\";\n",
       "    var Section = \"custom-disc\";\n",
       "    var QueueSection = \"custom-disc\";\n",
       "    var PlayerColours = '{ \"background1\":\"#000000\", \"outline1\": \"#000000\", \"text1\":\"#ffffff\", \"text2\":\"#6dd900\", \"text3\":\"#0000d9\", \"text4\":\"#7878ff\", \"text5\":\"#d900d9\", \"text6\":\"#ff78ff\"}';\n",
       "\n",
       "\t//var connection = navigator.connection || navigator.mozConnection || navigator.webkitConnection;\n",
       "\t//var type = connection.type;\n",
       "\t//var eType = connection.effectiveType;\n",
       "\n",
       "\t//console.log(\"Connection type \" + type + \" - \" + eType);\n",
       "\n",
       "\t//function updateConnectionStatus() {\n",
       "\t//\tconsole.log(\"Connection type changed to \" + connection.type + \" - \" + connection.effectiveType);\n",
       "\t//\teType = connection.type;\n",
       "\t//\teType = connection.effectiveType;\n",
       "\t//}\n",
       "\n",
       "\t//connection.addEventListener('change', updateConnectionStatus);\n",
       "</script>\n",
       "<script async=\"\" src=\"https://www.googletagmanager.com/gtag/js?id=UA-86936820-1\"></script>\n",
       "<script>\n",
       "  window.dataLayer = window.dataLayer || [];\n",
       "  function gtag(){dataLayer.push(arguments);}\n",
       "  gtag('js', new Date());\n",
       "  \n",
       "  gtag('consent', 'default', {\n",
       "  \t'analytics_storage' : 'denied',\n",
       "  \t'ad_storage' : 'denied'\n",
       "  });\n",
       "\n",
       "  gtag('config', 'UA-86936820-1');\n",
       "\n",
       "  \n",
       "    gtag('config', 'AW-1066047064');\n",
       "  \n",
       "</script>\n",
       "<script async=\"\" src=\"https://squish.sitesharp.co.uk/js/track.min.js\"></script>\n",
       "<script>\n",
       "    window.squish = window.squish || [];\n",
       "    function _squash() { window.squish.push(arguments) }\n",
       "    _squash(\"config\", { apikey: '5fa3801a' });\n",
       "\n",
       "\t_squash(\"config\", { cookiesaccepted: 0 });\n",
       "</script><meta content=\"We have collected the data and can reveal the most purchased tracks of all time. The ultimate list of karaoke songs to help you get the party started\" name=\"description\"><meta content=\"karaoke, online karaoke, sing karaoke, karaoke music, digital karaoke, CD+G karaoke backing tracks, backing tracks for singers\" name=\"keywords\"><meta content=\"Top 100 Most Popular Karaoke songs of all time\" name=\"twitter:title\"/><meta content=\"Top 100 Most Popular Karaoke songs of all time\" property=\"og:title\"/><meta content=\"We have collected the data and can reveal the most purchased tracks of all time. The ultimate list of karaoke songs to help you get the party started\" name=\"twitter:description\"/><meta content=\"We have collected the data and can reveal the most purchased tracks of all time. The ultimate list of karaoke songs to help you get the party started\" property=\"og:description\"/></meta></meta></link></link></meta></meta></meta></meta></meta></meta></meta></head>\n",
       "<body class=\"menu-default preload\" id=\"pagebody\">\n",
       "<form action=\"./default.aspx?id=9122167e-d506-4ca1-baa3-1065b2d6b774\" id=\"form1\" method=\"post\" name=\"form1\">\n",
       "<input id=\"__VIEWSTATE\" name=\"__VIEWSTATE\" type=\"hidden\" value=\"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\"/>\n",
       "<input id=\"__VIEWSTATEGENERATOR\" name=\"__VIEWSTATEGENERATOR\" type=\"hidden\" value=\"CA0B0334\"/>\n",
       "<input id=\"__EVENTVALIDATION\" name=\"__EVENTVALIDATION\" type=\"hidden\" value=\"/wEdAAIt5UUYVGsfG79MPbtwtsX5iT420n1UoRaVfFsZSNmRpJIYyyn+lzMh2+SvstbmzlxAx2rA+MqVvIy0+eW2VyaD\"/>\n",
       "<div id=\"outdated\"></div>\n",
       "<div class=\"container\">\n",
       "<script>\n",
       "            var jPageEditId = \"9122167e-d506-4ca1-baa3-1065b2d6b774\";\n",
       "            var jProdEditId = \"\";\n",
       "        </script>\n",
       "<div id=\"pnlDynamicControl\">\n",
       "<script>\n",
       "    var ResetPasswordGuid = \"\";\n",
       "</script>\n",
       "<script>\n",
       "\t\n",
       "    var QueueControls = \"<div class='command'><span class='closecommands'><svg height='36' viewBox='0 0 24 24' width='36' xmlns='http://www.w3.org/2000/svg'><path d='M0 0h24v24H0z' fill='none'/><path d='M19.43 12.98c.04-.32.07-.64.07-.98s-.03-.66-.07-.98l2.11-1.65c.19-.15.24-.42.12-.64l-2-3.46c-.12-.22-.39-.3-.61-.22l-2.49 1c-.52-.4-1.08-.73-1.69-.98l-.38-2.65C14.46 2.18 14.25 2 14 2h-4c-.25 0-.46.18-.49.42l-.38 2.65c-.61.25-1.17.59-1.69.98l-2.49-1c-.23-.09-.49 0-.61.22l-2 3.46c-.13.22-.07.49.12.64l2.11 1.65c-.04.32-.07.65-.07.98s.03.66.07.98l-2.11 1.65c-.19.15-.24.42-.12.64l2 3.46c.12.22.39.3.61.22l2.49-1c.52.4 1.08.73 1.69.98l.38 2.65c.03.24.24.42.49.42h4c.25 0 .46-.18.49-.42l.38-2.65c.61-.25 1.17-.59 1.69-.98l2.49 1c.23.09.49 0 .61-.22l2-3.46c.12-.22.07-.49-.12-.64l-2.11-1.65zM12 15.5c-1.93 0-3.5-1.57-3.5-3.5s1.57-3.5 3.5-3.5 3.5 1.57 3.5 3.5-1.57 3.5-3.5 3.5z'/></svg></span><span class='moveup'></span><span class='movedown'></span><span class='deletequeuetrack'></span></div><div class='opencommands'><svg height='36' viewBox='0 0 24 24' width='36' xmlns='http://www.w3.org/2000/svg'><path d='M0 0h24v24H0z' fill='none'/><path d='M19.43 12.98c.04-.32.07-.64.07-.98s-.03-.66-.07-.98l2.11-1.65c.19-.15.24-.42.12-.64l-2-3.46c-.12-.22-.39-.3-.61-.22l-2.49 1c-.52-.4-1.08-.73-1.69-.98l-.38-2.65C14.46 2.18 14.25 2 14 2h-4c-.25 0-.46.18-.49.42l-.38 2.65c-.61.25-1.17.59-1.69.98l-2.49-1c-.23-.09-.49 0-.61.22l-2 3.46c-.13.22-.07.49.12.64l2.11 1.65c-.04.32-.07.65-.07.98s.03.66.07.98l-2.11 1.65c-.19.15-.24.42-.12.64l2 3.46c.12.22.39.3.61.22l2.49-1c.52.4 1.08.73 1.69.98l.38 2.65c.03.24.24.42.49.42h4c.25 0 .46-.18.49-.42l.38-2.65c.61-.25 1.17-.59 1.69-.98l2.49 1c.23.09.49 0 .61-.22l2-3.46c.12-.22.07-.49-.12-.64l-2.11-1.65zM12 15.5c-1.93 0-3.5-1.57-3.5-3.5s1.57-3.5 3.5-3.5 3.5 1.57 3.5 3.5-1.57 3.5-3.5 3.5z'/></svg></div>\";\n",
       "    var PlayerControls = \"\";\n",
       "    var audio = document.createElement(\"audio\");\n",
       "</script>\n",
       "<div id=\"ctl02_dynamicmenucontrol\">\n",
       "<div class=\"wrap user\">\n",
       "<div class=\"inner\">\n",
       "<div class=\"row\">\n",
       "<div class=\"col col-4 vm\"><div class=\"menu-icon click-close\"><div class=\"hamburger\"><div class=\"hamburger-inner\"></div></div></div></div><div class=\"col col-4 vm\">\n",
       "<a aria-label=\"Home\" class=\"logo\" href=\"/\">\n",
       "<img alt=\"Sing to the World\" height=\"60\" src=\"/images/STTW-logo.svg\" width=\"68\"/>\n",
       "</a>\n",
       "</div><div class=\"col col-4 vm\">\n",
       "<ul class=\"utilmenu\">\n",
       "<li>\n",
       "<div class=\"searchopen clk\"><span class=\"ic\">\n",
       "<svg height=\"24\" viewbox=\"0 0 24 24\" width=\"24\" xmlns=\"http://www.w3.org/2000/svg\">\n",
       "<path d=\"M15.5 14h-.79l-.28-.27C15.41 12.59 16 11.11 16 9.5 16 5.91 13.09 3 9.5 3S3 5.91 3 9.5 5.91 16 9.5 16c1.61 0 3.09-.59 4.23-1.57l.27.28v.79l5 4.99L20.49 19l-4.99-5zm-6 0C7.01 14 5 11.99 5 9.5S7.01 5 9.5 5 14 7.01 14 9.5 11.99 14 9.5 14z\"></path>\n",
       "<path d=\"M0 0h24v24H0z\" fill=\"none\"></path>\n",
       "</svg></span></div>\n",
       "</li><li>\n",
       "<a aria-label=\"Login\" class=\"ic\" href=\"/login\"><svg height=\"24\" viewbox=\"0 0 24 24\" width=\"24\" xmlns=\"http://www.w3.org/2000/svg\"><path d=\"M0 0h24v24H0z\" fill=\"none\"></path><path d=\"M12 12c2.21 0 4-1.79 4-4s-1.79-4-4-4-4 1.79-4 4 1.79 4 4 4zm0 2c-2.67 0-8 1.34-8 4v2h16v-2c0-2.66-5.33-4-8-4z\"></path></svg></a>\n",
       "</li><li>\n",
       "<div class=\"basketbtn clk ns showbasket\"><div class=\"itemcount\">0</div><div class=\"basketicon\"><svg height=\"24\" viewbox=\"0 0 24 24\" width=\"24\" xmlns=\"http://www.w3.org/2000/svg\"><path d=\"M7 18c-1.1 0-1.99.9-1.99 2S5.9 22 7 22s2-.9 2-2-.9-2-2-2zM1 2v2h2l3.6 7.59-1.35 2.45c-.16.28-.25.61-.25.96 0 1.1.9 2 2 2h12v-2H7.42c-.14 0-.25-.11-.25-.25l.03-.12.9-1.63h7.45c.75 0 1.41-.41 1.75-1.03l3.58-6.49c.08-.14.12-.31.12-.48 0-.55-.45-1-1-1H5.21l-.94-2H1zm16 16c-1.1 0-1.99.9-1.99 2s.89 2 1.99 2 2-.9 2-2-.9-2-2-2z\"></path><path d=\"M0 0h24v24H0z\" fill=\"none\"></path></svg></div></div>\n",
       "</li>\n",
       "</ul>\n",
       "</div><div class=\"col col-12 vm\">\n",
       "<div class=\"navigation click-close\">\n",
       "<ul class=\"hnav resizeable\" id=\"ctl02_ctl00_hnav\"><li class=\"drop first\"><a class=\"mainlink\" href=\"/custom-disc\">Personalised Karaoke CD</a></li><li class=\"drop\"><a class=\"mainlink\" href=\"/download\">MP3+G Downloads</a></li><li class=\"drop special\"><a class=\"mainlink\" href=\"/karaoke-starter-kit\">Mystery Karaoke Starter Pack</a></li><li class=\"drop\"><a class=\"mainlink\" href=\"/stream\">Online Karaoke</a></li><li class=\"drop first extras\"><a class=\"mainlink\" href=\"/shipping-and-delivery\">Free Delivery Over £20</a></li><li class=\"drop redl extras\"><a class=\"mainlink\" href=\"/blog\">Karaoke Blog</a><div class=\"arrowshow\"></div></li><li class=\"drop extras\"><a class=\"mainlink\" href=\"/help-and-contact\">Contact Us</a></li><li class=\"more extras\"><span class=\"a click-close2\">More</span></li></ul>\n",
       "</div>\n",
       "</div>\n",
       "</div>\n",
       "</div>\n",
       "<div class=\"inner overflowcontainer click-close2\">\n",
       "<div class=\"row\">\n",
       "<div class=\"col col-12\">\n",
       "<ul class=\"overflowmenu\" id=\"ctl02_ctl00_navoverflow\"><li class=\"drop first\"><a class=\"mainlink\" href=\"/custom-disc\" tabindex=\"-1\">Personalised Karaoke CD</a></li><li class=\"drop\"><a class=\"mainlink\" href=\"/download\" tabindex=\"-1\">MP3+G Downloads</a></li><li class=\"drop special\"><a class=\"mainlink\" href=\"/karaoke-starter-kit\" tabindex=\"-1\">Mystery Karaoke Starter Pack</a></li><li class=\"drop\"><a class=\"mainlink\" href=\"/stream\" tabindex=\"-1\">Online Karaoke</a></li><li class=\"drop first extras\"><a class=\"mainlink\" href=\"/shipping-and-delivery\" tabindex=\"-1\">Free Delivery Over £20</a></li><li class=\"drop redl extras\"><a class=\"mainlink\" href=\"/blog\" tabindex=\"-1\">Karaoke Blog</a><div class=\"arrowshow\"></div></li><li class=\"drop extras\"><a class=\"mainlink\" href=\"/help-and-contact\" tabindex=\"-1\">Contact Us</a></li></ul>\n",
       "</div>\n",
       "</div>\n",
       "</div>\n",
       "</div>\n",
       "</div>\n",
       "<div class=\"signinbox mask\" id=\"ctl02_signinbox\" style=\"display: none;\">\n",
       "<div class=\"windowbox\">\n",
       "<div class=\"roww\">\n",
       "<div class=\"coll col-3 m\">\n",
       "<div class=\"lbg\"></div>\n",
       "<div class=\"close clk\">×</div>\n",
       "<div class=\"waiting\"><div class=\"loading\"><div class=\"bar\"></div><div class=\"bar\"></div><div class=\"bar\"></div><div class=\"bar\"></div><div class=\"bar\"></div><div class=\"loadingtext\">Please wait...</div></div></div>\n",
       "<div class=\"form loginform\" id=\"ctl02_loginform\" style=\"display: none;\">\n",
       "<div class=\"coll col-12\">\n",
       "<div class=\"title\">Welcome Back</div>\n",
       "<div class=\"helptext offercode additional\"><p class=\"small\">Login, or create an account to continue.</p><p class=\"small\">You entered the code:<br/><span class=\"bold codename\"></span></p></div>\n",
       "</div><div class=\"coll col-12\">\n",
       "<div class=\"signupwith facebook\">Login with Facebook</div>\n",
       "</div><div class=\"coll col-12\">\n",
       "<div class=\"line\"></div>\n",
       "</div><div class=\"coll col-12\">\n",
       "<div class=\"element\">\n",
       "<input autocapitalize=\"none\" autocorrect=\"off\" class=\"useremail\" id=\"useremail\" type=\"text\"/>\n",
       "<label class=\"label\" for=\"useremail\">Email</label>\n",
       "</div>\n",
       "</div><div class=\"coll col-12\">\n",
       "<div class=\"element\">\n",
       "<input class=\"userpassword\" id=\"userpassword\" type=\"password\"/>\n",
       "<label class=\"label\" for=\"userpassword\">Password</label>\n",
       "</div>\n",
       "</div><div class=\"coll col-4 vt\">\n",
       "<div class=\"button submit login ns clk\">Login</div>\n",
       "</div><div class=\"coll col-8 vt text-right\" style=\"margin-bottom: 0;\">\n",
       "<div class=\"msg\"></div>\n",
       "</div><div class=\"coll col-12\">\n",
       "<div class=\"show reset\">Forgotten your password? Reset</div>\n",
       "<div class=\"show one signup\">Don't have an account? Sign Up</div>\n",
       "</div>\n",
       "</div>\n",
       "<div class=\"form resetform\" id=\"ctl02_resetform\" style=\"display: none;\">\n",
       "<div class=\"cont\">\n",
       "<div class=\"coll col-12\">\n",
       "<div class=\"title\">Reset Password</div>\n",
       "<div class=\"helptext additional accountdisabled\"><p class=\"small\">Your account has been <span class=\"bold\">locked</span>.</p><p class=\"small\">This could be due to incorrect password entry or account inactivity. <span class=\"bold\">Reset your password</span> to reactivate your account.</p></div>\n",
       "<div class=\"helptext resetpassword\" style=\"display: block;\"><p class=\"small\">Enter the <span class=\"bold\">email address</span> that you used to sign up.</p><p class=\"small\">We'll send you an email with a link to reset your password.</p></div>\n",
       "</div><div class=\"coll col-12\">\n",
       "<div class=\"element\">\n",
       "<input autocapitalize=\"none\" autocorrect=\"off\" class=\"useremail\" id=\"resetemail\" type=\"text\"/>\n",
       "<label class=\"label\" for=\"resetemail\">Email</label>\n",
       "</div>\n",
       "</div><div class=\"coll col-4 vt\">\n",
       "<div class=\"button submit reset\">Reset</div>\n",
       "</div><div class=\"coll col-8\">\n",
       "<div class=\"msg\"></div>\n",
       "</div><div class=\"coll col-12\">\n",
       "<div class=\"show login\">Remembered your password? Log In</div>\n",
       "</div>\n",
       "</div>\n",
       "</div>\n",
       "<div class=\"form resetform2\" id=\"ctl02_reset2form\" style=\"display: none;\">\n",
       "<div id=\"ctl02_reset2formcont\">\n",
       "<div class=\"coll col-12\">\n",
       "<div class=\"title\">Reset Password</div>\n",
       "</div><div class=\"coll col-12\">\n",
       "<div class=\"element\">\n",
       "<input class=\"passwordcheck\" id=\"resetpassword\" type=\"password\"/>\n",
       "<label class=\"label\" for=\"resetpassword\">New Password <span class=\"pstrn\"></span></label>\n",
       "</div>\n",
       "</div><div class=\"coll col-12\">\n",
       "<div class=\"element\">\n",
       "<input class=\"passwordconfirm\" id=\"confirmresetpassword\" type=\"password\"/>\n",
       "<label class=\"label\" for=\"confirmresetpassword\">Confirm Password <span class=\"pcofm\"></span></label>\n",
       "</div>\n",
       "</div><div class=\"coll col-4 vt\">\n",
       "<div class=\"button submit resetcontinue clk\">Reset</div>\n",
       "</div><div class=\"coll col-12\" id=\"ctl02_showlogin\">\n",
       "<div class=\"show login\">Remembered your password? Log In</div>\n",
       "</div>\n",
       "</div>\n",
       "</div>\n",
       "<div class=\"form signupform\" id=\"ctl02_signupform\" style=\"display: none;\">\n",
       "<div class=\"coll col-12\">\n",
       "<div class=\"title\">\n",
       "Create an Account\n",
       "</div>\n",
       "<div class=\"helptext offercode additional\"><p class=\"small\">Login, or create an account to continue.</p><p class=\"small\">You entered the code:<br/><span class=\"bold codename\"></span></p></div>\n",
       "</div><div class=\"coll col-6\">\n",
       "<div class=\"signupwith signupemail\">Sign up with Email</div>\n",
       "</div><div class=\"coll col-6\">\n",
       "<div class=\"signupwith facebook clk ns\">Sign up with Facebook</div>\n",
       "</div><div class=\"coll col-6\"><div class=\"continueasguest\">Continue as Guest</div></div><div class=\"coll col-6\">\n",
       "<div class=\"element\">\n",
       "<input class=\"field-mandatory\" id=\"createdfname\" type=\"text\"/>\n",
       "<label class=\"label\" for=\"createdfname\">First Name</label>\n",
       "</div>\n",
       "<div class=\"element-error\">Oops, somethings not right. Check and try again.</div>\n",
       "</div><div class=\"coll col-6\">\n",
       "<div class=\"element\">\n",
       "<input id=\"createdlname\" type=\"text\"/>\n",
       "<label class=\"label\" for=\"createdlname\">Last Name</label>\n",
       "</div>\n",
       "</div><div class=\"coll col-12\">\n",
       "<div class=\"element\">\n",
       "<input autocapitalize=\"none\" autocorrect=\"off\" id=\"createemail\" type=\"text\"/>\n",
       "<label class=\"label\" for=\"createemail\">Email Address <span class=\"evalid\"></span></label>\n",
       "</div>\n",
       "</div><div class=\"coll col-12\" data-attr=\"createaccount\">\n",
       "<div class=\"element\">\n",
       "<input class=\"passwordcheck\" id=\"createpassword\" type=\"password\"/>\n",
       "<label class=\"label\" for=\"createpassword\">Password <span class=\"pstrn\"></span></label>\n",
       "</div>\n",
       "<div class=\"element-help\">Your password must be a minimum of 6 characters, and can contain letters, numbers and punctuation.</div>\n",
       "</div><div class=\"coll col-12\" data-attr=\"createaccount\">\n",
       "<div class=\"element\">\n",
       "<input class=\"passwordconfirm\" id=\"confirmpassword\" type=\"password\"/>\n",
       "<label class=\"label\" for=\"confirmpassword\">Confirm Password <span class=\"pcofm\"></span></label>\n",
       "</div>\n",
       "</div>\n",
       "<div class=\"roww bg4\">\n",
       "<div class=\"coll col-12\">\n",
       "<div class=\"colgroup\" style=\"padding: 10px; padding-bottom: 0;\">\n",
       "<div class=\"roww\">\n",
       "<div class=\"coll col-12\" style=\"margin-bottom: 0;\">\n",
       "<div class=\"element\"><input class=\"checkbox field-mandatory\" id=\"termsaccept\" type=\"checkbox\"/><label for=\"termsaccept\"><span class=\"check\"><span class=\"tick\">✓</span></span><span>I agree to this website's <a href=\"/terms-and-conditions\" target=\"_blank\">Terms of Use</a> and <a href=\"/privacy-policy\" target=\"_blank\">Privacy Policy</a>.</span></label></div>\n",
       "</div><div class=\"coll col-12\" data-attr=\"createaccount\">\n",
       "<div class=\"element\">\n",
       "<div class=\"labelt\">Can we send you emails about news and offers?</div>\n",
       "<input id=\"contactChoice1\" name=\"contactPref\" type=\"radio\" value=\"1\"/><label class=\"allowemails ns clk\" for=\"contactChoice1\"><span class=\"tick\">✓</span>Yes please</label><input id=\"contactChoice2\" name=\"contactPref\" type=\"radio\" value=\"0\"/><label class=\"allowemails decline ns clk\" for=\"contactChoice2\"><span class=\"tick\">✗</span>No, thanks</label>\n",
       "</div>\n",
       "<div class=\"element-help\">You can unsubscribe from emails at anytime within your account, or by using the unsubscribe link on every email.</div>\n",
       "</div><div class=\"coll col-12\">\n",
       "<div class=\"element\">\n",
       "<div class=\"button submit signup ns clk signuptxt\">Sign Up</div>\n",
       "</div>\n",
       "</div><div class=\"coll col-12\">\n",
       "<div class=\"show login\">Already have an account? Log In</div>\n",
       "</div>\n",
       "</div>\n",
       "</div>\n",
       "</div>\n",
       "</div>\n",
       "</div>\n",
       "</div>\n",
       "</div>\n",
       "</div>\n",
       "</div>\n",
       "<div class=\"mask basket\" id=\"ctl02_basket\">\n",
       "<div class=\"windowbox\">\n",
       "<div class=\"roww\">\n",
       "<div class=\"coll col-3 m\">\n",
       "<div class=\"close clk\">×</div>\n",
       "<div class=\"waiting\"><div class=\"loading\"><div class=\"bar\"></div><div class=\"bar\"></div><div class=\"bar\"></div><div class=\"bar\"></div><div class=\"bar\"></div><div class=\"loadingtext\">Please wait...</div></div></div>\n",
       "<div class=\"form\">\n",
       "<div class=\"coll col-12\">\n",
       "<div class=\"title\">\n",
       "Basket\n",
       "</div>\n",
       "<ul class=\"paymentsteps\">\n",
       "<li class=\"partial\"><span class=\"stepnum\">1</span><span class=\"stepname\">Basket</span></li><li><span class=\"stepnum\">2</span><span class=\"stepname\">Checkout</span></li><li><span class=\"stepnum\">3</span><span class=\"stepname\">Finish</span></li>\n",
       "</ul>\n",
       "</div><div class=\"coll col-12\">\n",
       "<div class=\"roww\">\n",
       "<div class=\"coll col-6\">\n",
       "<p class=\"bolder itemcount\"><span class=\"colour2\">0</span> items</p>\n",
       "</div><div class=\"coll col-6 text-right\">\n",
       "<p class=\"bolder\"><span class=\"totaltxt\">Total:</span> <span class=\"colour2 totalprice\">0.00</span></p>\n",
       "</div><div class=\"coll col-12\">\n",
       "<div class=\"emptybasket text-center\">Your basket is empty.</div>\n",
       "<div class=\"basketitems\">\n",
       "</div>\n",
       "</div><div class=\"coll col-12\">\n",
       "<div class=\"roww delivery\"></div>\n",
       "</div><div class=\"coll col-12\">\n",
       "<div class=\"mastertotal\"></div>\n",
       "</div><div class=\"coll col-12\" style=\"margin-bottom: 0;\">\n",
       "<div class=\"storebtn\"></div>\n",
       "</div>\n",
       "</div>\n",
       "</div>\n",
       "</div>\n",
       "</div>\n",
       "</div>\n",
       "</div>\n",
       "</div>\n",
       "<div class=\"mask samplecdgpop\" id=\"ctl02_samplecdgpop\">\n",
       "<div class=\"windowbox\">\n",
       "<div class=\"roww\">\n",
       "<div class=\"coll col-3 m\">\n",
       "<div class=\"themetop\"></div>\n",
       "<div class=\"close clk\">×</div>\n",
       "<div class=\"waiting\"><div class=\"loading\"><div class=\"bar\"></div><div class=\"bar\"></div><div class=\"bar\"></div><div class=\"bar\"></div><div class=\"bar\"></div><div class=\"loadingtext\">Please wait...</div></div></div>\n",
       "<div class=\"form\" style=\"text-align:center; background:#000;\"> <video class=\"videoloaderpop\" id=\"videoloaderpop\" style=\"width:100%; height:auto; display:block;\"></video>\n",
       "</div>\n",
       "</div>\n",
       "</div>\n",
       "</div>\n",
       "</div>\n",
       "</div>\n",
       "<div id=\"newsearchcontrol\">\n",
       "<div class=\"darksearchmask\"></div>\n",
       "<div class=\"wrap darksearch result\">\n",
       "<div class=\"inner\">\n",
       "<div class=\"row text-center\">\n",
       "<div class=\"col col-12 text-left nmb\">\n",
       "<div class=\"search2\">\n",
       "<span class=\"ic\">\n",
       "<svg height=\"24\" viewbox=\"0 0 24 24\" width=\"24\" xmlns=\"http://www.w3.org/2000/svg\">\n",
       "<path d=\"M15.5 14h-.79l-.28-.27C15.41 12.59 16 11.11 16 9.5 16 5.91 13.09 3 9.5 3S3 5.91 3 9.5 5.91 16 9.5 16c1.61 0 3.09-.59 4.23-1.57l.27.28v.79l5 4.99L20.49 19l-4.99-5zm-6 0C7.01 14 5 11.99 5 9.5S7.01 5 9.5 5 14 7.01 14 9.5 11.99 14 9.5 14z\"></path>\n",
       "<path d=\"M0 0h24v24H0z\" fill=\"none\"></path>\n",
       "</svg></span>\n",
       "<input autocomplete=\"chrome\" class=\"searchinput2 wm2\" data-pl=\"Search\" id=\"searchinput\" name=\"ctl04$searchinput\" spellcheck=\"false\" type=\"text\">\n",
       "<label class=\"placeholder2\" for=\"searchinput\">Search <span></span></label>\n",
       "<div class=\"loading\"><div class=\"bar\"></div><div class=\"bar\"></div><div class=\"bar\"></div><div class=\"bar\"></div><div class=\"bar\"></div></div>\n",
       "<div class=\"clearsearch2 clk\">\n",
       "<svg height=\"24\" viewbox=\"0 0 24 24\" width=\"24\" xmlns=\"http://www.w3.org/2000/svg\">\n",
       "<path d=\"M19 6.41L17.59 5 12 10.59 6.41 5 5 6.41 10.59 12 5 17.59 6.41 19 12 13.41 17.59 19 19 17.59 13.41 12z\"></path>\n",
       "<path d=\"M0 0h24v24H0z\" fill=\"none\"></path>\n",
       "</svg></div>\n",
       "<div class=\"closesearch\">Close</div>\n",
       "</input></div>\n",
       "</div>\n",
       "</div>\n",
       "</div>\n",
       "</div>\n",
       "<div id=\"pagescontrol\">\n",
       "<div class=\"rowcon searchresult2\" id=\"rowcon\"><div class=\"wrap bg2\"><div class=\"inner\"><div class=\"row\"><div class=\"col col-12\"> <div class=\"elmcontainer text colgroup\"> <div class=\"textelm\" style=\"position: relative;\"><h1 style=\"text-align: center;\"><span class=\"size1 size2\">Top 100 Most Popular Karaoke songs of all time</span></h1>\n",
       "<p style=\"text-align: center;\"><span class=\"size3\">The ultimate list of karaoke songs to help you get the party started!</span></p></div> </div> </div><div class=\"col col-12\"> <div class=\"elmcontainer text colgroup\"> <div class=\"textelm\" style=\"position: relative;\"><p>Whether you’re a karaoke enthusiast or not, there’s no denying that this activity has become a global phenomenon. In almost every country across the world, you’ll find people belting out their favorite tunes in bars, clubs, and private gatherings.</p>\n",
       "<p>Interestingly, karaoke didn’t start out as a party game or form of entertainment. In fact, it was originally developed as a way to help people learn new songs. Japanese musician Daisuke Inoue is credited with inventing karaoke in 1971, and the word itself is a combination of the Japanese words “kara” (empty) and “okesutora” (orchestra).</p>\n",
       "<p>So what are the most popular karaoke songs of all time? We’ve compiled a list of the top 100 below, based on data from over 20 years of sales from Sing to the World.</p></div> </div> </div></div></div></div><div class=\"wrap bg0\"><div class=\"inner\"><div class=\"row\"><div class=\"col col-10\"> <div class=\"elmcontainer text colgroup\"> <div class=\"textelm\" style=\"position: relative;\"><p><span class=\"size3\">1. <a href=\"/custom-disc/artist/george-ezra\">Shotgun by George Ezra</a></span></p>\n",
       "<p>As the title suggests, \"Shotgun\" is a song about riding shotgun in a car. The narrator is talking about how he is going to ride shotgun with his friends, and how they are going to have a great time. The song is upbeat and positive, and it is clear that the narrator is looking forward to his time with his friends. The song is also about freedom, and how the narrator is going to enjoy the wind in his hair as they drive.</p>\n",
       "<p> </p>\n",
       "<p><span class=\"size3\">2. <a href=\"https://www.singtotheworld.com/custom-disc/artist/neil-diamond\">Sweet Caroline by Neil Diamond</a></span></p>\n",
       "<p>The song Sweet Caroline was written by Neil Diamond in 1969. The song is about Caroline Kennedy, the daughter of President John F. Kennedy. The song was originally entitled, \"Sweet Caroline (Good Times Never Seemed So Good),\" but the title was later shortened to just \"Sweet Caroline.\"</p>\n",
       "<p>Sweet Caroline has been covered by a number of artists, including Michael Bublé, Kid Rock, and the cast of Glee.</p>\n",
       "<p> </p>\n",
       "<p><span class=\"size3\">3. <a href=\"https://www.singtotheworld.com/custom-disc/artist/lady-gaga-and-bradley-cooper-a-star-is-born\">Shallow by Lady Gaga &amp; Bradley Cooper (A Star is Born)</a></span></p>\n",
       "<p>The song Shallow is a duet by American singer-songwriter Lady Gaga and American actor and filmmaker Bradley Cooper. The track was released on September 27, 2018, as the lead single from the soundtrack album for the 2018 film A Star Is Born. The song was written by Gaga, Cooper, Andrew Wyatt, Anthony Rossomando, and Mark Ronson, and produced by Gaga with Benjamin Rice. Shallow won the Academy Award for Best Original Song, the Golden Globe Award for Best Original Song, and the Critics' Choice Movie Award for Best Song.</p>\n",
       "<p>The song is a ballad with influences of country music, and its lyrics describe the ups and downs of a relationship. Gaga and Cooper's vocals were praised by critics, who noted the chemistry between the two. The song peaked at number 21 on the US Billboard Hot 100 and number one on the US Digital Songs chart. Worldwide, it has sold over 10 million copies and been streamed over 500 million times.</p>\n",
       "<p> </p>\n",
       "<p><span class=\"size3\">4. <a href=\"/custom-disc/artist/the-greatest-showman\">A Million Dreams by The Greatest Showman</a></span></p>\n",
       "<p>The song \"A Million Dreams\" is from the movie The Greatest Showman. The lyrics were written by Benj Pasek and Justin Paul, and the music was written by Justin Hurwitz. The song is performed by Zendaya.</p>\n",
       "<p>\"A Million Dreams\" is a ballad with an uplifting message about following your dreams. The lyrics encourage the listener to never give up on their dreams, no matter how impossible they may seem. The song is accompanied by a piano and orchestra, which creates a sweeping and emotive sound.</p>\n",
       "<p>The song was nominated for the Academy Award for Best Original Song at the 90th Academy Awards.</p>\n",
       "<p> </p>\n",
       "<p><span class=\"size3\">5. <a href=\"/custom-disc/artist/ed-sheeran\">Perfect by Ed Sheeran</a></span></p>\n",
       "<p>“Perfect” is a song by English singer-songwriter Ed Sheeran from his third studio album, ÷ (2017). The song was released as a digital download on 26 September 2017 as one of the album’s advance singles. The song peaked at number one on the UK Singles Chart and the US Billboard Hot 100, becoming Sheeran’s first number-one single in both countries.</p>\n",
       "<p>“Perfect” was written by Ed Sheeran and produced by Benny Blanco. It is a romantic ballad with lyrics that describe a perfect relationship. The song received positive reviews from music critics, who praised the song’s romantic lyrics and Sheeran’s vocal performance.</p>\n",
       "<p>“Perfect” became a commercial success, reaching number one in several countries, including the UK, US, Canada, and Australia. In the UK, the song debuted at number one on the UK Singles Chart, becoming Sheeran’s sixth UK number-one single. In the US, the song debuted at number four on the US Billboard Hot 100 and later reached number one, becoming Sheeran’s fourth US number-one single.</p>\n",
       "<p>The song has been certified multi-platinum in several countries, including the US, UK, Canada, and Australia. It has also been nominated for several awards, including the Grammy Award for Song of the Year and the Brit Award for Best British Single.</p>\n",
       "<p> </p>\n",
       "<p><span class=\"size3\">6. <a href=\"/custom-disc/artist/the-greatest-showman\">This Is Me by The Greatest Showman</a></span></p>\n",
       "<p>The Greatest Showman is a musical drama film released in 2017. The movie is inspired by the story of P. T. Barnum's creation of the Barnum &amp; Bailey Circus. The film stars Hugh Jackman as P. T. Barnum, Zac Efron as Phillip Carlyle, Zendaya as Anne Wheeler, and Rebecca Ferguson as Jenny Lind.</p>\n",
       "<p>The movie was a critical and commercial success. It was nominated for four Golden Globe Awards, winning two for Best Motion Picture – Musical or Comedy and Best Actor – Musical or Comedy for Hugh Jackman. It was also nominated for three Academy Awards, winning one for Best Original Song for \"This Is Me\".</p>\n",
       "<p>The Greatest Showman is a feel-good movie that will leave you inspired. It is a must-watch for all fans of musicals and Hugh Jackman.</p>\n",
       "<p> </p>\n",
       "<p><span class=\"size3\">7. <a href=\"/custom-disc/artist/lewis-capaldi\">Someone You Loved by Lewis Capaldi</a></span></p>\n",
       "<p>Lewis Capaldi is a Scottish singer-songwriter. He was born on October 7, 1996, in Glasgow, Scotland. His debut album, Divinely Uninspired to a Hellish Extent, was released in 2019 and peaked at number one on the UK Albums Chart. Capaldi's singles \"Someone You Loved\" and \"Before You Go\" both reached number one on the UK Singles Chart.</p>\n",
       "<p> </p>\n",
       "<p><span class=\"size3\">8. <a href=\"/custom-disc/artist/the-greatest-showman\">Rewrite The Stars by The Greatest Showman</a></span></p>\n",
       "<p>This song is a duet sung by Zac Efron and Zendaya. It is a ballad with a slow tempo and a moderate pace. The lyrics describe a forbidden love between two people who are not supposed to be together. The song reflects the hope and possibility of true love conquering all.</p>\n",
       "<p> </p>\n",
       "<p><span class=\"size3\">9. <a href=\"/custom-disc/artist/robbie-williams\">Angels by Robbie Williams</a></span></p>\n",
       "<p>Angels is a song by Robbie Williams. It was released as a single in December 1997, and reached number one in the UK charts in February 1998. The song has been described as Williams' \"signature song\", and has been covered by a number of artists.</p>\n",
       "<p> </p>\n",
       "<p><span class=\"size3\">10. <a href=\"/custom-disc/artist/the-greatest-showman\">The Greatest Show by The Greatest Showman</a></span></p>\n",
       "<p>The song is about a group of people who are trying to put on a great show. They are working hard to make it the best that it can be. The song is inspirational and motivating. It is about working hard and never giving up.</p></div></div> </div></div></div></div><div class=\"wrap bg0 bg2\"><div class=\"inner\"><div class=\"row\"><div class=\"col col-9\"> <div class=\"elmcontainer text colgroup\"> <div class=\"textelm\" style=\"position: relative;\"><p><span class=\"size3\"><a data-mce-href=\"custom-disc/search/greatest-showman\" href=\"/custom-disc/search/greatest-showman\">The Greatest Showman</a> has been a popular film since it first came out in 2017. </span></p><p><span class=\"size3\">People love the story, the music, and the overall message of the movie. It's no surprise, then, that the film has had a significant impact on the karaoke world. </span></p><p><span class=\"size3\">In fact, as you can see from above four of the movie's songs are currently in the top 10 of the all time most popular karaoke songs.</span></p><p><a data-mce-href=\"custom-disc/search/greatest-showman\" data-mce-selected=\"inline-boundary\" href=\"/custom-disc/search/greatest-showman\"><span class=\"size3\">View Tracks</span></a></p></div> </div> </div></div></div></div><div class=\"wrap result bg1\"><div class=\"inner\"><div class=\"row\"><div class=\"col col-12 text-left nmb\"><h2 class=\"size3\">Buy the top 100 karaoke songs 2022</h2><p class=\"underline\">Buy all 100 karaoke tracks on customer disc or download using the playlists below, or click through and hand select which tracks you would like to purchase</p></div><div class=\"prodlisting productslide\"><div class=\"col col-4 product\"><div class=\"colgroup\"><a class=\"colimg item bg bg bg bg lazy\" data-lazy=\"https://www.singtotheworld.com/dyn/60256.jpg?id=2\" href=\"/custom-disc/playlist/60256\" style=\"background-image: url(/pixel.png);\"><span class=\"albumname\">100 Most Popular Karaoke Songs 2022</span></a><a class=\"coldes\" href=\"/custom-disc/playlist/60256\"><span class=\"subtitle\">100 Most Popular Karaoke Songs 2022<br/><span class=\"small\">100 tracks</span></span><span class=\"prodprice\"></span><div class=\"addbskt butblock vm prodadd clk\" data-album=\"59ad3103-8b42-48ca-a6c0-f06a787f3dda\" data-plg=\"59ad3103-8b42-48ca-a6c0-f06a787f3dda\" data-product=\"9810fe3a-0238-4cd8-8cd2-84945e989745\" data-qty=\"1\" data-sectiontype=\"custom-disc\"><span class=\"a\">Add To Basket</span></div></a></div></div></div></div></div></div><div class=\"wrap bg0\"><div class=\"inner\"><div class=\"row\"><div class=\"col col-12\"> <div class=\"elmcontainer text colgroup\"> <div class=\"textelm\" style=\"position: relative;\"><p><span class=\"size3\">11 . <a href=\"/custom-disc/artist/frank-sinatra\">My Way by Frank Sinatra</a></span></p>\n",
       "<p>The song was written by French songwriter Claude François and Italian songwriter Paul Anka. The song was originally released as a single in 1969 and was later included on Sinatra's album of the same name. The song is considered to be one of Sinatra's signature songs.</p>\n",
       "<p> </p>\n",
       "<p><span class=\"size3\">12. <a href=\"/custom-disc/artist/tony-christie\">Is This The Way To Amarillo by Tony Christie</a></span></p>\n",
       "<p>The song was written by Neil Sedaka and Howard Greenfield. It was first recorded by Tony Christie in 1971 and released as a single in 1972. The song was a hit in several countries, reaching number one in the UK and Ireland.</p>\n",
       "<p>In 2004, a version of the song by British comedian Peter Kay became a hit in the UK, reaching number one for seven weeks.</p>\n",
       "<p> </p>\n",
       "<p><span class=\"size3\">13. <a href=\"/custom-disc/artist/queen\">Bohemian Rhapsody by Queen</a></span></p>\n",
       "<p>The song was written by Freddie Mercury for the band's 1975 album A Night at the Opera. The song is a six-minute suite, consisting of several sections without a chorus: an intro, a ballad segment, an operatic passage, a hard rock part and a reflective coda.</p>\n",
       "<p>The song is a more accessible take on the 1970s progressive rock genre. The song was a commercial success upon its release, reaching number one in many countries around the world, In the UK it became the Christmas number one and has sold over a million copies. Bohemian Rhapsody is ranked as one of the greatest songs of all time by various publications.</p>\n",
       "<p> </p>\n",
       "<p><span class=\"size3\">14. <a href=\"/custom-disc/artist/the-greatest-showman\">Never Enough by The Greatest Showman</a></span></p>\n",
       "<p>The song Never Enough is from The Greatest Showman soundtrack. It is a ballad sung by Loren Allred. The song is about a person who is never satisfied with what they have and is always looking for more.</p>\n",
       "<p> </p>\n",
       "<p><span class=\"size3\">15. <a href=\"/custom-disc/artist/elton-john\">Your Song by Elton John</a></span></p>\n",
       "<p>Your song was Elton johns first international top 10 chart single and reached number 7 on the UK charts. The song was released in 1970 and has been covered by a number of artists, including Rod Stewart, Lady Gaga and Ellie Goulding.</p></div></div> </div></div></div></div><div class=\"wrap bg0\"><div class=\"inner\"><div class=\"row\"><div class=\"col col-6\"> <div class=\"elmcontainer text colgroup\"> <div class=\"textelm\" style=\"position: relative;\"><p>16. Chasing Cars by Snow Patrol</p>\n",
       "<p>17. The Wonder Of You by Elvis Presley</p>\n",
       "<p>18. Suspicious Minds by Elvis Presley</p>\n",
       "<p>19. Make You Feel My Love by Adele</p>\n",
       "<p>20. From Now On by The Greatest Showman</p>\n",
       "<p>21. Dancing Queen by Abba</p>\n",
       "<p>22. Always On My Mind by Elvis Presley</p>\n",
       "<p>23. Penny Arcade by Roy Orbison</p>\n",
       "<p>24. Mamma Mia by Abba</p>\n",
       "<p>25. Never Enough by Loren Allred</p>\n",
       "<p>26. Can't Help Falling In Love by Elvis Presley</p>\n",
       "<p>27. Don't Stop Me Now by Queen</p>\n",
       "<p>28. Thinking Out Loud by Ed Sheeran</p>\n",
       "<p>29. Hallelujah by Alexandra Burke</p>\n",
       "<p>30. Crazy by Patsy Cline</p>\n",
       "<p>31. Tightrope by The Greatest Showman</p>\n",
       "<p>32. A Thousand Years by Christina Perri</p>\n",
       "<p>33. Castle On The Hill by Ed Sheeran</p>\n",
       "<p>34. Islands In The Stream by Dolly Parton &amp; Kenny Rogers</p>\n",
       "<p>35. Love On The Rocks by Neil Diamond</p>\n",
       "<p>36. The Other Side by The Greatest Showman</p>\n",
       "<p>37. Come Alive by The Greatest Showman</p>\n",
       "<p>38. In The Ghetto by Elvis Presley</p>\n",
       "<p>39. I Want To Break Free by Queen</p>\n",
       "<p>40. Love Me Tender by Elvis Presley</p>\n",
       "<p>41. Galway Girl by Ed Sheeran</p>\n",
       "<p>42. Delilah by Tom Jones</p>\n",
       "<p>43. Wonderwall by Oasis</p>\n",
       "<p>44. Budapest by George Ezra</p>\n",
       "<p>45. All Of Me by John Legend</p>\n",
       "<p>46. Ring of Fire by Johnny Cash</p>\n",
       "<p>47. Green Green Grass Of Home by Tom Jones</p>\n",
       "<p>48. Black Magic by Little Mix</p>\n",
       "<p>49. Can't Take My Eyes Off You by Andy Williams</p>\n",
       "<p>50. We Are The Champions by Queen</p>\n",
       "<p>51. Wonderful Tonight by Eric Clapton</p>\n",
       "<p>52. Hello Again by Neil Diamond</p>\n",
       "<p>53. Crazy Little Thing Called Love by Queen</p>\n",
       "<p>54. Mack The Knife by Bobby Darin</p>\n",
       "<p>55. A Million Dreams by Pink</p>\n",
       "<p>56. Daydream Believer by The Monkees</p>\n",
       "<p>57. Make Your Own Kind Of Music by Paloma Faith</p>\n",
       "<p>58. Somebody To Love by Queen</p></div></div> </div><div class=\"col col-6\"> <div class=\"elmcontainer text colgroup\"> <div class=\"textelm tinymcecl mce-content-body\" id=\"mce_66\" spellcheck=\"false\" style=\"position: relative;\"><p>59. We Will Rock You by Queen</p><p>60. Bridge Over Troubled Water by Simon &amp; Garfunkel</p><p>61. An American Trilogy by Elvis Presley</p><p>62. Brown Eyed Girl by Van Morrison</p><p>63. Take Me Home, Country Roads by John Denver</p><p>64. Someone Like You by Adele</p><p>65. Don't Look Back In Anger by Oasis</p><p>66. Summer Of '69 by Bryan Adams</p><p>67. The Gambler by Kenny Rogers</p><p>68. I Have A Dream by Abba</p><p>69. That's Life by Frank Sinatra</p><p>70. Kingston Town by UB40</p><p>71. What About Us by Pink</p><p>72. Need You Now by Lady Antebellum</p><p>73. Imagine by John Lennon</p><p>74. Merry Christmas Everyone by Shakin' Stevens</p><p>75. Cracklin' Rosie by Neil Diamond</p><p>76. Super Trouper by Abba</p><p>77. Blanket On The Ground by Billie Jo Spears</p><p>78. New York, New York by Frank Sinatra</p><p>79. Mr Brightside by The Killers</p><p>80. I Just Can't Help Believing by Elvis Presley</p><p>81. Thank You For The Music by Abba</p><p>82. Little Ole Wine Drinker Me by Dean Martin</p><p>83. Wind Beneath My Wings by Bette Midler</p><p>84. Shout Out To My Ex by Little Mix</p><p>85. Over The Rainbow by Eva Cassidy</p><p>86. American Pie by Don McLean</p><p>87. The Shape Of You by Ed Sheeran</p><p>88. Two Out Of Three Ain't Bad by Meat Loaf</p><p>89. And I Love You So by Perry Como</p><p>90. Fernando by Abba</p><p>91. I'm Gonna Be (500 Miles) by The Proclaimers</p><p>92. Last Christmas by Wham</p><p>93. Unchained Melody by The Righteous Brothers</p><p>94. Roar by Katy Perry</p><p>95. Forever In Blue Jeans by Neil Diamond</p><p>96. Jolene by Dolly Parton</p><p>97. Return To Sender by Elvis Presley</p><p>98. Hold Me While You Wait by Lewis Capaldi</p><p>99. I'll Never Love Again by Lady Gaga and Bradley Cooper</p><p>100. You'll Never Walk Alone by Gerry &amp; The Pacemakers</p></div> </div> </div></div></div></div></div>\n",
       "</div>\n",
       "<div class=\"mask reporttrack\">\n",
       "<div class=\"windowbox\">\n",
       "<div class=\"roww\">\n",
       "<div class=\"coll col-3 m\">\n",
       "<div class=\"close clk\">×</div>\n",
       "<div class=\"waiting\"><div class=\"loading\"><div class=\"bar\"></div><div class=\"bar\"></div><div class=\"bar\"></div><div class=\"bar\"></div><div class=\"bar\"></div><div class=\"loadingtext\">Please wait...</div></div></div>\n",
       "<div class=\"form reporttrackform\">\n",
       "<div class=\"coll col-12\">\n",
       "<div class=\"title\">Report Track</div>\n",
       "</div><div class=\"coll col-12\">\n",
       "<div class=\"element\">\n",
       "<div class=\"label\">What's wrong with this track? *</div>\n",
       "<select class=\"reportreason\">\n",
       "<option value=\"0\">Choose a reason</option>\n",
       "<option value=\"4067cf7d-99cf-4510-83c5-7a136acebaa5\">Lyrics are not in sync with the music</option>\n",
       "<option value=\"b5fed6b5-be8f-4690-82ea-b649d6e6c482\">Track does not play</option>\n",
       "<option value=\"3dbff54e-cef5-4c73-8eff-c7723c5d8f90\">Incorrect lyrics</option>\n",
       "<option value=\"044dd16e-77ef-4bf2-b766-119a5a20e7b8\">Poor audio quality</option>\n",
       "<option value=\"d8e3ecd9-802b-41e0-809e-a7e125548224\">Explicit lyrics/audio</option>\n",
       "<option value=\"e982b8dc-c8ea-43f3-ab54-f44c48e8ba60\">Wrong title/artist listed</option>\n",
       "<option value=\"3ed59064-2488-460b-b420-10a588007091\">No lyrics showing</option>\n",
       "</select>\n",
       "</div>\n",
       "</div><div class=\"coll col-12\">\n",
       "<div class=\"element\">\n",
       "<div class=\"label\">Additional Comments (Optional)</div>\n",
       "<input class=\"trackguid\" id=\"trackguid\" type=\"hidden\">\n",
       "<textarea class=\"reportcomment\" placeholder=\"ADDITIONAL COMMENTS (OPTIONAL)\"></textarea>\n",
       "</input></div>\n",
       "</div><div class=\"coll col-4 vt\">\n",
       "<div class=\"button reportt\">Submit</div>\n",
       "</div>\n",
       "</div>\n",
       "</div>\n",
       "</div>\n",
       "</div>\n",
       "</div>\n",
       "<div class=\"mask omenu cdg\">\n",
       "<div class=\"windowbox\">\n",
       "<div class=\"roww\">\n",
       "<div class=\"coll col-3 m\">\n",
       "<div class=\"themetop\"></div>\n",
       "<div class=\"close clk\">×</div>\n",
       "<div class=\"waiting\"><div class=\"loading\"><div class=\"bar\"></div><div class=\"bar\"></div><div class=\"bar\"></div><div class=\"bar\"></div><div class=\"bar\"></div><div class=\"loadingtext\">Please wait...</div></div></div>\n",
       "<div class=\"form\">\n",
       "<ul class=\"trackopts\">\n",
       "<li><span class=\"tracktitle\">[title]</span><span class=\"trackartist\">[artist]</span></li>\n",
       "<li class=\"clk tap addtodisc m\">Add to Disc</li>\n",
       "<li class=\"clk tap searchartist\">Search Artist</li>\n",
       "<li class=\"clk tap rt s\" data-t=\"\">Report Track</li>\n",
       "<li><span class=\"moreinfo\">More Info</span></li>\n",
       "<li class=\"tags\"></li>\n",
       "<li class=\"clk tap samplecdg\">Show Sample CDG</li>\n",
       "<li class=\"samplecdgvideo\" style=\"text-align:center;\">\n",
       "<video class=\"videoloader\" id=\"videoloader\"></video>\n",
       "</li>\n",
       "</ul>\n",
       "</div>\n",
       "</div>\n",
       "</div>\n",
       "</div>\n",
       "</div>\n",
       "<div class=\"mask plwindow plmenu\">\n",
       "<div class=\"windowbox\">\n",
       "<div class=\"roww\">\n",
       "<div class=\"coll col-3 m\">\n",
       "<div class=\"close clk\">×</div>\n",
       "<div class=\"waiting\"><div class=\"loading\"><div class=\"bar\"></div><div class=\"bar\"></div><div class=\"bar\"></div><div class=\"bar\"></div><div class=\"bar\"></div><div class=\"loadingtext\">Please wait...</div></div></div>\n",
       "<div class=\"form\">\n",
       "<ul class=\"trackopts\">\n",
       "<li><span class=\"plmenutitle size3 bold\">Create Playlist</span></li>\n",
       "<li><div class=\"plname\"><div class=\"element\"><input autocomplete=\"off\" class=\"text plnamebox\" data-maxsize=\"50\" id=\"plname\" name=\"638360828547546474\" tabindex=\"0\" type=\"text\" value=\"\"/><label class=\"label\" for=\"plname\">Playlist name</label><div class=\"maxsize\"></div></div><div class=\"msg name rCPlmsg\"></div><div class=\"button clk tap rCPl\">Create Playlist</div></div></li>\n",
       "<li style=\"display: none;\"><div class=\"incompletediscs\"></div></li>\n",
       "<li><div class=\"button clk tap rDPl\">Delete</div></li>\n",
       "</ul>\n",
       "</div>\n",
       "</div>\n",
       "</div>\n",
       "</div>\n",
       "</div>\n",
       "<div class=\"mask plwindow addToPL\">\n",
       "<div class=\"windowbox\">\n",
       "<div class=\"roww\">\n",
       "<div class=\"coll col-3 m\">\n",
       "<div class=\"close clk\">×</div>\n",
       "<div class=\"waiting\"><div class=\"loading\"><div class=\"bar\"></div><div class=\"bar\"></div><div class=\"bar\"></div><div class=\"bar\"></div><div class=\"bar\"></div><div class=\"loadingtext\">Please wait...</div></div></div>\n",
       "<div class=\"form\">\n",
       "<ul class=\"trackopts addPl1\">\n",
       "<li><span class=\"tracktitle\">Add Song To Playlist</span></li>\n",
       "<li style=\"margin-bottom: 20px;\"><div class=\"plchoose\"><div class=\"element\"><label class=\"labelt\" for=\"plselect\">Choose a Playlist</label><div class=\"plselect\" id=\"ctl05_plselect\"></div></div><div class=\"msg name rAPlmsg\"></div><div class=\"button clk tap rAPl\">Add</div></div></li>\n",
       "<li><div class=\"plcreatenew\"><div class=\"element\"><input class=\"text plnamebox1\" data-maxsize=\"50\" id=\"plname1\" name=\"\" tabindex=\"0\" type=\"text\" value=\"\"/><label class=\"label\" for=\"plname1\">Or Create A New Playlist</label><div class=\"maxsize\"></div></div><div class=\"msg name rCPlmsg\"></div><div class=\"button clk tap rCPl\">Create Playlist</div></div></li>\n",
       "</ul>\n",
       "<ul class=\"trackopts addPl2\">\n",
       "<li><span class=\"tracktitle\">Add Song To Playlist</span></li>\n",
       "<li>Do you want to add this song to your current play queue?</li>\n",
       "<li><div class=\"button clk tap avq\">Yes</div><div class=\"button clk tap closeWindow\" style=\"border: 1px solid #777777; color: #777777 !important; background: none;\">No</div></li>\n",
       "</ul>\n",
       "</div>\n",
       "</div>\n",
       "</div>\n",
       "</div>\n",
       "</div>\n",
       "<div class=\"mask plwindow pldeleted\">\n",
       "<div class=\"windowbox\">\n",
       "<div class=\"roww\">\n",
       "<div class=\"coll col-3 m\">\n",
       "<div class=\"close clk\">×</div>\n",
       "<div class=\"waiting\"><div class=\"loading\"><div class=\"bar\"></div><div class=\"bar\"></div><div class=\"bar\"></div><div class=\"bar\"></div><div class=\"bar\"></div><div class=\"loadingtext\">Please wait...</div></div></div>\n",
       "<div class=\"form\">\n",
       "<ul class=\"trackopts\">\n",
       "<li><span class=\"tracktitle\">Your playlist has been deleted.</span><div class=\"button clk tap closeWindow\" style=\"margin: 20px 0;\">OK</div></li>\n",
       "</ul>\n",
       "</div>\n",
       "</div>\n",
       "</div>\n",
       "</div>\n",
       "</div>\n",
       "<div id=\"MakeFullScreen\">\n",
       "<div class=\"wrap queue empty notvenue\">\n",
       "<div class=\"inner\">\n",
       "<div class=\"roww\">\n",
       "<div class=\"coll col-12\">\n",
       "<div class=\"queuetop clk\">\n",
       "<div class=\"queuetitle queuename\"></div>\n",
       "<div class=\"nowplaying\"></div>\n",
       "<div class=\"queuetitle upnxt\"><span>Up Next</span>\n",
       "<div class=\"togglequeue\">\n",
       "<svg height=\"36\" viewbox=\"0 0 24 24\" width=\"36\" xmlns=\"http://www.w3.org/2000/svg\">\n",
       "<path d=\"M7.41 15.41L12 10.83l4.59 4.58L18 14l-6-6-6 6z\"></path>\n",
       "<path d=\"M0 0h24v24H0z\" fill=\"none\"></path>\n",
       "</svg><svg height=\"36\" viewbox=\"0 0 24 24\" width=\"36\" xmlns=\"http://www.w3.org/2000/svg\"><path d=\"M7.41 7.84L12 12.42l4.59-4.58L18 9.25l-6 6-6-6z\"></path><path d=\"M0-.75h24v24H0z\" fill=\"none\"></path></svg></div>\n",
       "</div>\n",
       "</div>\n",
       "<div class=\"queuebottom\">\n",
       "<div class=\"currentqueue\"></div>\n",
       "<div class=\"shadow\"></div>\n",
       "</div>\n",
       "</div>\n",
       "</div>\n",
       "</div>\n",
       "</div>\n",
       "<div class=\"wrap playwr notvenue\" id=\"pwrap\">\n",
       "<div class=\"logo\">\n",
       "<svg height=\"100%\" id=\"karaoke_logo\" version=\"1.1\" viewbox=\"0 0 27.562 32.5\" width=\"100%\" x=\"0px\" xml:space=\"preserve\" xmlns=\"http://www.w3.org/2000/svg\" xmlns:xlink=\"http://www.w3.org/1999/xlink\" y=\"0px\">\n",
       "<g>\n",
       "<polygon class=\"recolour svgbrandcol\" points=\"20.68,0.312 21.53,4.843 27.25,4.903 22.03,9.073 \n",
       "\t\t\t        21.73,14.682 17.42,11.682 3.86,20.853 14.08,9.073 10.87,4.903 16.62,4.843 \t\t\" style=\"fill-rule: evenodd; clip-rule: evenodd; fill: #FFFFFF;\"></polygon>\n",
       "<polygon class=\"recolour svgbrandcol\" points=\"6.48,19.003 16.16,32.143 18.17,32.143 6.82,18.733\" style=\"fill-rule: evenodd; clip-rule: evenodd; fill: #FFFFFF;\"></polygon>\n",
       "<polygon class=\"recolour svgbrandcol\" points=\"7.18,18.392 19.18,32.143 21.2,32.143 7.54,18.122\" style=\"fill-rule: evenodd; clip-rule: evenodd; fill: #FFFFFF;\"></polygon>\n",
       "<polygon class=\"recolour svgbrandcol\" points=\"7.93,17.792 22.01,32.143 24.02,32.143 8.32,17.583\" style=\"fill-rule: evenodd; clip-rule: evenodd; fill: #FFFFFF;\"></polygon>\n",
       "<rect class=\"recolour svgbrandcol\" height=\"27.93\" style=\"fill-rule: evenodd; clip-rule: evenodd; fill: #FFFFFF;\" width=\"6.25\" x=\"0.25\" y=\"4.383\"></rect>\n",
       "</g>\n",
       "</svg>\n",
       "</div>\n",
       "<div class=\"rotatesuggestion\">\n",
       "<div class=\"rotateicon\"></div>\n",
       "<p>Rotate for a better experience</p>\n",
       "</div>\n",
       "<div class=\"brandinglogo\"></div>\n",
       "<div class=\"playerwrap\"></div>\n",
       "</div>\n",
       "<div class=\"messages fullmsg\"></div>\n",
       "</div>\n",
       "</div>\n",
       "<div class=\"hovermask\"></div>\n",
       "</div>\n",
       "<div id=\"footerDynamic\">\n",
       "<div class=\"wrap footer\">\n",
       "<div class=\"inner\">\n",
       "<div class=\"row\">\n",
       "<div class=\"col col-3\">\n",
       "<h4><span class=\"colour1 size4\">Need a hand?</span></h4>\n",
       "<p><span class=\"small\">Monday - Friday<br>9AM - 5PM</br></span></p>\n",
       "<p class=\"np\"><a href=\"tel:01675430433\">01675 430 433</a><br/><a href=\"/cdn-cgi/l/email-protection#d3babdb5bc93a0babdb4a7bca7bbb6a4bca1bfb7fdb0bcbe\"><span class=\"__cf_email__\" data-cfemail=\"d1b8bfb7be91a2b8bfb6a5bea5b9b4a6bea3bdb5ffb2bebc\">[email protected]</span></a></p>\n",
       "</div><div class=\"col col-3\">\n",
       "<h4><span class=\"colour1 size4\">Useful Information</span></h4>\n",
       "<ul id=\"ctl03_infonav\"><li class=\"drop first\"><a class=\"mainlink\" href=\"/shipping-and-delivery\">Delivery</a></li><li class=\"drop redl\"><a class=\"mainlink\" href=\"/blog\">Karaoke Blog</a><div class=\"arrowshow\"></div></li><li class=\"drop\"><a class=\"mainlink\" href=\"/help-and-contact\">Contact Us</a></li><li class=\"drop first\"><a class=\"mainlink\" href=\"/returns-information\">Returns Information</a></li><li class=\"drop\"><a class=\"mainlink\" href=\"/help\">Help</a></li></ul>\n",
       "</div><div class=\"col col-3\">\n",
       "<h4><span class=\"colour1 size4\">Shop with us</span></h4>\n",
       "<ul id=\"ctl03_shopnav\"><li class=\"drop first\"><a class=\"mainlink\" href=\"/custom-disc\">Personalised Karaoke CD</a></li><li class=\"drop\"><a class=\"mainlink\" href=\"/download\">MP3+G Downloads</a></li><li class=\"drop special\"><a class=\"mainlink\" href=\"/karaoke-starter-kit\">Mystery Karaoke Starter Pack</a></li><li class=\"drop\"><a class=\"mainlink\" href=\"/stream\">Online Karaoke</a></li></ul>\n",
       "</div><div class=\"col col-3\">\n",
       "<h4><span class=\"colour1 size4\">Karaoke Services</span></h4>\n",
       "<ul id=\"ctl03_morenav\"><li class=\"drop first special\"><a class=\"mainlink\" href=\"/custom-karaoke-lyrics\">Custom Karaoke Lyrics</a></li><li class=\"drop special\"><a class=\"mainlink\" href=\"/karaoke-song-request-slips\">Karaoke Song Request Slips</a></li><li class=\"drop special\"><a class=\"mainlink\" href=\"/karaoke-for-venues\">Karaoke for Venues</a></li></ul>\n",
       "</div>\n",
       "</div>\n",
       "</div>\n",
       "</div>\n",
       "<div class=\"wrap copyright\">\n",
       "<div class=\"inner\">\n",
       "<div class=\"row\">\n",
       "<div class=\"col col-6 vm\">\n",
       "<a aria-label=\"Home\" class=\"logo\" href=\"/\">\n",
       "<img alt=\"Sing to the World\" height=\"60\" src=\"/images/STTW-logo.svg\" width=\"68\"/>\n",
       "</a>\n",
       "</div><div class=\"col col-6 vm\">\n",
       "<div class=\"fsocial\" id=\"ctl03_social\"><span class=\"social\"><a aria-label=\"Facebook\" class=\"socialicon facebook first\" href=\"https://www.facebook.com/STTWKaraoke/\" rel=\"noopener noreferrer\" target=\"_blank\"></a><a aria-label=\"Twitter\" class=\"socialicon twitter\" href=\"https://twitter.com/STTWKaraoke\" rel=\"noopener noreferrer\" target=\"_blank\"></a></span></div>\n",
       "</div>\n",
       "</div>\n",
       "</div>\n",
       "<div class=\"inner\">\n",
       "<div class=\"row\">\n",
       "<div class=\"col col-4 vm\">\n",
       "<p class=\"np small\">Copyright © 2023 Yousing Limited.</p>\n",
       "</div><div class=\"col col-4 vm\">\n",
       "<div class=\"trustpilot-widget\" data-businessunit-id=\"5ea65c201adcd7000107e854\" data-locale=\"en-GB\" data-style-height=\"24px\" data-style-width=\"100%\" data-template-id=\"5419b6a8b0d04a076446a9ad\" data-theme=\"dark\">\n",
       "<a href=\"https://uk.trustpilot.com/review/singtotheworld.com\" rel=\"noopener\" target=\"_blank\">Trustpilot</a>\n",
       "</div>\n",
       "</div><div class=\"col col-4 vm\">\n",
       "<ul class=\"terms\" id=\"ctl03_termsnav\"><li class=\"drop first\"><a class=\"mainlink\" href=\"/terms-and-conditions\">Terms</a></li><li class=\"drop\"><a class=\"mainlink\" href=\"/privacy-policy\">Privacy</a></li><li class=\"drop\"><a class=\"mainlink\" href=\"/cookie-policy\">Cookies</a></li></ul>\n",
       "</div>\n",
       "</div>\n",
       "</div>\n",
       "</div>\n",
       "<div class=\"messages normmsg\"></div>\n",
       "<div class=\"wrap cookies cookiebanner\" id=\"cookiebanner\">\n",
       "<div class=\"wrap banner\">\n",
       "<div class=\"inner\">\n",
       "<div class=\"row\">\n",
       "<div class=\"col col-8 vm nmb\">\n",
       "<p>We use <a href=\"/cookie-policy\" rel=\"nofollow\">cookies to collect information</a> about how you use our website. We use this information to ensure our website is working properly, and to improve our services.</p>\n",
       "<p class=\"np\">\n",
       "<span class=\"butblock\"><span class=\"cookiebtn a\" id=\"acceptcookies\">Accept all cookies</span></span><span class=\"butblock\"><span class=\"cookiebtn reject a\" id=\"requiredcookies\">Only required cookies</span></span><span class=\"cookiebtn cookieresp\"></span>\n",
       "</p>\n",
       "</div>\n",
       "</div>\n",
       "</div>\n",
       "</div>\n",
       "</div>\n",
       "<script data-cfasync=\"false\" src=\"/cdn-cgi/scripts/5c5dd728/cloudflare-static/email-decode.min.js\"></script><script src=\"/js/managecookies.js?v=20\"></script>\n",
       "<script defer=\"\" src=\"/js/71bf353f-778b-4beb-9775-3556c3b15409/jquery-3.5.1.min.js\"></script>\n",
       "<script defer=\"\" src=\"/js/outdated.js?id=1s1\"></script>\n",
       "<script defer=\"\" src=\"/js/watermark.js?id=2d\"></script>\n",
       "<script defer=\"\" src=\"/js/notify.js\"></script>\n",
       "<script defer=\"\" src=\"/js/shop.min.js\"></script>\n",
       "<script defer=\"\" src=\"/js/customer.min.js?id=2\"></script>\n",
       "<script defer=\"\" src=\"/js/store.min.js\"></script>\n",
       "<script>var ResendOrderGuid = \"\";</script>\n",
       "<script defer=\"\" src=\"/js/71bf353f-778b-4beb-9775-3556c3b15409/search.min.js?id=6\"></script>\n",
       "<script defer=\"\" src=\"/service/form/js/formfront.js\"></script>\n",
       "<script async=\"\" src=\"//widget.trustpilot.com/bootstrap/v5/tp.widget.bootstrap.min.js\" type=\"text/javascript\"></script>\n",
       "<script defer=\"\" src=\"/js/new/searchapi.min.js?v=8.8\"></script>\n",
       "<script defer=\"\" src=\"/js/Checkout.js\"></script>\n",
       "<script defer=\"\" src=\"/js/maildeck.js\"></script>\n",
       "<script src=\"/js/managecookies.js?v=1\"></script>\n",
       "</div>\n",
       "<iframe id=\"my_downloadiframe\" style=\"display:none;\"></iframe>\n",
       "</form>\n",
       "</body>\n",
       "</html>"
      ]
     },
     "execution_count": 91,
     "metadata": {},
     "output_type": "execute_result"
    }
   ],
   "source": [
    "# 4.1. parse html (create the 'soup')\n",
    "soup = BeautifulSoup(response.content, \"html.parser\")\n",
    "# 4.2. check that the html code looks like it should\n",
    "soup"
   ]
  },
  {
   "cell_type": "markdown",
   "metadata": {
    "id": "kXxPimjraAbk"
   },
   "source": [
    "#### Building the dataframe"
   ]
  },
  {
   "cell_type": "code",
   "execution_count": 97,
   "metadata": {},
   "outputs": [],
   "source": [
    "#your code here\n",
    "songs = [\n",
    "    \n",
    "]\n",
    "\n",
    "for k in soup.select(\"span.size3 a\"):\n",
    "    songs.append(k.get_text())"
   ]
  },
  {
   "cell_type": "code",
   "execution_count": 119,
   "metadata": {},
   "outputs": [],
   "source": [
    "title = [\n",
    "    \n",
    "]\n",
    "\n",
    "artist = [\n",
    "    \n",
    "]\n",
    "\n",
    "for song in songs:\n",
    "    title.append(song.split(\"by\")[0])\n",
    "    \n",
    "for song in songs:\n",
    "    artist.append(song.split(\"by\")[-1])"
   ]
  },
  {
   "cell_type": "code",
   "execution_count": 121,
   "metadata": {},
   "outputs": [
    {
     "data": {
      "text/plain": [
       "22"
      ]
     },
     "execution_count": 121,
     "metadata": {},
     "output_type": "execute_result"
    }
   ],
   "source": [
    "len(title)"
   ]
  },
  {
   "cell_type": "markdown",
   "metadata": {
    "id": "nQcALDRsaAbl"
   },
   "source": [
    "### Cleaning the data"
   ]
  },
  {
   "cell_type": "code",
   "execution_count": 22,
   "metadata": {
    "ExecuteTime": {
     "end_time": "2022-11-21T10:24:26.496041Z",
     "start_time": "2022-11-21T10:24:26.489637Z"
    },
    "id": "V3hwm4jRaAbm"
   },
   "outputs": [
    {
     "name": "stdout",
     "output_type": "stream",
     "text": [
      "200\n"
     ]
    },
    {
     "data": {
      "text/plain": [
       "<!DOCTYPE html>\n",
       "\n",
       "<!--\n",
       "\n",
       "DON'T USE THIS PAGE FOR SCRAPING.\n",
       "\n",
       "Seriously. You'll only get your IP blocked.\n",
       "\n",
       "Download https://www.gutenberg.org/feeds/catalog.rdf.bz2 instead,\n",
       "which contains *all* Project Gutenberg metadata in one RDF/XML file.\n",
       "\n",
       "--><html lang=\"en\">\n",
       "<head>\n",
       "<style>\n",
       ".icon   { background: transparent url(/pics/sprite.png) 0 0 no-repeat; }\n",
       ".page_content a.subtle_link:link {color:currentColor; text-decoration: none;}\n",
       ".page_content a.subtle_link:hover {color:#003366}\n",
       "</style>\n",
       "<link href=\"/gutenberg/pg-desktop-one.css\" rel=\"stylesheet\" type=\"text/css\"/>\n",
       "<link href=\"/gutenberg/new_nav.css\" rel=\"stylesheet\" type=\"text/css\"/>\n",
       "<link href=\"/gutenberg/style.css\" rel=\"stylesheet\" type=\"text/css\"/>\n",
       "<script>//\n",
       "var canonical_url   = \"http://www.gutenberg.org/ebooks/search/?sort_order=downloads\";\n",
       "var lang            = \"en\";\n",
       "var msg_load_more   = \"Load More Results…\";\n",
       "var page_mode       = \"screen\";\n",
       "var dialog_title    = \"\";\n",
       "var dialog_message  = \"\";\n",
       "//</script>\n",
       "<script src=\"/js/pg-two.js\"></script>\n",
       "<link href=\"/gutenberg/favicon.ico\" rel=\"shortcut icon\"/>\n",
       "<link href=\"http://www.gutenberg.org/ebooks/search/?sort_order=downloads\" rel=\"canonical\"/>\n",
       "<link href=\"https://www.gutenberg.org/catalog/osd-books.xml\" rel=\"search\" title=\"Search Project Gutenberg\" type=\"application/opensearchdescription+xml\"/>\n",
       "<link href=\"/ebooks/search.opds/?sort_order=downloads\" rel=\"alternate nofollow\" title=\"OPDS feed\" type=\"application/atom+xml;profile=opds-catalog\"/>\n",
       "<link href=\"/gutenberg/apple-icon.png\" rel=\"apple-touch-icon\"/>\n",
       "<meta content=\"width=device-width\" name=\"viewport\"/>\n",
       "<meta content=\"text/html; charset=utf-8\" http-equiv=\"Content-Type\"/>\n",
       "<meta content=\"text/css\" http-equiv=\"default-style\"/>\n",
       "<meta content=\"All Books (sorted by popularity)\" name=\"title\"/>\n",
       "<meta content=\"Project Gutenberg offers 72,097 free eBooks for Kindle, iPad, Nook, Android, and iPhone.\" name=\"description\"/>\n",
       "<meta content=\"ebook, ebooks, free ebooks, free books, book, books, audio books\" name=\"keywords\"/>\n",
       "<meta content=\"public\" name=\"classification\"/>\n",
       "<meta content=\"All Books (sorted by popularity)\" property=\"og:title\"/>\n",
       "<meta content=\"Project Gutenberg offers 72,097 free eBooks for Kindle, iPad, Nook, Android, and iPhone.\" property=\"og:description\"/>\n",
       "<meta content=\"website\" property=\"og:type\"/>\n",
       "<meta content=\"http://www.gutenberg.org/pics/logo-144x144.png\" property=\"og:image\"/>\n",
       "<meta content=\"http://www.gutenberg.org/ebooks/search/?sort_order=downloads\" property=\"og:url\"/>\n",
       "<meta content=\"Project Gutenberg\" property=\"og:site_name\"/>\n",
       "<meta content=\"115319388529183\" property=\"fb:app_id\"/>\n",
       "<meta content=\"summary\" name=\"twitter:card\"/>\n",
       "<meta content=\"@gutenberg_new\" name=\"twitter:site\"/>\n",
       "<meta content=\"http://www.gutenberg.org/pics/logo-144x144.png\" name=\"twitter:image\"/>\n",
       "<meta content=\"book cover image\" name=\"twitter:image:alt\"/>\n",
       "<title>All Books (sorted by popularity) - Project Gutenberg</title>\n",
       "<link href=\"/ebooks/search/\" rel=\"self\" title=\"This Page\"/>\n",
       "<link href=\"/ebooks/search/?start_index=26\" rel=\"next\" title=\"Next Page\"/>\n",
       "<meta content=\"26\" name=\"totalResults\"/>\n",
       "<meta content=\"1\" name=\"startIndex\"/>\n",
       "<meta content=\"25\" name=\"itemsPerPage\"/>\n",
       "</head>\n",
       "<body>\n",
       "<div class=\"noprint\" id=\"mw-head-dummy\"></div>\n",
       "<div class=\"page_content\" id=\"content\">\n",
       "<div class=\"header\">\n",
       "<h1><span class=\"icon icon_\"></span>All Books (sorted by popularity)</h1>\n",
       "</div>\n",
       "<div class=\"body\">\n",
       "<div>\n",
       "<ul class=\"results\">\n",
       "<li class=\"grayed navlink\">\n",
       "<a accesskey=\"0\" class=\"link\" href=\"/ebooks/search/?sort_order=title\">\n",
       "<span class=\"cell leftcell without-cover\">\n",
       "<span class=\"icon-wrapper\">\n",
       "<span class=\"icon icon_alpha\"></span>\n",
       "</span>\n",
       "</span>\n",
       "<span class=\"cell content\">\n",
       "<span class=\"title\">Sort Alphabetically by Title</span>\n",
       "</span>\n",
       "<span class=\"hstrut\"></span>\n",
       "</a>\n",
       "</li>\n",
       "<li class=\"grayed navlink\">\n",
       "<a accesskey=\"1\" class=\"link\" href=\"/ebooks/search/?sort_order=release_date\">\n",
       "<span class=\"cell leftcell without-cover\">\n",
       "<span class=\"icon-wrapper\">\n",
       "<span class=\"icon icon_date\"></span>\n",
       "</span>\n",
       "</span>\n",
       "<span class=\"cell content\">\n",
       "<span class=\"title\">Sort by Release Date</span>\n",
       "</span>\n",
       "<span class=\"hstrut\"></span>\n",
       "</a>\n",
       "</li>\n",
       "<li class=\"statusline\">\n",
       "<div class=\"padded\">\n",
       "<span>Displaying results 1–25</span>\n",
       "<span class=\"links\">\n",
       "|\n",
       "<a accesskey=\"+\" href=\"/ebooks/search/?sort_order=downloads&amp;start_index=26\" title=\"Go to the next page of results.\">Next</a>\n",
       "</span>\n",
       "</div>\n",
       "</li>\n",
       "<li class=\"booklink\">\n",
       "<a accesskey=\"3\" class=\"link\" href=\"/ebooks/84\">\n",
       "<span class=\"cell leftcell with-cover\">\n",
       "<img alt=\"\" class=\"cover-thumb\" src=\"/cache/epub/84/pg84.cover.small.jpg\"/>\n",
       "</span>\n",
       "<span class=\"cell content\">\n",
       "<span class=\"title\">Frankenstein; Or, The Modern Prometheus</span>\n",
       "<span class=\"subtitle\">Mary Wollstonecraft Shelley</span>\n",
       "<span class=\"extra\">95371 downloads</span>\n",
       "</span>\n",
       "<span class=\"hstrut\"></span>\n",
       "</a>\n",
       "</li>\n",
       "<li class=\"booklink\">\n",
       "<a accesskey=\"4\" class=\"link\" href=\"/ebooks/1342\">\n",
       "<span class=\"cell leftcell with-cover\">\n",
       "<img alt=\"\" class=\"cover-thumb\" src=\"/cache/epub/1342/pg1342.cover.small.jpg\"/>\n",
       "</span>\n",
       "<span class=\"cell content\">\n",
       "<span class=\"title\">Pride and Prejudice</span>\n",
       "<span class=\"subtitle\">Jane Austen</span>\n",
       "<span class=\"extra\">57687 downloads</span>\n",
       "</span>\n",
       "<span class=\"hstrut\"></span>\n",
       "</a>\n",
       "</li>\n",
       "<li class=\"booklink\">\n",
       "<a accesskey=\"5\" class=\"link\" href=\"/ebooks/1513\">\n",
       "<span class=\"cell leftcell with-cover\">\n",
       "<img alt=\"\" class=\"cover-thumb\" src=\"/cache/epub/1513/pg1513.cover.small.jpg\"/>\n",
       "</span>\n",
       "<span class=\"cell content\">\n",
       "<span class=\"title\">Romeo and Juliet</span>\n",
       "<span class=\"subtitle\">William Shakespeare</span>\n",
       "<span class=\"extra\">56537 downloads</span>\n",
       "</span>\n",
       "<span class=\"hstrut\"></span>\n",
       "</a>\n",
       "</li>\n",
       "<li class=\"booklink\">\n",
       "<a accesskey=\"6\" class=\"link\" href=\"/ebooks/33283\">\n",
       "<span class=\"cell leftcell with-cover\">\n",
       "<img alt=\"\" class=\"cover-thumb\" src=\"/cache/epub/33283/pg33283.cover.small.jpg\"/>\n",
       "</span>\n",
       "<span class=\"cell content\">\n",
       "<span class=\"title\">Calculus Made Easy\n",
       "</span>\n",
       "<span class=\"subtitle\">Silvanus P. Thompson</span>\n",
       "<span class=\"extra\">38005 downloads</span>\n",
       "</span>\n",
       "<span class=\"hstrut\"></span>\n",
       "</a>\n",
       "</li>\n",
       "<li class=\"booklink\">\n",
       "<a accesskey=\"7\" class=\"link\" href=\"/ebooks/25344\">\n",
       "<span class=\"cell leftcell with-cover\">\n",
       "<img alt=\"\" class=\"cover-thumb\" src=\"/cache/epub/25344/pg25344.cover.small.jpg\"/>\n",
       "</span>\n",
       "<span class=\"cell content\">\n",
       "<span class=\"title\">The Scarlet Letter</span>\n",
       "<span class=\"subtitle\">Nathaniel Hawthorne</span>\n",
       "<span class=\"extra\">36988 downloads</span>\n",
       "</span>\n",
       "<span class=\"hstrut\"></span>\n",
       "</a>\n",
       "</li>\n",
       "<li class=\"booklink\">\n",
       "<a accesskey=\"8\" class=\"link\" href=\"/ebooks/11\">\n",
       "<span class=\"cell leftcell with-cover\">\n",
       "<img alt=\"\" class=\"cover-thumb\" src=\"/cache/epub/11/pg11.cover.small.jpg\"/>\n",
       "</span>\n",
       "<span class=\"cell content\">\n",
       "<span class=\"title\">Alice's Adventures in Wonderland</span>\n",
       "<span class=\"subtitle\">Lewis Carroll</span>\n",
       "<span class=\"extra\">31981 downloads</span>\n",
       "</span>\n",
       "<span class=\"hstrut\"></span>\n",
       "</a>\n",
       "</li>\n",
       "<li class=\"booklink\">\n",
       "<a accesskey=\"9\" class=\"link\" href=\"/ebooks/345\">\n",
       "<span class=\"cell leftcell with-cover\">\n",
       "<img alt=\"\" class=\"cover-thumb\" src=\"/cache/epub/345/pg345.cover.small.jpg\"/>\n",
       "</span>\n",
       "<span class=\"cell content\">\n",
       "<span class=\"title\">Dracula</span>\n",
       "<span class=\"subtitle\">Bram Stoker</span>\n",
       "<span class=\"extra\">29799 downloads</span>\n",
       "</span>\n",
       "<span class=\"hstrut\"></span>\n",
       "</a>\n",
       "</li>\n",
       "<li class=\"booklink\">\n",
       "<a accesskey=\"0\" class=\"link\" href=\"/ebooks/46\">\n",
       "<span class=\"cell leftcell with-cover\">\n",
       "<img alt=\"\" class=\"cover-thumb\" src=\"/cache/epub/46/pg46.cover.small.jpg\"/>\n",
       "</span>\n",
       "<span class=\"cell content\">\n",
       "<span class=\"title\">A Christmas Carol in Prose; Being a Ghost Story of Christmas</span>\n",
       "<span class=\"subtitle\">Charles Dickens</span>\n",
       "<span class=\"extra\">27363 downloads</span>\n",
       "</span>\n",
       "<span class=\"hstrut\"></span>\n",
       "</a>\n",
       "</li>\n",
       "<li class=\"booklink\">\n",
       "<a accesskey=\"1\" class=\"link\" href=\"/ebooks/64317\">\n",
       "<span class=\"cell leftcell with-cover\">\n",
       "<img alt=\"\" class=\"cover-thumb\" src=\"/cache/epub/64317/pg64317.cover.small.jpg\"/>\n",
       "</span>\n",
       "<span class=\"cell content\">\n",
       "<span class=\"title\">The Great Gatsby</span>\n",
       "<span class=\"subtitle\">F. Scott Fitzgerald</span>\n",
       "<span class=\"extra\">27305 downloads</span>\n",
       "</span>\n",
       "<span class=\"hstrut\"></span>\n",
       "</a>\n",
       "</li>\n",
       "<li class=\"booklink\">\n",
       "<a accesskey=\"2\" class=\"link\" href=\"/ebooks/2542\">\n",
       "<span class=\"cell leftcell with-cover\">\n",
       "<img alt=\"\" class=\"cover-thumb\" src=\"/cache/epub/2542/pg2542.cover.small.jpg\"/>\n",
       "</span>\n",
       "<span class=\"cell content\">\n",
       "<span class=\"title\">A Doll's House : a play</span>\n",
       "<span class=\"subtitle\">Henrik Ibsen</span>\n",
       "<span class=\"extra\">25639 downloads</span>\n",
       "</span>\n",
       "<span class=\"hstrut\"></span>\n",
       "</a>\n",
       "</li>\n",
       "<li class=\"booklink\">\n",
       "<a accesskey=\"3\" class=\"link\" href=\"/ebooks/174\">\n",
       "<span class=\"cell leftcell with-cover\">\n",
       "<img alt=\"\" class=\"cover-thumb\" src=\"/cache/epub/174/pg174.cover.small.jpg\"/>\n",
       "</span>\n",
       "<span class=\"cell content\">\n",
       "<span class=\"title\">The Picture of Dorian Gray</span>\n",
       "<span class=\"subtitle\">Oscar Wilde</span>\n",
       "<span class=\"extra\">25608 downloads</span>\n",
       "</span>\n",
       "<span class=\"hstrut\"></span>\n",
       "</a>\n",
       "</li>\n",
       "<li class=\"booklink\">\n",
       "<a accesskey=\"4\" class=\"link\" href=\"/ebooks/26184\">\n",
       "<span class=\"cell leftcell with-cover\">\n",
       "<img alt=\"\" class=\"cover-thumb\" src=\"/cache/epub/26184/pg26184.cover.small.jpg\"/>\n",
       "</span>\n",
       "<span class=\"cell content\">\n",
       "<span class=\"title\">Simple Sabotage Field Manual</span>\n",
       "<span class=\"subtitle\">United States. Office of Strategic Services</span>\n",
       "<span class=\"extra\">25565 downloads</span>\n",
       "</span>\n",
       "<span class=\"hstrut\"></span>\n",
       "</a>\n",
       "</li>\n",
       "<li class=\"booklink\">\n",
       "<a accesskey=\"5\" class=\"link\" href=\"/ebooks/5200\">\n",
       "<span class=\"cell leftcell with-cover\">\n",
       "<img alt=\"\" class=\"cover-thumb\" src=\"/cache/epub/5200/pg5200.cover.small.jpg\"/>\n",
       "</span>\n",
       "<span class=\"cell content\">\n",
       "<span class=\"title\">Metamorphosis</span>\n",
       "<span class=\"subtitle\">Franz Kafka</span>\n",
       "<span class=\"extra\">24129 downloads</span>\n",
       "</span>\n",
       "<span class=\"hstrut\"></span>\n",
       "</a>\n",
       "</li>\n",
       "<li class=\"booklink\">\n",
       "<a accesskey=\"6\" class=\"link\" href=\"/ebooks/1080\">\n",
       "<span class=\"cell leftcell with-cover\">\n",
       "<img alt=\"\" class=\"cover-thumb\" src=\"/cache/epub/1080/pg1080.cover.small.jpg\"/>\n",
       "</span>\n",
       "<span class=\"cell content\">\n",
       "<span class=\"title\">A Modest Proposal\n",
       "</span>\n",
       "<span class=\"subtitle\">Jonathan Swift</span>\n",
       "<span class=\"extra\">23979 downloads</span>\n",
       "</span>\n",
       "<span class=\"hstrut\"></span>\n",
       "</a>\n",
       "</li>\n",
       "<li class=\"booklink\">\n",
       "<a accesskey=\"7\" class=\"link\" href=\"/ebooks/844\">\n",
       "<span class=\"cell leftcell with-cover\">\n",
       "<img alt=\"\" class=\"cover-thumb\" src=\"/cache/epub/844/pg844.cover.small.jpg\"/>\n",
       "</span>\n",
       "<span class=\"cell content\">\n",
       "<span class=\"title\">The Importance of Being Earnest: A Trivial Comedy for Serious People</span>\n",
       "<span class=\"subtitle\">Oscar Wilde</span>\n",
       "<span class=\"extra\">23419 downloads</span>\n",
       "</span>\n",
       "<span class=\"hstrut\"></span>\n",
       "</a>\n",
       "</li>\n",
       "<li class=\"booklink\">\n",
       "<a accesskey=\"8\" class=\"link\" href=\"/ebooks/43\">\n",
       "<span class=\"cell leftcell with-cover\">\n",
       "<img alt=\"\" class=\"cover-thumb\" src=\"/cache/epub/43/pg43.cover.small.jpg\"/>\n",
       "</span>\n",
       "<span class=\"cell content\">\n",
       "<span class=\"title\">The Strange Case of Dr. Jekyll and Mr. Hyde</span>\n",
       "<span class=\"subtitle\">Robert Louis Stevenson</span>\n",
       "<span class=\"extra\">22127 downloads</span>\n",
       "</span>\n",
       "<span class=\"hstrut\"></span>\n",
       "</a>\n",
       "</li>\n",
       "<li class=\"booklink\">\n",
       "<a accesskey=\"9\" class=\"link\" href=\"/ebooks/2701\">\n",
       "<span class=\"cell leftcell with-cover\">\n",
       "<img alt=\"\" class=\"cover-thumb\" src=\"/cache/epub/2701/pg2701.cover.small.jpg\"/>\n",
       "</span>\n",
       "<span class=\"cell content\">\n",
       "<span class=\"title\">Moby Dick; Or, The Whale</span>\n",
       "<span class=\"subtitle\">Herman Melville</span>\n",
       "<span class=\"extra\">21975 downloads</span>\n",
       "</span>\n",
       "<span class=\"hstrut\"></span>\n",
       "</a>\n",
       "</li>\n",
       "<li class=\"booklink\">\n",
       "<a accesskey=\"0\" class=\"link\" href=\"/ebooks/1952\">\n",
       "<span class=\"cell leftcell with-cover\">\n",
       "<img alt=\"\" class=\"cover-thumb\" src=\"/cache/epub/1952/pg1952.cover.small.jpg\"/>\n",
       "</span>\n",
       "<span class=\"cell content\">\n",
       "<span class=\"title\">The Yellow Wallpaper</span>\n",
       "<span class=\"subtitle\">Charlotte Perkins Gilman</span>\n",
       "<span class=\"extra\">20532 downloads</span>\n",
       "</span>\n",
       "<span class=\"hstrut\"></span>\n",
       "</a>\n",
       "</li>\n",
       "<li class=\"booklink\">\n",
       "<a accesskey=\"1\" class=\"link\" href=\"/ebooks/98\">\n",
       "<span class=\"cell leftcell with-cover\">\n",
       "<img alt=\"\" class=\"cover-thumb\" src=\"/cache/epub/98/pg98.cover.small.jpg\"/>\n",
       "</span>\n",
       "<span class=\"cell content\">\n",
       "<span class=\"title\">A Tale of Two Cities</span>\n",
       "<span class=\"subtitle\">Charles Dickens</span>\n",
       "<span class=\"extra\">19601 downloads</span>\n",
       "</span>\n",
       "<span class=\"hstrut\"></span>\n",
       "</a>\n",
       "</li>\n",
       "<li class=\"booklink\">\n",
       "<a accesskey=\"2\" class=\"link\" href=\"/ebooks/1260\">\n",
       "<span class=\"cell leftcell with-cover\">\n",
       "<img alt=\"\" class=\"cover-thumb\" src=\"/cache/epub/1260/pg1260.cover.small.jpg\"/>\n",
       "</span>\n",
       "<span class=\"cell content\">\n",
       "<span class=\"title\">Jane Eyre: An Autobiography</span>\n",
       "<span class=\"subtitle\">Charlotte Brontë</span>\n",
       "<span class=\"extra\">17342 downloads</span>\n",
       "</span>\n",
       "<span class=\"hstrut\"></span>\n",
       "</a>\n",
       "</li>\n",
       "<li class=\"booklink\">\n",
       "<a accesskey=\"3\" class=\"link\" href=\"/ebooks/1661\">\n",
       "<span class=\"cell leftcell with-cover\">\n",
       "<img alt=\"\" class=\"cover-thumb\" src=\"/cache/epub/1661/pg1661.cover.small.jpg\"/>\n",
       "</span>\n",
       "<span class=\"cell content\">\n",
       "<span class=\"title\">The Adventures of Sherlock Holmes</span>\n",
       "<span class=\"subtitle\">Arthur Conan Doyle</span>\n",
       "<span class=\"extra\">16751 downloads</span>\n",
       "</span>\n",
       "<span class=\"hstrut\"></span>\n",
       "</a>\n",
       "</li>\n",
       "<li class=\"booklink\">\n",
       "<a accesskey=\"4\" class=\"link\" href=\"/ebooks/1400\">\n",
       "<span class=\"cell leftcell with-cover\">\n",
       "<img alt=\"\" class=\"cover-thumb\" src=\"/cache/epub/1400/pg1400.cover.small.jpg\"/>\n",
       "</span>\n",
       "<span class=\"cell content\">\n",
       "<span class=\"title\">Great Expectations</span>\n",
       "<span class=\"subtitle\">Charles Dickens</span>\n",
       "<span class=\"extra\">16395 downloads</span>\n",
       "</span>\n",
       "<span class=\"hstrut\"></span>\n",
       "</a>\n",
       "</li>\n",
       "<li class=\"booklink\">\n",
       "<a accesskey=\"5\" class=\"link\" href=\"/ebooks/1232\">\n",
       "<span class=\"cell leftcell with-cover\">\n",
       "<img alt=\"\" class=\"cover-thumb\" src=\"/cache/epub/1232/pg1232.cover.small.jpg\"/>\n",
       "</span>\n",
       "<span class=\"cell content\">\n",
       "<span class=\"title\">The Prince</span>\n",
       "<span class=\"subtitle\">Niccolò Machiavelli</span>\n",
       "<span class=\"extra\">15895 downloads</span>\n",
       "</span>\n",
       "<span class=\"hstrut\"></span>\n",
       "</a>\n",
       "</li>\n",
       "<li class=\"booklink\">\n",
       "<a accesskey=\"6\" class=\"link\" href=\"/ebooks/76\">\n",
       "<span class=\"cell leftcell with-cover\">\n",
       "<img alt=\"\" class=\"cover-thumb\" src=\"/cache/epub/76/pg76.cover.small.jpg\"/>\n",
       "</span>\n",
       "<span class=\"cell content\">\n",
       "<span class=\"title\">Adventures of Huckleberry Finn</span>\n",
       "<span class=\"subtitle\">Mark Twain</span>\n",
       "<span class=\"extra\">15846 downloads</span>\n",
       "</span>\n",
       "<span class=\"hstrut\"></span>\n",
       "</a>\n",
       "</li>\n",
       "<li class=\"booklink\">\n",
       "<a accesskey=\"7\" class=\"link\" href=\"/ebooks/6130\">\n",
       "<span class=\"cell leftcell with-cover\">\n",
       "<img alt=\"\" class=\"cover-thumb\" src=\"/cache/epub/6130/pg6130.cover.small.jpg\"/>\n",
       "</span>\n",
       "<span class=\"cell content\">\n",
       "<span class=\"title\">The Iliad</span>\n",
       "<span class=\"subtitle\">Homer</span>\n",
       "<span class=\"extra\">14446 downloads</span>\n",
       "</span>\n",
       "<span class=\"hstrut\"></span>\n",
       "</a>\n",
       "</li>\n",
       "<li class=\"statusline\">\n",
       "<div class=\"padded\">\n",
       "Displaying results 1–25\n",
       "<span class=\"links\">\n",
       "|\n",
       "<a accesskey=\"+\" href=\"/ebooks/search/?sort_order=downloads&amp;start_index=26\" title=\"Go to the next page of results.\">Next</a>\n",
       "</span>\n",
       "</div>\n",
       "</li>\n",
       "</ul>\n",
       "</div>\n",
       "</div>\n",
       "</div>\n",
       "<div class=\"footer\">\n",
       "<div>\n",
       "<ul>\n",
       "<li>\n",
       "<a href=\"/policy/privacy_policy.html\" title=\"Privacy Policy\">Privacy policy</a>\n",
       "</li>\n",
       "<li>\n",
       "<a href=\"/about/\" title=\"About Project Gutenberg\">About Project Gutenberg</a>\n",
       "</li>\n",
       "<li>\n",
       "<a href=\"/policy/terms_of_use.html\" title=\"Terms of Use\">Terms of Use</a>\n",
       "</li>\n",
       "<li>\n",
       "<a href=\"/about/contact_information.html\" title=\"Contact Information\">Contact Information</a>\n",
       "</li>\n",
       "<li><a href=\"/help/\" title=\"Get Help\">Get Help</a></li>\n",
       "</ul>\n",
       "<a href=\"https://www.ibiblio.org/\" title=\"Project Gutenberg is hosted by ibiblio\">\n",
       "<img alt=\"iBiblio\" src=\"/gutenberg/ibiblio-logo.png\"/>\n",
       "</a>\n",
       "</div>\n",
       "</div>\n",
       "<nav>\n",
       "<!--<div id=\"main_logo\"> -->\n",
       "<a class=\"no-hover\" href=\"/\" id=\"main_logo\">\n",
       "<img alt=\"Project Gutenberg\" draggable=\"false\" src=\"/gutenberg/pg-logo-129x80.png\"/>\n",
       "</a>\n",
       "<!--\t</div>-->\n",
       "<div id=\"menu\">\n",
       "<label for=\"tm\" id=\"toggle-menu\">Menu<span class=\"drop-icon\">▾</span></label>\n",
       "<input id=\"tm\" type=\"checkbox\"/>\n",
       "<ul class=\"main-menu cf\">\n",
       "<li>\n",
       "<a href=\"/about/\">About\n",
       "<span class=\"drop-icon\">▾</span>\n",
       "</a>\n",
       "<label class=\"drop-icon\" for=\"sm0\" title=\"Toggle Drop-down\">▾</label>\n",
       "<input id=\"sm0\" type=\"checkbox\"/>\n",
       "<ul class=\"sub-menu\">\n",
       "<li><a href=\"/about/\">About Project Gutenberg</a></li>\n",
       "<li><a href=\"/policy/collection_development.html\">Collection Development</a></li>\n",
       "<li><a href=\"/about/contact_information.html\">Contact Us</a></li>\n",
       "<li><a href=\"/about/background/\">History &amp; Philosophy</a></li>\n",
       "<li><a href=\"/policy/permission.html\">Permissions &amp; License</a></li>\n",
       "<li><a href=\"/policy/privacy_policy.html\">Privacy Policy</a></li>\n",
       "<li><a href=\"/policy/terms_of_use.html\">Terms of Use</a></li>\n",
       "</ul>\n",
       "</li>\n",
       "<li>\n",
       "<a href=\"/ebooks/\">Search and Browse\n",
       "<span class=\"drop-icon\">▾</span>\n",
       "</a>\n",
       "<label class=\"drop-icon\" for=\"sm8\" title=\"Toggle Drop-down\">▾</label>\n",
       "<input id=\"sm8\" type=\"checkbox\"/>\n",
       "<ul class=\"sub-menu\">\n",
       "<li><a href=\"/ebooks/\">Book Search</a></li>\n",
       "<li><a href=\"/ebooks/bookshelf/\">Bookshelves</a></li>\n",
       "<li><a href=\"/browse/scores/top\">Frequently Downloaded</a></li>\n",
       "<li><a href=\"/ebooks/offline_catalogs.html\">Offline Catalogs</a></li>\n",
       "</ul>\n",
       "</li>\n",
       "<li>\n",
       "<a href=\"/help/\">Help\n",
       "<span class=\"drop-icon\">▾</span>\n",
       "</a>\n",
       "<label class=\"drop-icon\" for=\"sm3\" title=\"Toggle Drop-down\">▾</label>\n",
       "<input id=\"sm3\" type=\"checkbox\"/>\n",
       "<ul class=\"sub-menu\">\n",
       "<li><a href=\"/help/\">All help topics →</a></li>\n",
       "<li><a href=\"/help/copyright.html\">Copyright Procedures</a></li>\n",
       "<li><a href=\"/help/errata.html\">Errata, Fixes and Bug Reports</a></li>\n",
       "<li><a href=\"/help/file_formats.html\">File Formats</a></li>\n",
       "<li><a href=\"/help/faq.html\">Frequently Asked Questions</a></li>\n",
       "<li><a href=\"/policy/\">Policies →</a></li>\n",
       "<li><a href=\"/help/public_domain_ebook_submission.html\">Public Domain eBook Submission</a></li>\n",
       "<li><a href=\"/help/submitting_your_own_work.html\">Submitting Your Own Work</a></li>\n",
       "<li><a href=\"/help/mobile.html\">Tablets, Phones and eReaders</a></li>\n",
       "<li><a href=\"/attic/\">The Attic →</a></li>\n",
       "</ul>\n",
       "</li>\n",
       "<li><a href=\"/donate/\">Donate</a></li>\n",
       "</ul>\n",
       "</div>\n",
       "<div class=\"donate\">\n",
       "<div class=\"searchbox\">\n",
       "<form accept-charset=\"utf-8\" action=\"/ebooks/search/\" class=\"searchbox\" enctype=\"multipart/form-data\" method=\"get\">\n",
       "<input class=\"searchInput\" id=\"menu-book-search\" maxlength=\"80\" name=\"query\" placeholder=\"Quick search\" size=\"20\" tabindex=\"20\" title=\"Quick search\" type=\"text\" value=\"\"/>\n",
       "<input name=\"submit_search\" style=\"vertical-align:middle;\" type=\"submit\" value=\"Go!\"/>\n",
       "</form>\n",
       "</div>\n",
       "<form action=\"https://www.paypal.com/cgi-bin/webscr\" class=\"donatelink\" method=\"post\" target=\"new\">\n",
       "<p><a href=\"/donate/\">Donation</a></p>\n",
       "<input name=\"cmd\" type=\"hidden\" value=\"_s-xclick\"/>\n",
       "<input name=\"hosted_button_id\" type=\"hidden\" value=\"XKAL6BZL3YPSN\"/>\n",
       "<input alt=\"Donate via PayPal\" class=\"donbtn\" name=\"submit\" src=\"/pics/en_US.gif\" type=\"image\"/>\n",
       "</form>\n",
       "</div>\n",
       "</nav>\n",
       "</body>\n",
       "</html>"
      ]
     },
     "execution_count": 22,
     "metadata": {},
     "output_type": "execute_result"
    }
   ],
   "source": [
    "# your code here\n",
    "url = \"https://www.gutenberg.org/ebooks/search/?sort_order=downloads\"\n",
    "response = requests.get(url)\n",
    "print(response.status_code)\n",
    "\n",
    "soup = BeautifulSoup(response.content, \"html.parser\")\n",
    "soup"
   ]
  },
  {
   "cell_type": "code",
   "execution_count": 53,
   "metadata": {},
   "outputs": [
    {
     "name": "stdout",
     "output_type": "stream",
     "text": [
      "Frankenstein; Or, The Modern Prometheus\n",
      "Pride and Prejudice\n",
      "Romeo and Juliet\n",
      "Calculus Made Easy\r\n",
      "The Scarlet Letter\n",
      "Alice's Adventures in Wonderland\n",
      "Dracula\n",
      "A Christmas Carol in Prose; Being a Ghost Story of Christmas\n",
      "The Great Gatsby\n",
      "A Doll's House : a play\n",
      "The Picture of Dorian Gray\n",
      "Simple Sabotage Field Manual\n",
      "Metamorphosis\n",
      "A Modest Proposal\r\n",
      "The Importance of Being Earnest: A Trivial Comedy for Serious People\n",
      "The Strange Case of Dr. Jekyll and Mr. Hyde\n",
      "Moby Dick; Or, The Whale\n",
      "The Yellow Wallpaper\n",
      "A Tale of Two Cities\n",
      "Jane Eyre: An Autobiography\n",
      "The Adventures of Sherlock Holmes\n",
      "Great Expectations\n",
      "The Prince\n",
      "Adventures of Huckleberry Finn\n",
      "The Iliad\n"
     ]
    }
   ],
   "source": [
    "title = []\n",
    "\n",
    "for k in soup.select(\".title\")[2:]:\n",
    "    title.append(k.get_text())\n",
    "    print(k.get_text())"
   ]
  },
  {
   "cell_type": "code",
   "execution_count": 57,
   "metadata": {},
   "outputs": [
    {
     "name": "stdout",
     "output_type": "stream",
     "text": [
      "Mary Wollstonecraft Shelley\n",
      "Jane Austen\n",
      "William Shakespeare\n",
      "Silvanus P. Thompson\n",
      "Nathaniel Hawthorne\n",
      "Lewis Carroll\n",
      "Bram Stoker\n",
      "Charles Dickens\n",
      "F. Scott Fitzgerald\n",
      "Henrik Ibsen\n",
      "Oscar Wilde\n",
      "United States. Office of Strategic Services\n",
      "Franz Kafka\n",
      "Jonathan Swift\n",
      "Oscar Wilde\n",
      "Robert Louis Stevenson\n",
      "Herman Melville\n",
      "Charlotte Perkins Gilman\n",
      "Charles Dickens\n",
      "Charlotte Brontë\n",
      "Arthur Conan Doyle\n",
      "Charles Dickens\n",
      "Niccolò Machiavelli\n",
      "Mark Twain\n",
      "Homer\n"
     ]
    }
   ],
   "source": [
    "author = []\n",
    "\n",
    "for k in soup.select(\".subtitle\"):\n",
    "    author.append(k.get_text())\n",
    "    print(k.get_text())"
   ]
  },
  {
   "cell_type": "code",
   "execution_count": 58,
   "metadata": {},
   "outputs": [],
   "source": [
    "lists = list(zip(author, title))\n"
   ]
  },
  {
   "cell_type": "code",
   "execution_count": 60,
   "metadata": {},
   "outputs": [],
   "source": [
    "book = pd.DataFrame(lists)"
   ]
  }
 ],
 "metadata": {
  "colab": {
   "name": "Web Scraping Code Along.ipynb",
   "provenance": [],
   "toc_visible": true
  },
  "kernelspec": {
   "display_name": "Python 3 (ipykernel)",
   "language": "python",
   "name": "python3"
  },
  "language_info": {
   "codemirror_mode": {
    "name": "ipython",
    "version": 3
   },
   "file_extension": ".py",
   "mimetype": "text/x-python",
   "name": "python",
   "nbconvert_exporter": "python",
   "pygments_lexer": "ipython3",
   "version": "3.11.5"
  },
  "toc": {
   "base_numbering": 1,
   "nav_menu": {},
   "number_sections": true,
   "sideBar": true,
   "skip_h1_title": false,
   "title_cell": "Table of Contents",
   "title_sidebar": "Contents",
   "toc_cell": false,
   "toc_position": {},
   "toc_section_display": true,
   "toc_window_display": false
  },
  "varInspector": {
   "cols": {
    "lenName": 16,
    "lenType": 16,
    "lenVar": 40
   },
   "kernels_config": {
    "python": {
     "delete_cmd_postfix": "",
     "delete_cmd_prefix": "del ",
     "library": "var_list.py",
     "varRefreshCmd": "print(var_dic_list())"
    },
    "r": {
     "delete_cmd_postfix": ") ",
     "delete_cmd_prefix": "rm(",
     "library": "var_list.r",
     "varRefreshCmd": "cat(var_dic_list()) "
    }
   },
   "types_to_exclude": [
    "module",
    "function",
    "builtin_function_or_method",
    "instance",
    "_Feature"
   ],
   "window_display": false
  }
 },
 "nbformat": 4,
 "nbformat_minor": 1
}
