{
 "cells": [
  {
   "cell_type": "code",
   "execution_count": 1,
   "id": "03efffdd",
   "metadata": {},
   "outputs": [],
   "source": [
    "from bs4 import BeautifulSoup\n",
    "import requests\n",
    "import pandas as pd\n",
    "import random"
   ]
  },
  {
   "cell_type": "code",
   "execution_count": 2,
   "id": "c944faad",
   "metadata": {},
   "outputs": [],
   "source": [
    "url = \"https://www.billboard.com/charts/hot-100/\"\n",
    "response = requests.get(url)\n",
    "response.status_code\n",
    "soup = BeautifulSoup(response.content, \"html.parser\")"
   ]
  },
  {
   "cell_type": "code",
   "execution_count": 3,
   "id": "a1a5dfca",
   "metadata": {},
   "outputs": [],
   "source": [
    "songs = [\n",
    "    \n",
    "]\n",
    "\n",
    "artist = [\n",
    "    \n",
    "]"
   ]
  },
  {
   "cell_type": "code",
   "execution_count": 4,
   "id": "a99db946",
   "metadata": {
    "scrolled": true
   },
   "outputs": [],
   "source": [
    "for k in (soup.select(\".c-title.a-no-trucate\")):\n",
    "    songs.append(k.get_text().strip())"
   ]
  },
  {
   "cell_type": "code",
   "execution_count": 5,
   "id": "fdb18406",
   "metadata": {},
   "outputs": [
    {
     "data": {
      "text/plain": [
       "['Cruel Summer',\n",
       " 'Lovin On Me',\n",
       " 'Paint The Town Red',\n",
       " 'Snooze',\n",
       " \"Is It Over Now? (Taylor's Version) [From The Vault]\",\n",
       " 'I Remember Everything',\n",
       " 'Fast Car',\n",
       " 'Greedy',\n",
       " 'Last Night',\n",
       " \"Thinkin' Bout Me\",\n",
       " 'Houdini',\n",
       " 'White Horse',\n",
       " 'Need A Favor',\n",
       " 'Agora Hills',\n",
       " 'Water',\n",
       " 'Rich Baby Daddy',\n",
       " 'All I Want For Christmas Is You',\n",
       " 'Fukumean',\n",
       " 'Save Me',\n",
       " 'Dance The Night',\n",
       " 'Vampire',\n",
       " 'Used To Be Young',\n",
       " 'Lil Boo Thang',\n",
       " 'Monaco',\n",
       " 'First Person Shooter',\n",
       " 'IDGAF',\n",
       " 'What Was I Made For?',\n",
       " 'Good Good',\n",
       " 'Flowers',\n",
       " 'My Love Mine All Mine',\n",
       " 'Stick Season',\n",
       " 'Last Christmas',\n",
       " \"Now That We Don't Talk (Taylor's Version) [From The Vault]\",\n",
       " 'Dial Drunk',\n",
       " 'What It Is (Block Boy)',\n",
       " 'Kill Bill',\n",
       " 'Northern Attitude',\n",
       " 'Jingle Bell Rock',\n",
       " 'Lose Control',\n",
       " 'Harley Quinn',\n",
       " 'Daylight',\n",
       " 'I Know ?',\n",
       " 'Wild Ones',\n",
       " 'A Holly Jolly Christmas',\n",
       " 'Barbie World',\n",
       " 'Pretty Little Poison',\n",
       " 'World On Fire',\n",
       " 'On My Mama',\n",
       " \"Slut! (Taylor's Version) [From The Vault]\",\n",
       " 'Standing Next To You',\n",
       " '500lbs',\n",
       " 'Strangers',\n",
       " \"Say Don't Go (Taylor's Version) [From The Vault]\",\n",
       " 'Bad Idea Right?',\n",
       " 'Great Gatsby',\n",
       " 'Get Him Back!',\n",
       " \"Can't Have Mine\",\n",
       " 'Virginia Beach',\n",
       " 'Everything I Love',\n",
       " 'Standing Room Only',\n",
       " 'Try That In A Small Town',\n",
       " 'The Painter',\n",
       " 'Cobra',\n",
       " 'Truck Bed',\n",
       " 'Qlona',\n",
       " 'Too Much',\n",
       " 'Perro Negro',\n",
       " 'Hey Driver',\n",
       " \"Style (Taylor's Version)\",\n",
       " 'Rich Men North Of Richmond',\n",
       " 'Meltdown',\n",
       " 'Bongos',\n",
       " 'Slime You Out',\n",
       " 'Segun Quien',\n",
       " 'Que Onda',\n",
       " 'Now And Then',\n",
       " 'Single Soon',\n",
       " 'Burn It Down',\n",
       " 'LaLa',\n",
       " \"Bad Blood (Taylor's Version)\",\n",
       " \"Can't Catch Me Now\",\n",
       " 'Turks & Caicos',\n",
       " 'SkeeYee',\n",
       " '3D',\n",
       " \"Out Of The Woods (Taylor's Version)\",\n",
       " \"Wildest Dreams (Taylor's Version)\",\n",
       " 'El Amor de Su Vida',\n",
       " 'Save Me The Trouble',\n",
       " 'Stars Like Confetti',\n",
       " 'LALALALA',\n",
       " 'Seven',\n",
       " \"Suburban Legends (Taylor's Version) [From The Vault]\",\n",
       " \"Blank Space (Taylor's Version)\",\n",
       " \"We Don't Fight Anymore\",\n",
       " 'Smurk Carter',\n",
       " 'Mi Ex Tenia Razon',\n",
       " \"Different 'Round Here\",\n",
       " 'But I Got A Beer In My Hand',\n",
       " 'Better Than Ever',\n",
       " 'Soak City (Do It)']"
      ]
     },
     "execution_count": 5,
     "metadata": {},
     "output_type": "execute_result"
    }
   ],
   "source": [
    "songs"
   ]
  },
  {
   "cell_type": "code",
   "execution_count": 6,
   "id": "f145937d",
   "metadata": {},
   "outputs": [],
   "source": [
    "for k in (soup.select(\".c-label.a-no-trucate\")):\n",
    "    artist.append(k.get_text().strip())"
   ]
  },
  {
   "cell_type": "code",
   "execution_count": 7,
   "id": "226c9896",
   "metadata": {},
   "outputs": [
    {
     "data": {
      "text/plain": [
       "['Taylor Swift',\n",
       " 'Jack Harlow',\n",
       " 'Doja Cat',\n",
       " 'SZA',\n",
       " 'Taylor Swift',\n",
       " 'Zach Bryan Featuring Kacey Musgraves',\n",
       " 'Luke Combs',\n",
       " 'Tate McRae',\n",
       " 'Morgan Wallen',\n",
       " 'Morgan Wallen',\n",
       " 'Dua Lipa',\n",
       " 'Chris Stapleton',\n",
       " 'Jelly Roll',\n",
       " 'Doja Cat',\n",
       " 'Tyla',\n",
       " 'Drake Featuring Sexyy Red & SZA',\n",
       " 'Mariah Carey',\n",
       " 'Gunna',\n",
       " 'Jelly Roll With Lainey Wilson',\n",
       " 'Dua Lipa',\n",
       " 'Olivia Rodrigo',\n",
       " 'Miley Cyrus',\n",
       " 'Paul Russell',\n",
       " 'Bad Bunny',\n",
       " 'Drake Featuring J. Cole',\n",
       " 'Drake Featuring Yeat',\n",
       " 'Billie Eilish',\n",
       " 'Usher, Summer Walker & 21 Savage',\n",
       " 'Miley Cyrus',\n",
       " 'Mitski',\n",
       " 'Noah Kahan',\n",
       " 'Wham!',\n",
       " 'Taylor Swift',\n",
       " 'Noah Kahan With Post Malone',\n",
       " 'Doechii Featuring Kodak Black',\n",
       " 'SZA',\n",
       " 'Noah Kahan With Hozier',\n",
       " 'Bobby Helms',\n",
       " 'Teddy Swims',\n",
       " 'Fuerza Regida & Marshmello',\n",
       " 'David Kushner',\n",
       " 'Travis Scott',\n",
       " 'Jessie Murph & Jelly Roll',\n",
       " 'Burl Ives',\n",
       " 'Nicki Minaj & Ice Spice With Aqua',\n",
       " 'Warren Zeiders',\n",
       " 'Nate Smith',\n",
       " 'Victoria Monet',\n",
       " 'Taylor Swift',\n",
       " 'Jung Kook',\n",
       " 'Lil Tecca',\n",
       " 'Kenya Grace',\n",
       " 'Taylor Swift',\n",
       " 'Olivia Rodrigo',\n",
       " 'Rod Wave',\n",
       " 'Olivia Rodrigo',\n",
       " 'Dylan Scott',\n",
       " 'Drake',\n",
       " 'Morgan Wallen',\n",
       " 'Tim McGraw',\n",
       " 'Jason Aldean',\n",
       " 'Cody Johnson',\n",
       " 'Megan Thee Stallion',\n",
       " 'HARDY',\n",
       " 'Karol G & Peso Pluma',\n",
       " 'The Kid LAROI, Jung Kook & Central Cee',\n",
       " 'Bad Bunny & Feid',\n",
       " 'Zach Bryan Featuring The War And Treaty',\n",
       " 'Taylor Swift',\n",
       " 'Oliver Anthony Music',\n",
       " 'Travis Scott Featuring Drake',\n",
       " 'Cardi B & Megan Thee Stallion',\n",
       " 'Drake Featuring SZA',\n",
       " 'Maluma & Carin Leon',\n",
       " 'Calle 24 x Chino Pacas x Fuerza Regida',\n",
       " 'The Beatles',\n",
       " 'Selena Gomez',\n",
       " 'Parker McCollum',\n",
       " 'Myke Towers',\n",
       " 'Taylor Swift',\n",
       " 'Olivia Rodrigo',\n",
       " 'Rod Wave Featuring 21 Savage',\n",
       " 'Sexyy Red',\n",
       " 'Jung Kook & Jack Harlow',\n",
       " 'Taylor Swift',\n",
       " 'Taylor Swift',\n",
       " 'Grupo Frontera & Grupo Firme',\n",
       " 'Dan + Shay',\n",
       " 'Dustin Lynch',\n",
       " 'Stray Kids',\n",
       " 'Jung Kook Featuring Latto',\n",
       " 'Taylor Swift',\n",
       " 'Taylor Swift',\n",
       " 'Carly Pearce Featuring Chris Stapleton',\n",
       " 'Lil Durk',\n",
       " 'Karol G',\n",
       " 'Riley Green Featuring Luke Combs',\n",
       " 'Luke Bryan',\n",
       " 'YoungBoy Never Broke Again & Rod Wave',\n",
       " '310babii']"
      ]
     },
     "execution_count": 7,
     "metadata": {},
     "output_type": "execute_result"
    }
   ],
   "source": [
    "artist"
   ]
  },
  {
   "cell_type": "code",
   "execution_count": 8,
   "id": "8850996e",
   "metadata": {},
   "outputs": [],
   "source": [
    "merge = list(zip(artist, songs))"
   ]
  },
  {
   "cell_type": "code",
   "execution_count": 9,
   "id": "74627b4a",
   "metadata": {},
   "outputs": [],
   "source": [
    "top100 = pd.DataFrame(merge, columns = [\"Artist\", \"Songs\"])"
   ]
  },
  {
   "cell_type": "code",
   "execution_count": 10,
   "id": "4bdb9bc8",
   "metadata": {
    "scrolled": false
   },
   "outputs": [
    {
     "data": {
      "text/html": [
       "<div>\n",
       "<style scoped>\n",
       "    .dataframe tbody tr th:only-of-type {\n",
       "        vertical-align: middle;\n",
       "    }\n",
       "\n",
       "    .dataframe tbody tr th {\n",
       "        vertical-align: top;\n",
       "    }\n",
       "\n",
       "    .dataframe thead th {\n",
       "        text-align: right;\n",
       "    }\n",
       "</style>\n",
       "<table border=\"1\" class=\"dataframe\">\n",
       "  <thead>\n",
       "    <tr style=\"text-align: right;\">\n",
       "      <th></th>\n",
       "      <th>Artist</th>\n",
       "      <th>Songs</th>\n",
       "    </tr>\n",
       "  </thead>\n",
       "  <tbody>\n",
       "    <tr>\n",
       "      <th>0</th>\n",
       "      <td>Taylor Swift</td>\n",
       "      <td>Cruel Summer</td>\n",
       "    </tr>\n",
       "    <tr>\n",
       "      <th>1</th>\n",
       "      <td>Jack Harlow</td>\n",
       "      <td>Lovin On Me</td>\n",
       "    </tr>\n",
       "    <tr>\n",
       "      <th>2</th>\n",
       "      <td>Doja Cat</td>\n",
       "      <td>Paint The Town Red</td>\n",
       "    </tr>\n",
       "    <tr>\n",
       "      <th>3</th>\n",
       "      <td>SZA</td>\n",
       "      <td>Snooze</td>\n",
       "    </tr>\n",
       "    <tr>\n",
       "      <th>4</th>\n",
       "      <td>Taylor Swift</td>\n",
       "      <td>Is It Over Now? (Taylor's Version) [From The V...</td>\n",
       "    </tr>\n",
       "    <tr>\n",
       "      <th>...</th>\n",
       "      <td>...</td>\n",
       "      <td>...</td>\n",
       "    </tr>\n",
       "    <tr>\n",
       "      <th>95</th>\n",
       "      <td>Karol G</td>\n",
       "      <td>Mi Ex Tenia Razon</td>\n",
       "    </tr>\n",
       "    <tr>\n",
       "      <th>96</th>\n",
       "      <td>Riley Green Featuring Luke Combs</td>\n",
       "      <td>Different 'Round Here</td>\n",
       "    </tr>\n",
       "    <tr>\n",
       "      <th>97</th>\n",
       "      <td>Luke Bryan</td>\n",
       "      <td>But I Got A Beer In My Hand</td>\n",
       "    </tr>\n",
       "    <tr>\n",
       "      <th>98</th>\n",
       "      <td>YoungBoy Never Broke Again &amp; Rod Wave</td>\n",
       "      <td>Better Than Ever</td>\n",
       "    </tr>\n",
       "    <tr>\n",
       "      <th>99</th>\n",
       "      <td>310babii</td>\n",
       "      <td>Soak City (Do It)</td>\n",
       "    </tr>\n",
       "  </tbody>\n",
       "</table>\n",
       "<p>100 rows × 2 columns</p>\n",
       "</div>"
      ],
      "text/plain": [
       "                                   Artist  \\\n",
       "0                            Taylor Swift   \n",
       "1                             Jack Harlow   \n",
       "2                                Doja Cat   \n",
       "3                                     SZA   \n",
       "4                            Taylor Swift   \n",
       "..                                    ...   \n",
       "95                                Karol G   \n",
       "96       Riley Green Featuring Luke Combs   \n",
       "97                             Luke Bryan   \n",
       "98  YoungBoy Never Broke Again & Rod Wave   \n",
       "99                               310babii   \n",
       "\n",
       "                                                Songs  \n",
       "0                                        Cruel Summer  \n",
       "1                                         Lovin On Me  \n",
       "2                                  Paint The Town Red  \n",
       "3                                              Snooze  \n",
       "4   Is It Over Now? (Taylor's Version) [From The V...  \n",
       "..                                                ...  \n",
       "95                                  Mi Ex Tenia Razon  \n",
       "96                              Different 'Round Here  \n",
       "97                        But I Got A Beer In My Hand  \n",
       "98                                   Better Than Ever  \n",
       "99                                  Soak City (Do It)  \n",
       "\n",
       "[100 rows x 2 columns]"
      ]
     },
     "execution_count": 10,
     "metadata": {},
     "output_type": "execute_result"
    }
   ],
   "source": [
    "top100"
   ]
  },
  {
   "cell_type": "code",
   "execution_count": 24,
   "id": "7943b182",
   "metadata": {},
   "outputs": [],
   "source": [
    "import numpy as np\n",
    "import pandas as pd\n",
    "import pickle\n",
    "from sklearn import datasets # sklearn comes with some toy datasets to practice\n",
    "from sklearn.preprocessing import StandardScaler\n",
    "from sklearn.cluster import KMeans\n",
    "import matplotlib.pyplot as plt\n",
    "from sklearn.metrics import silhouette_score\n",
    "import spotipy\n",
    "import json\n",
    "from spotipy.oauth2 import SpotifyClientCredentials\n",
    "import matplotlib.pyplot as plt"
   ]
  },
  {
   "cell_type": "code",
   "execution_count": 21,
   "id": "7fa14c2b",
   "metadata": {},
   "outputs": [
    {
     "ename": "ModuleNotFoundError",
     "evalue": "No module named 'config'",
     "output_type": "error",
     "traceback": [
      "\u001b[1;31m---------------------------------------------------------------------------\u001b[0m",
      "\u001b[1;31mModuleNotFoundError\u001b[0m                       Traceback (most recent call last)",
      "Cell \u001b[1;32mIn[20], line 1\u001b[0m\n\u001b[1;32m----> 1\u001b[0m \u001b[38;5;28;01mimport\u001b[39;00m \u001b[38;5;21;01mconfig\u001b[39;00m\n",
      "\u001b[1;31mModuleNotFoundError\u001b[0m: No module named 'config'"
     ]
    },
    {
     "ename": "ModuleNotFoundError",
     "evalue": "No module named 'config'",
     "output_type": "error",
     "traceback": [
      "\u001b[1;31m---------------------------------------------------------------------------\u001b[0m",
      "\u001b[1;31mModuleNotFoundError\u001b[0m                       Traceback (most recent call last)",
      "Cell \u001b[1;32mIn[21], line 1\u001b[0m\n\u001b[1;32m----> 1\u001b[0m get_ipython()\u001b[38;5;241m.\u001b[39mrun_line_magic(\u001b[38;5;124m'\u001b[39m\u001b[38;5;124mrun\u001b[39m\u001b[38;5;124m'\u001b[39m, \u001b[38;5;124m'\u001b[39m\u001b[38;5;124mSpotify_Structure.ipynb\u001b[39m\u001b[38;5;124m'\u001b[39m)\n",
      "File \u001b[1;32m~\\anaconda3\\Lib\\site-packages\\IPython\\core\\interactiveshell.py:2432\u001b[0m, in \u001b[0;36mInteractiveShell.run_line_magic\u001b[1;34m(self, magic_name, line, _stack_depth)\u001b[0m\n\u001b[0;32m   2430\u001b[0m     kwargs[\u001b[38;5;124m'\u001b[39m\u001b[38;5;124mlocal_ns\u001b[39m\u001b[38;5;124m'\u001b[39m] \u001b[38;5;241m=\u001b[39m \u001b[38;5;28mself\u001b[39m\u001b[38;5;241m.\u001b[39mget_local_scope(stack_depth)\n\u001b[0;32m   2431\u001b[0m \u001b[38;5;28;01mwith\u001b[39;00m \u001b[38;5;28mself\u001b[39m\u001b[38;5;241m.\u001b[39mbuiltin_trap:\n\u001b[1;32m-> 2432\u001b[0m     result \u001b[38;5;241m=\u001b[39m fn(\u001b[38;5;241m*\u001b[39margs, \u001b[38;5;241m*\u001b[39m\u001b[38;5;241m*\u001b[39mkwargs)\n\u001b[0;32m   2434\u001b[0m \u001b[38;5;66;03m# The code below prevents the output from being displayed\u001b[39;00m\n\u001b[0;32m   2435\u001b[0m \u001b[38;5;66;03m# when using magics with decorator @output_can_be_silenced\u001b[39;00m\n\u001b[0;32m   2436\u001b[0m \u001b[38;5;66;03m# when the last Python token in the expression is a ';'.\u001b[39;00m\n\u001b[0;32m   2437\u001b[0m \u001b[38;5;28;01mif\u001b[39;00m \u001b[38;5;28mgetattr\u001b[39m(fn, magic\u001b[38;5;241m.\u001b[39mMAGIC_OUTPUT_CAN_BE_SILENCED, \u001b[38;5;28;01mFalse\u001b[39;00m):\n",
      "File \u001b[1;32m~\\anaconda3\\Lib\\site-packages\\IPython\\core\\magics\\execution.py:737\u001b[0m, in \u001b[0;36mExecutionMagics.run\u001b[1;34m(self, parameter_s, runner, file_finder)\u001b[0m\n\u001b[0;32m    735\u001b[0m     \u001b[38;5;28;01mwith\u001b[39;00m preserve_keys(\u001b[38;5;28mself\u001b[39m\u001b[38;5;241m.\u001b[39mshell\u001b[38;5;241m.\u001b[39muser_ns, \u001b[38;5;124m'\u001b[39m\u001b[38;5;124m__file__\u001b[39m\u001b[38;5;124m'\u001b[39m):\n\u001b[0;32m    736\u001b[0m         \u001b[38;5;28mself\u001b[39m\u001b[38;5;241m.\u001b[39mshell\u001b[38;5;241m.\u001b[39muser_ns[\u001b[38;5;124m'\u001b[39m\u001b[38;5;124m__file__\u001b[39m\u001b[38;5;124m'\u001b[39m] \u001b[38;5;241m=\u001b[39m filename\n\u001b[1;32m--> 737\u001b[0m         \u001b[38;5;28mself\u001b[39m\u001b[38;5;241m.\u001b[39mshell\u001b[38;5;241m.\u001b[39msafe_execfile_ipy(filename, raise_exceptions\u001b[38;5;241m=\u001b[39m\u001b[38;5;28;01mTrue\u001b[39;00m)\n\u001b[0;32m    738\u001b[0m     \u001b[38;5;28;01mreturn\u001b[39;00m\n\u001b[0;32m    740\u001b[0m \u001b[38;5;66;03m# Control the response to exit() calls made by the script being run\u001b[39;00m\n",
      "File \u001b[1;32m~\\anaconda3\\Lib\\site-packages\\IPython\\core\\interactiveshell.py:2954\u001b[0m, in \u001b[0;36mInteractiveShell.safe_execfile_ipy\u001b[1;34m(self, fname, shell_futures, raise_exceptions)\u001b[0m\n\u001b[0;32m   2952\u001b[0m result \u001b[38;5;241m=\u001b[39m \u001b[38;5;28mself\u001b[39m\u001b[38;5;241m.\u001b[39mrun_cell(cell, silent\u001b[38;5;241m=\u001b[39m\u001b[38;5;28;01mTrue\u001b[39;00m, shell_futures\u001b[38;5;241m=\u001b[39mshell_futures)\n\u001b[0;32m   2953\u001b[0m \u001b[38;5;28;01mif\u001b[39;00m raise_exceptions:\n\u001b[1;32m-> 2954\u001b[0m     result\u001b[38;5;241m.\u001b[39mraise_error()\n\u001b[0;32m   2955\u001b[0m \u001b[38;5;28;01melif\u001b[39;00m \u001b[38;5;129;01mnot\u001b[39;00m result\u001b[38;5;241m.\u001b[39msuccess:\n\u001b[0;32m   2956\u001b[0m     \u001b[38;5;28;01mbreak\u001b[39;00m\n",
      "File \u001b[1;32m~\\anaconda3\\Lib\\site-packages\\IPython\\core\\interactiveshell.py:270\u001b[0m, in \u001b[0;36mExecutionResult.raise_error\u001b[1;34m(self)\u001b[0m\n\u001b[0;32m    268\u001b[0m     \u001b[38;5;28;01mraise\u001b[39;00m \u001b[38;5;28mself\u001b[39m\u001b[38;5;241m.\u001b[39merror_before_exec\n\u001b[0;32m    269\u001b[0m \u001b[38;5;28;01mif\u001b[39;00m \u001b[38;5;28mself\u001b[39m\u001b[38;5;241m.\u001b[39merror_in_exec \u001b[38;5;129;01mis\u001b[39;00m \u001b[38;5;129;01mnot\u001b[39;00m \u001b[38;5;28;01mNone\u001b[39;00m:\n\u001b[1;32m--> 270\u001b[0m     \u001b[38;5;28;01mraise\u001b[39;00m \u001b[38;5;28mself\u001b[39m\u001b[38;5;241m.\u001b[39merror_in_exec\n",
      "    \u001b[1;31m[... skipping hidden 1 frame]\u001b[0m\n",
      "Cell \u001b[1;32mIn[20], line 1\u001b[0m\n\u001b[1;32m----> 1\u001b[0m \u001b[38;5;28;01mimport\u001b[39;00m \u001b[38;5;21;01mconfig\u001b[39;00m\n",
      "\u001b[1;31mModuleNotFoundError\u001b[0m: No module named 'config'"
     ]
    }
   ],
   "source": [
    "%run Spotify_Structure.ipynb"
   ]
  },
  {
   "cell_type": "code",
   "execution_count": 14,
   "id": "22dc3181",
   "metadata": {},
   "outputs": [
    {
     "name": "stdout",
     "output_type": "stream",
     "text": [
      "What is your favourite song ?Cruel Summer\n"
     ]
    }
   ],
   "source": [
    "#Ask the user what his favourite 3 groups are.\n",
    "user_input = input(\"What is your favourite song ?\")"
   ]
  },
  {
   "cell_type": "code",
   "execution_count": 16,
   "id": "71bc40d2",
   "metadata": {},
   "outputs": [
    {
     "name": "stdout",
     "output_type": "stream",
     "text": [
      "What is your favourite song ?Cruel Summer\n",
      "We recommend you to listen to Greedy !\n"
     ]
    }
   ],
   "source": [
    "#Ask the user what his favourite 3 groups are.\n",
    "user_input = input(\"What is your favourite song ?\")\n",
    "\n",
    "random_song = random.choice(top100[\"Songs\"].values)\n",
    "\n",
    "if user_input in top100[\"Songs\"].values:\n",
    "    print(f\"We recommend you to listen to {random_song} !\")\n",
    "else:\n",
    "    print(\"Try again !\")"
   ]
  },
  {
   "cell_type": "code",
   "execution_count": null,
   "id": "b09975a6",
   "metadata": {},
   "outputs": [],
   "source": []
  }
 ],
 "metadata": {
  "kernelspec": {
   "display_name": "Python 3 (ipykernel)",
   "language": "python",
   "name": "python3"
  },
  "language_info": {
   "codemirror_mode": {
    "name": "ipython",
    "version": 3
   },
   "file_extension": ".py",
   "mimetype": "text/x-python",
   "name": "python",
   "nbconvert_exporter": "python",
   "pygments_lexer": "ipython3",
   "version": "3.11.5"
  }
 },
 "nbformat": 4,
 "nbformat_minor": 5
}
